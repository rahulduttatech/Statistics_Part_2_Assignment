{
  "nbformat": 4,
  "nbformat_minor": 0,
  "metadata": {
    "colab": {
      "provenance": []
    },
    "kernelspec": {
      "name": "python3",
      "display_name": "Python 3"
    },
    "language_info": {
      "name": "python"
    }
  },
  "cells": [
    {
      "cell_type": "markdown",
      "source": [
        "**Q1. What is hypothesis testing in statistics .**"
      ],
      "metadata": {
        "id": "AG3izhCKqC9O"
      }
    },
    {
      "cell_type": "markdown",
      "source": [
        "**Ans1.** Hypothesis testing is a statistical method used to make decisions or inferences about a population based on sample data. It helps us determine whether a certain assumption (hypothesis) about a population parameter is true or not.\n",
        "\n",
        "**Steps in Hypothesis Testing:**\n",
        "\n",
        "1. State the Hypotheses  \n",
        "   - Null Hypothesis (\\(H_0\\)): This is the default assumption, meaning there is no effect or no significant difference.  \n",
        "   - Alternative Hypothesis (\\(H_1\\)): This is what we want to test and prove, stating that there is an effect or a difference.\n",
        "\n",
        "2. Set the Significance Level ((alpha))\n",
        "   - Usually set at 0.05 (5%), which means we are willing to accept a 5% chance of making a wrong decision.\n",
        "\n",
        "3. Choose a Test Statistic  \n",
        "   - Depending on the type of data and hypothesis, we use tests like t-test, z-test, chi-square test, etc.\n",
        "\n",
        "4. Calculate the p-value\n",
        "   - The p-value tells us how likely we would observe our sample data if the null hypothesis were true.\n",
        "\n",
        "5. Make a Decision  \n",
        "   - If p-value < \\(alpha), we reject \\(H_0\\) and accept \\(H_1\\), meaning there is significant evidence to support the alternative hypothesis.  \n",
        "   - If p-value ≥ \\(alpha), we fail to reject \\(H_0\\), meaning we don’t have enough evidence to support \\(H_1\\).\n",
        "\n",
        " **Example:**\n",
        "\n",
        "Suppose a company claims their average delivery time is 30 minutes. A sample of deliveries is tested, and the average is found to be 32 minutes. We perform hypothesis testing to check if the company's claim is true or not.\n",
        "\n",
        "- \\(H_0\\): The average delivery time = 30 minutes.  \n",
        "- \\(H_1\\): The average delivery time ≠ 30 minutes.  \n",
        "\n",
        "If the test results show a p-value less than 0.05, we reject \\(H_0\\) and conclude that the delivery time is significantly different from 30 minutes.\n"
      ],
      "metadata": {
        "id": "aKNv1oJ6qHf-"
      }
    },
    {
      "cell_type": "markdown",
      "source": [
        "**Q2. What is the null hypothesis, and how does it differ from the alternative hypothesis?**"
      ],
      "metadata": {
        "id": "jvC9u8MfsCQV"
      }
    },
    {
      "cell_type": "markdown",
      "source": [
        "**Ans2 .**  Null Hypothesis (\\(H_0\\)) vs. Alternative Hypothesis (\\(H_1\\))  \n",
        "\n",
        "A hypothesis is an assumption or claim that we test using statistical methods. In hypothesis testing, we always have two competing hypotheses:  \n",
        "\n",
        " **1. Null Hypothesis (\\(H_0\\))**  \n",
        "- This is the default assumption or status quo.  \n",
        "- It assumes no effect, no difference, or no relationship in the population.  \n",
        "- We either reject or fail to reject the null hypothesis based on the data.  \n",
        "- It is written as an equality (e.g., \\(H_0: \\mu = 50\\)).  \n",
        "\n",
        " **2. Alternative Hypothesis (\\(H_1\\) or \\(H_A\\))**  \n",
        "- This is what we are trying to prove.  \n",
        "- It suggests that there is an effect, difference, or relationship in the population.  \n",
        "- If we reject \\(H_0\\), we accept \\(H_1\\) as a better explanation.  \n",
        "- It is written as an inequality (e.g., \\(H_1: \\mu \\neq 50\\)).  \n",
        "\n",
        " **Key Differences**\n",
        "\n",
        "| Feature             | Null Hypothesis (\\(H_0\\)) | Alternative Hypothesis (\\(H_1\\)) |\n",
        "|--------------------|-----------------------|------------------------------|\n",
        "| **Meaning**        | No effect, no change  | There is an effect/change |\n",
        "| **Mathematical Form** | Uses **=, ≥, or ≤**  | Uses **≠, <, or >** |\n",
        "| **Goal**          | To test if it should be rejected | To provide an alternative explanation |\n",
        "| **Example (Medicine)** | \"This drug has no effect on blood pressure\" | \"This drug reduces blood pressure\" |\n",
        "\n",
        " **Example Scenario: New Teaching Method**\n",
        "A school wants to check if a new teaching method improves student scores compared to the traditional method.\n",
        "\n",
        "- \\(H_0\\): The new method has no effect on student scores. (Average scores remain the same.)  \n",
        "- \\(H_1\\): The new method improves student scores.  \n",
        "\n",
        "If statistical tests give a low p-value (< 0.05), we reject \\(H_0\\) and conclude that the new method is effective. Otherwise, we fail to reject \\(H_0\\), meaning we don’t have enough evidence to say the method is better.  \n",
        "\n",
        "So, in simple terms:  \n",
        "- \\(H_0\\) = \"Nothing new is happening.\"  \n",
        "- \\(H_1\\) = \"Something interesting is happening!\"  \n",
        "\n"
      ],
      "metadata": {
        "id": "ZN9GVmyRsFaF"
      }
    },
    {
      "cell_type": "markdown",
      "source": [
        "**Q3. What is the significance level in hypothesis testing, and why is it important?**"
      ],
      "metadata": {
        "id": "KfXrvcJ3stk6"
      }
    },
    {
      "cell_type": "markdown",
      "source": [
        " **Significance Level (\\(alpha)) in Hypothesis Testing**  \n",
        "\n",
        "The significance level, denoted by \\(alpha) (alpha), is the probability of rejecting the null hypothesis (\\(H_0\\)) when it is actually true. It represents the risk we are willing to take of making a Type I error (false positive).  \n",
        "\n",
        " **Why is it Important:**  \n",
        "- It controls the probability of making an incorrect rejection of \\(H_0\\).  \n",
        "- It sets the threshold for deciding whether our test results are statistically significant.  \n",
        "- A smaller \\(\\alpha\\) means we are more strict in rejecting \\(H_0\\), while a larger \\(\\alpha\\) makes rejection easier.\n",
        "\n",
        " **Common Values of \\(alpha)**\n",
        "| Significance Level (\\(alpha)) | Confidence Level (\\(1 - alpha)) | Interpretation |\n",
        "|----------------|-----------------|------------------|\n",
        "| 0.10 (10%) | 90% | More lenient, higher chance of rejecting \\(H_0\\) |\n",
        "| 0.05 (5%)  | 95% | Standard in most studies, balanced approach |\n",
        "| 0.01 (1%)  | 99% | Very strict, less chance of rejecting \\(H_0\\) |\n",
        "\n",
        " **Example Scenario: Drug Effectiveness Test**\n",
        "A pharmaceutical company tests whether a new drug lowers blood pressure.  \n",
        "- \\(H_0\\): The drug has no effect on blood pressure.  \n",
        "- \\(H_1\\): The drug lowers blood pressure.  \n",
        "- \\(alpha = 0.05) is chosen, meaning a 5% chance of mistakenly rejecting \\(H_0\\).  \n",
        "\n",
        " If the p-value from our test is less than 0.05, we reject \\(H_0\\) and conclude the drug is effective.  \n",
        " If the p-value is greater than 0.05, we fail to reject \\(H_0\\) and say there isn’t enough evidence to prove the drug works.  \n",
        "\n",
        " **Key Takeaway**  \n",
        "The significance level is like a \"cutoff point\" that helps decide if our test results are strong enough to reject \\(H_0\\). Choosing the right \\(\\alpha\\) depends on the situation— lower \\(\\alpha\\) for more serious cases (e.g., medical studies) and higher \\(\\alpha\\) for exploratory research.  \n",
        "\n"
      ],
      "metadata": {
        "id": "Ap3RMbsZMRSu"
      }
    },
    {
      "cell_type": "markdown",
      "source": [
        "**Q4.** **What does a P-value represent in hypothesis testing?**"
      ],
      "metadata": {
        "id": "PVvUyMI6udT4"
      }
    },
    {
      "cell_type": "markdown",
      "source": [
        "**Ans4.**  What is a P-value in Hypothesis Testing?  \n",
        "\n",
        "A P-value (probability value) tells us how likely we would get our observed data (or something more extreme) if the null hypothesis (\\(H_0\\)) were true.  \n",
        "\n",
        "In simple terms, the P-value helps us decide whether to reject \\(H_0\\) or not based on the significance level (\\(alpha)).  \n",
        "\n",
        "\n",
        " **How to Interpret the P-value?**\n",
        "- Low P-value (\\(< alpha)) → Reject \\(H_0\\)\n",
        "  - This means our data provides strong evidence against the null hypothesis.  \n",
        "  - The result is statistically significant.\n",
        "  \n",
        "- High P-value (\\(\\geq \\alpha\\)) → Fail to reject \\(H_0\\)\n",
        "  - This means our data does not provide enough evidence to reject \\(H_0\\).  \n",
        "  - The result is not statistically significant.  \n",
        "\n",
        "| **P-value**  | **Interpretation** |\n",
        "|-------------|------------------|\n",
        "| \\(< 0.01\\) | Very strong evidence against \\(H_0\\) |\n",
        "| \\(< 0.05\\) | Moderate evidence against \\(H_0\\) |\n",
        "| \\(> 0.05\\) | Weak evidence against \\(H_0\\) |\n",
        "| \\(> 0.10\\) | No evidence against \\(H_0\\) |\n",
        "\n",
        "\n",
        " **Example Scenario: Testing a New Medicine**  \n",
        "A company tests a new pain relief drug to see if it works better than the existing one.  \n",
        "\n",
        "- \\(H_0\\): The new drug has no effect (same as the old drug).  \n",
        "- \\(H_1\\): The new drug reduces pain more than the old drug.  \n",
        "- Significance level: \\(alpha = 0.05) (5% risk of rejecting \\(H_0\\) wrongly).  \n",
        "\n",
        "After running the test, they get P-value = 0.02.  \n",
        "\n",
        "- Since P-value (0.02) < \\(alpha) (0.05), we reject \\(H_0\\).  \n",
        "- This means the drug likely has a real effect in reducing pain.  \n",
        "\n",
        " **Key Takeaways**  \n",
        "1. The P-value measures the strength of evidence against \\(H_0\\).  \n",
        "2. Smaller P-value → Stronger evidence to reject \\(H_0\\).  \n",
        "3. Larger P-value → Not enough evidence to reject \\(H_0\\).  \n"
      ],
      "metadata": {
        "id": "qi2Qua0Ou1A5"
      }
    },
    {
      "cell_type": "markdown",
      "source": [
        "**Q5.  How do you interpret the P-value in hypothesis testing?**"
      ],
      "metadata": {
        "id": "JlRs2oQGwaK3"
      }
    },
    {
      "cell_type": "markdown",
      "source": [
        "**Ans5.**   The P-value tells us how likely it is to get our sample results if the null hypothesis (\\(H_0\\)) were true. It helps us decide whether to reject or fail to reject \\(H_0\\).  \n",
        "\n",
        " **Steps to Interpret the P-value**  \n",
        "1. Compare the P-value with the significance level (\\(alpha))  \n",
        "   - The significance level (\\(\\alpha\\)) is usually 0.05 (5%) but can be 0.01 (1%) or 0.10 (10%) depending on the study.  \n",
        "   - If P-value < \\(\\alpha\\) → Reject \\(H_0\\) (Evidence suggests \\(H_1\\) is true).  \n",
        "   - If P-value ≥ \\(\\alpha\\) → Fail to reject \\(H_0\\) (Not enough evidence to support \\(H_1\\)).  \n",
        "\n",
        " **Interpretation Based on P-value Range**\n",
        "| **P-value**  | **Decision** | **Interpretation** |\n",
        "|-------------|------------|------------------|\n",
        "| **\\(P < 0.01\\)** | Strongly reject \\(H_0\\) | Very strong evidence against \\(H_0\\) |\n",
        "| **\\(0.01 \\leq P < 0.05\\)** | Reject \\(H_0\\) | Moderate evidence against \\(H_0\\) |\n",
        "| **\\(0.05 \\leq P < 0.10\\)** | Weak evidence against \\(H_0\\) | Marginally significant result |\n",
        "| **\\(P \\geq 0.10\\)** | Fail to reject \\(H_0\\) | No strong evidence against \\(H_0\\) |\n",
        "\n",
        " **Example Scenario: Testing a New Teaching Method**\n",
        "A school tests if a new teaching method improves student scores compared to the old method.  \n",
        "\n",
        "- \\(H_0\\): The new method has no effect (same performance as the old method).  \n",
        "- \\(H_1\\): The new method improves student scores.  \n",
        "- Significance level: \\(alpha = 0.05).  \n",
        "\n",
        "After conducting the study, they get P-value = 0.03.  \n",
        "\n",
        "1. Since P-value (0.03) < \\(\\alpha\\) (0.05), we reject \\(H_0\\).  \n",
        "2. This means there is enough evidence to suggest the new method improves scores.  \n",
        "\n",
        " **Key Takeaways**  \n",
        " Small P-value (< 0.05) → Reject \\(H_0\\), meaning the effect is statistically significant.  \n",
        " Large P-value (≥ 0.05) → Fail to reject \\(H_0\\), meaning there’s not enough evidence to support \\(H_1\\).  \n",
        " P-value does not prove \\(H_0\\) or \\(H_1\\)—it only tells us how strong the evidence is.  \n",
        "\n",
        "\n",
        "\n",
        "\n"
      ],
      "metadata": {
        "id": "ARCP8PG2wc62"
      }
    },
    {
      "cell_type": "markdown",
      "source": [
        "**Q6. What are Type 1 and Type 2 errors in hypothesis testing ?**\n"
      ],
      "metadata": {
        "id": "Drcq-KqH15M3"
      }
    },
    {
      "cell_type": "markdown",
      "source": [
        "**Ans6.** Type I and Type II Errors in Hypothesis Testing  \n",
        "\n",
        "When performing hypothesis testing, we make a decision based on sample data. However, sometimes we might make the wrong decision—this is where Type I and Type II errors come in.  \n",
        "\n",
        "\n",
        " **1️. Type I Error (False Positive)**  \n",
        "- Happens when we reject the null hypothesis (\\(H_0\\)) even though it is actually true.  \n",
        "- In simple terms: \"Seeing an effect when there is none.\"  \n",
        "- The probability of making a Type I error is \\(alpha) (significance level).  \n",
        "- If \\(alpha = 0.05), there is a 5% chance of mistakenly rejecting \\(H_0\\).  \n",
        "\n",
        " Example: A drug company tests a new medicine.  \n",
        "- \\(H_0\\): The drug has no effect.  \n",
        "- \\(H_1\\): The drug works.  \n",
        "- If we wrongly reject \\(H_0\\) and say the drug works (when it doesn’t), that’s a Type I error.  \n",
        "\n",
        "\n",
        " **2️. Type II Error (False Negative)**  \n",
        "- Happens when we fail to reject the null hypothesis (\\(H_0\\)) even though it is actually false.  \n",
        "- In simple terms: \"Not seeing an effect when there is one.\"\n",
        "- The probability of making a Type II error is \\(beta).  \n",
        "- Lowering Type I error (making \\(\\alpha\\) smaller) increases the risk of Type II error.  \n",
        "\n",
        " Example: The same drug company tests the new medicine.  \n",
        "- \\(H_0\\): The drug has no effect.  \n",
        "- \\(H_1\\): The drug works.  \n",
        "- If we fail to reject \\(H_0\\) (say the drug doesn’t work when it actually does), that’s a Type II error.  \n",
        "\n",
        "\n",
        " **Comparison Table**  \n",
        "\n",
        "| **Error Type** | **What Happens?** | **Real Situation** | **Example** |\n",
        "|-------------|----------------------|--------------------|------------|\n",
        "| **Type I Error (False Positive)** | Reject \\(H_0\\) when it's actually true | No real effect, but we say there is one | Saying a person has COVID when they don’t |\n",
        "| **Type II Error (False Negative)** | Fail to reject \\(H_0\\) when it's actually false | There is a real effect, but we miss it | Saying a person doesn’t have COVID when they actually do |\n",
        "\n",
        "\n",
        " **How to Reduce These Errors?**  \n",
        " Lower Type I Error (\\(alpha)) → Use a stricter significance level (e.g., 0.01 instead of 0.05).  \n",
        " Lower Type II Error (\\(beta)) → Increase sample size or improve experiment design.  \n",
        "\n",
        " **Key Takeaway:**  \n",
        "- Type I error: We falsely detect something that isn’t there.  \n",
        "- Type II error: We miss detecting something that is actually there.  \n",
        "\n",
        "\n",
        "\n"
      ],
      "metadata": {
        "id": "Z4Ny6QsxxAb7"
      }
    },
    {
      "cell_type": "markdown",
      "source": [
        "**Q7. What is the difference between a one-tailed and a two-tailed test in hypothesis testing ?**"
      ],
      "metadata": {
        "id": "vEnViith3Nfh"
      }
    },
    {
      "cell_type": "markdown",
      "source": [
        "**Ans7.**  One-Tailed vs. Two-Tailed Tests in Hypothesis Testing\n",
        "\n",
        "When performing hypothesis testing, we decide whether we are looking for a specific direction of the effect (one-tailed test) or just any difference without specifying the direction (two-tailed test).  \n",
        "\n",
        " **1️. One-Tailed Test (Directional Test)**\n",
        "- Used when we want to check if the effect is only in one direction (either greater than or less than).  \n",
        "- The alternative hypothesis (\\(H_1\\)) specifies a direction.  \n",
        "- The entire significance level (\\(alpha)) is in one tail of the probability distribution.  \n",
        "\n",
        " **Example: Checking if a new diet reduces weight**  \n",
        "- **\\(H_0\\)**: The diet has no effect on weight loss. (\\(\\mu = 70\\) kg)  \n",
        "- **\\(H_1\\)**: The diet reduces weight. (\\(\\mu < 70\\) kg)  \n",
        "- We are only interested in one direction (weight loss).  \n",
        "\n",
        " Decision: If the test statistic falls in the left tail (lower values), we reject \\(H_0\\).  \n",
        "\n",
        " One-tailed test is used when we have a strong reason to believe the effect happens in a specific direction.  \n",
        "\n",
        " **2️. Two-Tailed Test (Non-Directional Test)**\n",
        "- Used when we want to check if there is a difference in either direction (increase or decrease).  \n",
        "- The alternative hypothesis (\\(H_1\\)) does not specify a direction.  \n",
        "- The significance level (\\(\\alpha\\)) is split into both tails of the probability distribution.  \n",
        " **Example: Checking if a new drug affects blood pressure**  \n",
        "- \\(H_0\\): The drug has no effect on blood pressure. (\\(\\mu = 120\\) mmHg)  \n",
        "- \\(H_1\\): The drug changes blood pressure. (\\(\\mu \\neq 120\\) mmHg)  \n",
        "- We are testing both directions: increase or decrease in blood pressure.  \n",
        "\n",
        " Decision: If the test statistic falls in either tail (too high or too low), we reject \\(H_0\\).  \n",
        "\n",
        " Two-tailed tests are used when we are unsure about the direction of the effect.\n",
        "\n",
        " **Comparison Table**  \n",
        "\n",
        "| **Feature**  | **One-Tailed Test** | **Two-Tailed Test** |\n",
        "|-------------|------------------|------------------|\n",
        "| Hypothesis Form | \\(H_1: \\mu > \\mu_0\\) or \\(H_1: \\mu < \\mu_0\\) | \\(H_1: \\mu \\neq \\mu_0\\) |\n",
        "| Direction of Effect | Only one direction | Either direction |\n",
        "| Rejection Region | Only in one tail | In both tails |\n",
        "| \\(alpha) (Significance Level)** | All in one tail | Split into both tails |\n",
        "| Used When | We expect a specific effect (e.g., increase only) | We only want to check for any difference |\n",
        "\n",
        " **Key Takeaways**  \n",
        " One-tailed test → Use when expecting a change in one specific direction.  \n",
        " Two-tailed test → Use when any change (increase or decrease) matters.  \n",
        " Two-tailed tests are more conservative (harder to reject \\(H_0\\)) since \\(\\alpha\\) is split between both tails.  \n",
        "\n",
        "\n",
        "\n"
      ],
      "metadata": {
        "id": "-eLt5nDj3bKa"
      }
    },
    {
      "cell_type": "markdown",
      "source": [
        "**Q8. What is the Z-test, and when is it used in hypothesis testing?**"
      ],
      "metadata": {
        "id": "-GzOJh3U31f-"
      }
    },
    {
      "cell_type": "markdown",
      "source": [
        "**Ans8.**  A Z-test is a statistical test used to determine if there is a significant difference between sample data and a population, or between two samples. It is based on the Z-distribution (standard normal distribution).  \n",
        "\n",
        " **When is a Z-test Used?**\n",
        "\n",
        "We use a Z-test when:  \n",
        "1. The sample size is large (\\(n geq 30)).  \n",
        "2. The population variance (\\(sigma^2)) is known or assumed.  \n",
        "3. The data follows a normal distribution (or approximately normal for large samples).  \n",
        "\n",
        " **Types of Z-tests**  \n",
        "\n",
        "1️. One-Sample Z-test → Compares a sample mean to a known population mean.  \n",
        "   - Example: A company wants to check if the average salary of employees is different from the national average salary (\\(mu = 50,000)).  \n",
        "\n",
        "2️. Two-Sample Z-test → Compares the means of two independent samples.  \n",
        "   - Example: A researcher tests if men and women spend the same amount of time on social media.  \n",
        "\n",
        "3️. Z-test for Proportions → Compares sample proportions to a population proportion or two sample proportions.  \n",
        "   - Example: A poll checks if more than 60% of voters support a candidate.  \n",
        "\n",
        " **Z-test Formula**  \n",
        "\n",
        " **For a One-Sample Z-test:**  \n",
        "\\[\n",
        "Z = frac{bar{X} - mu}{sigma / sqrt{n}}\n",
        "\\]  \n",
        "Where:  \n",
        "- \\(bar{X}) = Sample mean  \n",
        "- \\(mu) = Population mean  \n",
        "- \\(sigma) = Population standard deviation  \n",
        "- \\(n\\) = Sample size  \n",
        "\n",
        " **Example: Testing Average Exam Scores**  \n",
        "A teacher wants to check if her class’s average exam score (\\(bar{X} = 78)) is different from the school’s average (\\(mu = 75)).  \n",
        "\n",
        "- Given:  \n",
        "  - \\(n = 40\\) (Large sample)  \n",
        "  - \\(sigma = 10) (Population standard deviation is known)  \n",
        "  - \\(alpha = 0.05) (Significance level)  \n",
        "\n",
        "\\[\n",
        "Z = \\frac{78 - 75}{10 / \\sqrt{40}} = \\frac{3}{1.58} = 1.90\n",
        "\\]  \n",
        "\n",
        "Using Z-tables, \\(Z = 1.90\\) corresponds to a p-value of 0.057.  \n",
        "- Since p-value (0.057) > \\(alpha) (0.05), we fail to reject \\(H_0\\).  \n",
        "- This means the class's average score is not significantly different from the school’s average.  \n",
        "\n",
        " **Key Takeaways**  \n",
        " Z-test is used for large samples (\\(n \\geq 30\\)) when population variance is known.  \n",
        " Compares means (one-sample or two-sample) or proportions.  \n",
        "Uses the standard normal distribution (Z-distribution).  \n",
        " If \\( |Z| \\) is large & p-value < \\(\\alpha\\), reject \\(H_0\\) (significant difference).  \n",
        "\n"
      ],
      "metadata": {
        "id": "Tj4ZV9CP4Agn"
      }
    },
    {
      "cell_type": "markdown",
      "source": [
        "**Q9.  How do you calculate the Z-score, and what does it represent in hypothesis testing?**"
      ],
      "metadata": {
        "id": "xTWZYHXR4d0L"
      }
    },
    {
      "cell_type": "markdown",
      "source": [
        "**Ans9.** A Z-score (also called a standard score) tells us how many standard deviations a data point (or sample mean) is away from the population mean. It helps in determining if our sample result is statistically significant.  \n",
        "\n",
        "In hypothesis testing, the Z-score is used to compare a sample mean to a population mean when the population standard deviation is known.  \n",
        "\n",
        " **Formula to Calculate the Z-score**  \n",
        "\n",
        " **For a Single Data Point**\n",
        "\\[\n",
        "Z = \\frac{X - \\mu}{\\sigma}\n",
        "\\]\n",
        "Where:  \n",
        "- \\(X\\) = Observed value (data point)  \n",
        "- \\(\\mu\\) = Population mean  \n",
        "- \\(\\sigma\\) = Population standard deviation  \n",
        "\n",
        "---\n",
        "\n",
        " **For a Sample Mean (Z-test Formula)**  \n",
        "\\[\n",
        "Z = \\frac{\\bar{X} - \\mu}{\\sigma / \\sqrt{n}}\n",
        "\\]\n",
        "Where:  \n",
        "- \\(\\bar{X}\\) = Sample mean  \n",
        "- \\(\\mu\\) = Population mean  \n",
        "- \\(\\sigma\\) = Population standard deviation  \n",
        "- \\(n\\) = Sample size  \n",
        "\n",
        "---\n",
        "\n",
        " **What Does the Z-score Represent?**  \n",
        "\n",
        "- A positive Z-score (\\(Z > 0\\)) → The sample mean is above the population mean.  \n",
        "- A negative Z-score (\\(Z < 0\\)) → The sample mean is below the population mean.  \n",
        "- A Z-score close to 0 → The sample mean is very close to the population mean.  \n",
        "- A large Z-score (either positive or negative) → The sample mean is far from the population mean (possible evidence against \\(H_0\\)).  \n",
        "\n",
        " **Z-score & Probability (Using Z-table)**  \n",
        "| **Z-score** | **Area (Probability)** | **Interpretation** |\n",
        "|------------|------------------|------------------|\n",
        "| **0** | 0.50 | Exactly at the mean |\n",
        "| **±1.96** | 0.025 (5% total for two-tailed) | Common critical value for **\\(\\alpha = 0.05\\)** |\n",
        "| **±2.58** | 0.005 (1% total for two-tailed) | Common critical value for **\\(\\alpha = 0.01\\)** |\n",
        "\n",
        "If Z-score is extreme, the p-value is low, and we might reject \\(H_0\\) in hypothesis testing.\n",
        "\n",
        " **Example: Checking if a Factory’s Bulbs Last Longer than 1000 Hours**  \n",
        "A manufacturer claims that their light bulbs last 1000 hours on average. A researcher collects a sample of 50 bulbs and finds that the mean lifespan is 1020 hours with a population standard deviation of 60 hours. They test at \\(alpha = 0.05).  \n",
        "\n",
        " Given:  \n",
        "- \\(mu = 1000)  \n",
        "- \\(bar{X} = 1020)  \n",
        "- \\(sigma = 60)  \n",
        "- \\(n = 50\\)  \n",
        "\n",
        "\\[\n",
        "Z = \\frac{1020 - 1000}{60 / \\sqrt{50}} = \\frac{20}{8.49} = 2.36\n",
        "\\]\n",
        "\n",
        " Finding the p-value:  \n",
        "Using a Z-table, \\(Z = 2.36\\) gives a probability of 0.0091 (0.91%) in one tail.  \n",
        "\n",
        "- Since p-value (0.0091) < \\(alpha) (0.05), we reject \\(H_0\\).  \n",
        "- Conclusion: The bulbs last significantly longer than 1000 hours.  \n",
        "\n",
        " **Key Takeaways**  \n",
        " Z-score tells us how far a value is from the mean in terms of standard deviations.  \n",
        " Used in hypothesis testing to determine statistical significance.\n",
        " A large Z-score → Strong evidence against \\(H_0\\), leading to rejection.  \n",
        " Z-table helps convert Z-scores into probabilities (p-values).  \n"
      ],
      "metadata": {
        "id": "K-n4KJAe4oBL"
      }
    },
    {
      "cell_type": "markdown",
      "source": [
        "**Q10. What is the T-distribution, and when should it be used instead of the normal distribution?**"
      ],
      "metadata": {
        "id": "6h_mMz7k5PCx"
      }
    },
    {
      "cell_type": "markdown",
      "source": [
        "**Ans10.** The T-distribution (also called the Student's t-distribution) is a probability distribution similar to the normal distribution, but with heavier tails. It is used when the sample size is small and the population standard deviation (\\(sigma)) is unknown.  \n",
        "\n",
        " **When Should We Use the T-Distribution Instead of the Normal Distribution?**\n",
        "\n",
        " Use the T-distribution when:  \n",
        " Sample size is small (\\(n < 30\\))  \n",
        " Population standard deviation (\\(sigma)) is unknown  \n",
        " The data is approximately normal (or the sample size is large enough for the Central Limit Theorem to apply)  \n",
        "\n",
        " Use the Normal Distribution when:  \n",
        " Sample size is large (\\(n \\geq 30\\))  \n",
        " Population standard deviation (\\(\\sigma\\)) is known  \n",
        "\n",
        "\n",
        " **Difference Between T-Distribution and Normal Distribution**  \n",
        "\n",
        "| **Feature** | **T-Distribution** | **Normal Distribution (Z-distribution)** |\n",
        "|-------------|--------------------|--------------------|\n",
        "| **When to use** | Small samples (\\(n < 30\\)), \\(\\sigma\\) unknown | Large samples (\\(n \\geq 30\\)), \\(\\sigma\\) known |\n",
        "| **Shape** | Similar to normal but has fatter tails | Bell-shaped, thinner tails |\n",
        "| **Mean** | \\(0\\) (centered) | \\(0\\) (centered) |\n",
        "| **Variance** | Larger variance for small \\(n\\), gets closer to normal as \\(n\\) increases | Fixed variance |\n",
        "| **Degrees of Freedom (df)** | \\(df = n - 1\\) | Not needed |\n",
        "\n",
        " **Why Does the T-Distribution Have Heavier Tails?**  \n",
        "- When we estimate the population standard deviation from a small sample, there is more uncertainty.  \n",
        "- This uncertainty spreads out the distribution, making the tails heavier.  \n",
        "- As the sample size increases, the t-distribution becomes nearly identical to the normal distribution.  \n",
        "\n",
        " **T-Score Formula (Similar to Z-Score, but Uses Sample Standard Deviation \\(s\\))**  \n",
        "\n",
        "\\[\n",
        "T = \\frac{\\bar{X} - \\mu}{s / \\sqrt{n}}\n",
        "\\]\n",
        "\n",
        "Where:  \n",
        "- \\(bar{X}) = Sample mean  \n",
        "- \\(mu) = Population mean  \n",
        "- \\(s\\) = Sample standard deviation (used instead of \\(\\sigma\\))  \n",
        "- \\(n\\) = Sample size  \n",
        "\n",
        " **Example: Using the T-Distribution for a Small Sample**  \n",
        "A teacher believes that students in her class score higher than the school’s average of 75 on a test. She takes a sample of 10 students and finds:  \n",
        "- Sample mean = 78  \n",
        "- Sample standard deviation = 5  \n",
        "- \\(n = 10\\)  \n",
        "\n",
        "Since \\(n < 30\\) and \\(\\sigma\\) is unknown, we use the T-distribution:  \n",
        "\n",
        "\\[\n",
        "T = \\frac{78 - 75}{5 / \\sqrt{10}} = \\frac{3}{1.58} = 1.90\n",
        "\\]\n",
        "\n",
        "Using a t-table with \\(df = 10 - 1 = 9\\) and a one-tailed test at \\(\\alpha = 0.05\\), we check the critical value \\(t_{critical} = 1.833\\).  \n",
        "\n",
        "- Since \\(T = 1.90 > 1.833\\), we reject \\(H_0\\).  \n",
        "- Conclusion: The students score significantly higher than the school’s average.  \n",
        "\n",
        " **Key Takeaways**  \n",
        " T-distribution is used when sample size is small (\\(n < 30\\)) and \\(sigma) is unknown.  \n",
        " It has heavier tails, meaning more probability in the extremes.  \n",
        " As sample size increases, the T-distribution becomes more like the normal distribution.  \n",
        " T-score formula is similar to the Z-score, but uses the sample standard deviation \\(s\\).  \n"
      ],
      "metadata": {
        "id": "mg2CC8cl5RBw"
      }
    },
    {
      "cell_type": "markdown",
      "source": [
        "**Q11. What is the difference between a Z-test and a T-test?**"
      ],
      "metadata": {
        "id": "5EGFOAKr59bO"
      }
    },
    {
      "cell_type": "markdown",
      "source": [
        "**Ans11.** Difference Between a Z-Test and a T-Test  \n",
        "\n",
        "Both Z-tests and T-tests are used in hypothesis testing to compare means, but they differ in when and how they are used.  \n",
        "\n",
        " **1️. When to Use a Z-Test vs. a T-Test**  \n",
        "\n",
        "| **Criteria** | **Z-Test** | **T-Test** |\n",
        "|-------------|-----------|-----------|\n",
        "| **Sample Size** | Large (\\(n \\geq 30\\)) | Small (\\(n < 30\\)) |\n",
        "| **Population Standard Deviation (\\(\\sigma\\))** | Known | Unknown (use sample standard deviation \\(s\\)) |\n",
        "| **Distribution Used** | Normal Distribution | T-Distribution (heavier tails) |\n",
        "| **Types** | One-sample, Two-sample, Proportion | One-sample, Two-sample, Paired-sample |\n",
        "| **When to Use?** | When the population is normal or sample size is large | When the sample is small and population standard deviation is unknown |\n",
        "\n",
        " **2️.  Z-Test vs. T-Test Formulas**  \n",
        "\n",
        " **Z-Test Formula (For Large Samples, \\(\\sigma\\) Known):**  \n",
        "\\[\n",
        "Z = \\frac{\\bar{X} - \\mu}{\\sigma / \\sqrt{n}}\n",
        "\\]\n",
        "\n",
        " **T-Test Formula (For Small Samples, \\(sigma) Unknown):**  \n",
        "\\[\n",
        "T = \\frac{\\bar{X} - \\mu}{s / \\sqrt{n}}\n",
        "\\]\n",
        "\n",
        "Where:  \n",
        "- \\(bar{X}) = Sample mean  \n",
        "- \\(mu) = Population mean  \n",
        "- \\(sigma) = Population standard deviation (only for Z-test)  \n",
        "- \\(s\\) = Sample standard deviation (only for T-test)  \n",
        "- \\(n\\) = Sample size  \n",
        "\n",
        " **3️. Key Differences in Distribution**  \n",
        "- The Z-test follows a normal distribution (bell-shaped curve).  \n",
        "- The T-test follows a T-distribution, which has heavier tails (more spread out) to account for small sample variability.  \n",
        "- As \\(n\\) increases, the T-distribution approaches the normal distribution, making the Z-test and T-test results almost identical for large samples.  \n",
        "\n",
        " **4️. Example to Understand the Difference**  \n",
        "\n",
        " **Z-Test Example (Large Sample, \\(sigma) Known)**  \n",
        "A factory claims that its batteries last 500 hours on average. A researcher tests 100 batteries and finds a mean lifespan of 510 hours, with a known population standard deviation of 20 hours.  \n",
        "\n",
        "Since \\(n = 100\\) (large sample) and \\(sigma) is known, we use a Z-test:  \n",
        "\n",
        "\\[\n",
        "Z = \\frac{510 - 500}{20 / \\sqrt{100}} = \\frac{10}{2} = 5\n",
        "\\]\n",
        "\n",
        "A Z-score of 5 is highly significant, meaning the batteries last significantly longer than claimed.  \n",
        "\n",
        " **T-Test Example (Small Sample, \\(sigma) Unknown)**  \n",
        "A teacher wants to know if students score higher than 75 in math. She takes a sample of 10 students and finds:  \n",
        "- Mean score = 78  \n",
        "- Sample standard deviation = 5\n",
        "\n",
        "Since \\(n = 10\\) (small sample) and \\(sigma) is unknown, we use a T-test:  \n",
        "\n",
        "\\[\n",
        "T = \\frac{78 - 75}{5 / \\sqrt{10}} = \\frac{3}{1.58} = 1.90\n",
        "\\]\n",
        "\n",
        "Using a t-table with \\(df = 9\\), we check the critical value for **\\(alpha = 0.05) and compare.  \n",
        "\n",
        " **5. Quick Trick to Remember**  \n",
        " Use a Z-test when you KNOW \\(sigma) and have a LARGE sample.  \n",
        " Use a T-test when you DON’T KNOW \\(sigma) and have a SMALL sample.  \n",
        "\n"
      ],
      "metadata": {
        "id": "Cc54fMRe6AL-"
      }
    },
    {
      "cell_type": "markdown",
      "source": [
        "**Q12. What is the T-test, and how is it used in hypothesis testing?**"
      ],
      "metadata": {
        "id": "n54Fz-cZ65kF"
      }
    },
    {
      "cell_type": "markdown",
      "source": [
        "**Ans12.** A T-test is a statistical test used in hypothesis testing to determine if there is a significant difference between the means of one or two groups. It is used when the sample size is small (\\(n < 30\\)) and the population standard deviation (\\(sigma)) is unknown. Instead of \\(sigma), we use the sample standard deviation (\\(**s**\\)).  \n",
        "\n",
        " **How is the T-Test Used in Hypothesis Testing?**  \n",
        "\n",
        "1️. State the Hypotheses:  \n",
        "   - Null Hypothesis (\\(H_0\\)) → There is no significant difference between the means.  \n",
        "   - Alternative Hypothesis (\\(H_a\\)) → There is a significant difference.  \n",
        "\n",
        "2️. Choose the Type of T-Test:  \n",
        "   - One-Sample T-Test → Compares a sample mean to a known population mean.  \n",
        "   - Two-Sample (Independent) T-Test → Compares the means of two independent groups.  \n",
        "   - Paired T-Test → Compares means from the same group before and after a change.  \n",
        "\n",
        "3️. Calculate the T-Statistic Using the Formula:  \n",
        "\n",
        "\\[\n",
        "T = \\frac{\\bar{X} - \\mu}{s / \\sqrt{n}}\n",
        "\\]\n",
        "\n",
        "Where:  \n",
        "- \\(\\bar{X}\\) = Sample mean  \n",
        "- \\(\\mu\\) = Population mean  \n",
        "- \\(s\\) = Sample standard deviation  \n",
        "- \\(n\\) = Sample size  \n",
        "\n",
        "4️. Find the Critical Value from the T-Table:  \n",
        "   - Use degrees of freedom (\\(df = n - 1\\)) and significance level (\\(\\alpha\\)).  \n",
        "   - Compare the T-statistic to the critical value.  \n",
        "\n",
        "5️. Make a Decision:  \n",
        "   - If \\(|T|\\) is greater than the critical value → Reject \\(H_0\\) (Significant difference).  \n",
        "   - If \\(|T|\\) is less than the critical value → Fail to reject \\(H_0\\) (No significant difference).  \n",
        "\n",
        " **Types of T-Tests with Examples**  \n",
        "\n",
        " 1. One-Sample T-Test (Compare Sample vs. Population)  \n",
        "   - Example: A teacher wants to test if the average score of her students (78) is different from the school average (75).  \n",
        "   - If T-statistic is large → The class scores are significantly different.\n",
        "\n",
        " 2. Two-Sample (Independent) T-Test (Compare Two Independent Groups)  \n",
        "   - Example: A researcher tests if men and women have different average salaries.  \n",
        "   - If T-statistic is large → Salaries are significantly different.\n",
        "\n",
        " 3. Paired (Dependent) T-Test (Compare Before & After)  \n",
        "   - Example: A fitness trainer tests if a diet program reduces weight.  \n",
        "   - If T-statistic is large → The program had a significant effect.  \n",
        "\n",
        " **Example: Testing if a Drug Improves Test Scores**  \n",
        "A scientist tests if a new drug improves memory. She takes 10 students and records their memory scores before and after taking the drug.  \n",
        "\n",
        " Given:  \n",
        "- Mean improvement (\\(\\bar{X}\\)) = 3.5  \n",
        "- Sample standard deviation (\\(s\\)) = 2.0  \n",
        "- Sample size (\\(n\\)) = 10  \n",
        "\n",
        "\\[\n",
        "T = \\frac{3.5 - 0}{2 / \\sqrt{10}} = \\frac{3.5}{0.63} = 5.56\n",
        "\\]\n",
        "\n",
        "Using \\(df = 9\\) and a t-table, the critical value for \\(alpha = 0.05) is 2.26. Since \\(5.56 > 2.26\\), we reject \\(H_0\\) → The drug significantly improves memory.  \n",
        "\n",
        "### Key Takeaways  \n",
        " T-test is used for small samples (\\(n < 30\\)) when \\(sigma) is unknown.  \n",
        " It compares means and determines statistical significance.  \n",
        " There are three types: One-sample, Two-sample (independent), and Paired.  \n",
        " Uses the T-distribution with degrees of freedom.  \n",
        " If \\(|T|\\) is large, reject \\(H_0\\) → Significant difference exists.  \n"
      ],
      "metadata": {
        "id": "tIJg6XOx67WW"
      }
    },
    {
      "cell_type": "markdown",
      "source": [
        "**Q13. What is the relationship between Z-test and T-test in hypothesis testing?**"
      ],
      "metadata": {
        "id": "dNi7JsRn7YPx"
      }
    },
    {
      "cell_type": "markdown",
      "source": [
        "**Ans13.** Relationship Between Z-Test and T-Test in Hypothesis Testing  \n",
        "\n",
        "Both Z-tests and T-tests are used to determine if there is a statistically significant difference between means. They follow a similar process but differ in when they are applied.  \n",
        "\n",
        " **1️. Similarities Between Z-Test and T-Test**  \n",
        "\n",
        " Both are used for hypothesis testing → They help decide whether to reject the null hypothesis (\\(H_0\\)).  \n",
        " Both compare means → They analyze whether a sample mean differs from a population mean or another sample mean.  \n",
        " Both use a similar formula → The key difference is whether the population standard deviation (\\(sigma)) is known.  \n",
        " Both check statistical significance → They use critical values and p-values to determine significance.  \n",
        "\n",
        " **2️. Key Differences Between Z-Test and T-Test**  \n",
        "\n",
        "| **Feature** | **Z-Test** | **T-Test** |\n",
        "|------------|-----------|-----------|\n",
        "| **When to Use** | Large sample (\\(n \\geq 30\\)) | Small sample (\\(n < 30\\)) |\n",
        "| **Population Standard Deviation (\\(\\sigma\\))** | Known | Unknown (use sample standard deviation \\(s\\)) |\n",
        "| **Distribution Used** | Normal Distribution | T-Distribution |\n",
        "| **Shape** | Fixed bell curve | Wider tails (more variability for small samples) |\n",
        "| **Degrees of Freedom** | Not needed | \\(df = n - 1\\) |\n",
        "\n",
        " **3️. How They Are Related in Hypothesis Testing**  \n",
        "\n",
        "- For large samples (\\(n \\geq 30\\)), the T-distribution approximates the normal distribution, meaning a T-test and a Z-test will give almost identical results.  \n",
        "- As sample size increases, the T-distribution becomes narrower, approaching the normal distribution used in Z-tests.  \n",
        "- If the population standard deviation is unknown, the T-test is preferred, regardless of sample size.  \n",
        "\n",
        " **4️. Example: Transition from T-Test to Z-Test**  \n",
        "\n",
        " Case 1: Small Sample (\\(n = 10\\), \\(sigma) unknown) → Use T-Test  \n",
        "A researcher tests if a new teaching method improves scores.  \n",
        "- Sample mean = 82  \n",
        "- Population mean = 78  \n",
        "- Sample standard deviation = 5  \n",
        "- \\(n = 10\\)  \n",
        "\n",
        "\\[\n",
        "T = \\frac{82 - 78}{5 / \\sqrt{10}} = 2.53\n",
        "\\]\n",
        "\n",
        "Using \\(df = 9\\), we check the t-table. If \\(T > t_{critical}\\), we reject \\(H_0\\).  \n",
        "\n",
        " Case 2: Large Sample (\\(n = 100\\), \\(\\sigma\\) known) → Use Z-Test  \n",
        "Same test, but now \\(n = 100\\) and \\(\\sigma = 5\\).  \n",
        "\n",
        "\\[\n",
        "Z = \\frac{82 - 78}{5 / \\sqrt{100}} = 8\n",
        "\\]\n",
        "\n",
        "Since the normal distribution is used, we compare with the Z-table.  \n",
        "\n",
        " **5️. Quick Rule of Thumb**  \n",
        "\n",
        " Use a Z-test if you KNOW \\(\\sigma\\) or have a LARGE sample.  \n",
        " Use a T-test if you DON’T KNOW \\(\\sigma\\) and have a SMALL sample.  \n",
        "\n"
      ],
      "metadata": {
        "id": "dgmYUDWF7aCZ"
      }
    },
    {
      "cell_type": "markdown",
      "source": [
        "**Q14. What is a confidence interval, and how is it used to interpret statistical results?**"
      ],
      "metadata": {
        "id": "wV9t-del78id"
      }
    },
    {
      "cell_type": "markdown",
      "source": [
        "**Ans14.** A confidence interval (CI) is a range of values used to estimate a population parameter (like a mean or proportion) based on a sample. It provides a degree of certainty (confidence level) that the true population value falls within this range.  \n",
        "\n",
        "For example, if we estimate that the average height of students is \\(170 \\pm 2\\) cm with a 95% confidence interval, it means we are 95% sure that the true average height is between 168 cm and 172 cm.  \n",
        "\n",
        "A confidence interval helps in decision-making by showing the reliability of an estimate. Instead of just giving a single number (point estimate), it provides a range, which is more informative.  \n",
        "\n",
        " In Hypothesis Testing: If a confidence interval does not include the hypothesized value (\\(H_0\\)), we reject \\(H_0\\).  \n",
        " In Research & Business: Used to compare groups (e.g., comparing average salaries between two cities).  \n",
        " In Surveys & Polls: Shows margin of error (e.g., \"Candidate A has 55% support ± 3%\").  \n",
        "\n",
        " **Formula for Confidence Interval**  \n",
        "\n",
        "\\[\n",
        "CI = \\bar{X} \\pm Z^* \\left(\\frac{\\sigma}{\\sqrt{n}}\\right)\n",
        "\\]\n",
        "\n",
        "For small samples (\\(n < 30\\), \\(\\sigma\\) unknown), we use the T-distribution:  \n",
        "\n",
        "\\[\n",
        "CI = \\bar{X} \\pm T^* \\left(\\frac{s}{\\sqrt{n}}\\right)\n",
        "\\]\n",
        "\n",
        "Where:  \n",
        "- \\(\\bar{X}\\) = Sample mean  \n",
        "- \\(Z^*\\) or \\(T^*\\) = Critical value from the Z or T table  \n",
        "- \\(\\sigma\\) or \\(s\\) = Standard deviation (population or sample)  \n",
        "- \\(n\\) = Sample size  \n",
        "\n",
        " **Example: Confidence Interval for Exam Scores**  \n",
        "\n",
        "A teacher wants to estimate the average math score of students. She takes a sample of 50 students and finds:  \n",
        "- Mean score = 75  \n",
        "- Standard deviation = 10  \n",
        "- Confidence level = 95%\n",
        "\n",
        "Using the Z-score for 95% CI (\\(Z^* = 1.96\\)):  \n",
        "\n",
        "\\[\n",
        "CI = 75 \\pm 1.96 \\left(\\frac{10}{\\sqrt{50}}\\right)\n",
        "\\]\n",
        "\n",
        "\\[\n",
        "CI = 75 \\pm 2.77\n",
        "\\]\n",
        "\n",
        "\\[\n",
        "CI = (72.23, 77.77)\n",
        "\\]\n",
        "\n",
        "Interpretation: We are 95% confident that the true average math score is between 72.23 and 77.77.  \n",
        "\n",
        " **Key Takeaways**  \n",
        "\n",
        " A confidence interval gives a range, not just a single estimate.  \n",
        " Higher confidence (99%) → Wider interval (more certainty but less precision).  \n",
        " Larger sample size → Narrower interval (more precise estimate).  \n",
        " If \\(H_0\\) is outside the CI, reject it!  \n",
        "\n"
      ],
      "metadata": {
        "id": "jSsHsvAv8Erm"
      }
    },
    {
      "cell_type": "markdown",
      "source": [
        "**Q15. What is the margin of error, and how does it affect the confidence interval?**"
      ],
      "metadata": {
        "id": "2pqNg8BDKD1l"
      }
    },
    {
      "cell_type": "markdown",
      "source": [
        "**Ans15.**  The Margin of Error (MOE) is the amount we add and subtract from a sample estimate (like a mean or proportion) to create a confidence interval (CI). It represents the uncertainty in the estimate due to sampling variability.  \n",
        "\n",
        "For example, if a survey estimates that 60% of voters support a candidate ±3% margin of error, it means the true support is between 57% and 63% with a certain confidence level.  \n",
        "\n",
        "How is the Margin of Error Calculated:\n",
        "\n",
        "\\[\n",
        "MOE = Z^* \\times \\left(\\frac{\\sigma}{\\sqrt{n}}\\right)\n",
        "\\]\n",
        "\n",
        "For small samples (\\(n < 30\\)), we use the T-distribution:\n",
        "\n",
        "\\[\n",
        "MOE = T^* \\times \\left(\\frac{s}{\\sqrt{n}}\\right)\n",
        "\\]\n",
        "\n",
        "Where:  \n",
        "- \\(Z^*\\) or \\(T^*\\) = Critical value from the Z-table or T-table (based on confidence level)  \n",
        "- \\(\\sigma\\) or \\(s\\) = Standard deviation (population or sample)  \n",
        "- \\(n\\) = Sample size  \n",
        "\n",
        "---\n",
        "\n",
        " **How Does the Margin of Error Affect the Confidence Interval?**  \n",
        "\n",
        "\\[\n",
        "CI = \\bar{X} \\pm MOE\n",
        "\\]\n",
        "\n",
        "- Larger MOE → Wider Confidence Interval (less precision, more certainty).  \n",
        "- Smaller MOE → Narrower Confidence Interval (more precision, less uncertainty).  \n",
        "\n",
        " **Factors That Affect MOE:**  \n",
        " Sample Size (\\(n\\)) → Larger \\(n\\) reduces MOE.  \n",
        " Confidence Level (\\(\\%\\)) → Higher confidence increases MOE.  \n",
        " Standard Deviation (\\(\\sigma\\)) → Higher variability increases MOE.  \n",
        "\n",
        " **Example: Estimating Average Study Hours**  \n",
        "\n",
        "A researcher surveys 100 students about their weekly study hours:  \n",
        "- Sample mean = 15 hours  \n",
        "- Standard deviation = 4 hours  \n",
        "- Confidence level = 95% (\\(Z^* = 1.96\\))  \n",
        "\n",
        "\\[\n",
        "MOE = 1.96 \\times \\left(\\frac{4}{\\sqrt{100}}\\right) = 1.96 \\times 0.4 = 0.784\n",
        "\\]\n",
        "\n",
        "\\[\n",
        "CI = 15 \\pm 0.784\n",
        "\\]\n",
        "\n",
        "\\[\n",
        "CI = (14.22, 15.78)\n",
        "\\]\n",
        "\n",
        "Interpretation: We are 95% confident that students study between 14.22 and 15.78 hours per week on average.  \n",
        "\n",
        " **Key Takeaways**  \n",
        " Margin of Error measures how much the estimate could vary.\n",
        " Smaller MOE = More precise results (larger sample, lower variability).  \n",
        " Larger MOE = Less precise results (smaller sample, more uncertainty).  \n",
        " MOE affects the width of confidence intervals!  \n",
        "\n"
      ],
      "metadata": {
        "id": "oQo2Z_emKFhr"
      }
    },
    {
      "cell_type": "markdown",
      "source": [
        "**Q16. How is Bayes' Theorem used in statistics, and what is its significance?**"
      ],
      "metadata": {
        "id": "Dr7VU1LfLZDm"
      }
    },
    {
      "cell_type": "markdown",
      "source": [
        "**Ans16.**  Bayes' Theorem in Statistics\n",
        "\n",
        "Bayes' Theorem is a fundamental rule in probability and statistics that helps us update our beliefs based on new evidence. It is used to calculate the probability of an event occurring, given that another event has already happened.  \n",
        "\n",
        " **Formula for Bayes' Theorem**  \n",
        "\n",
        "\\[\n",
        "P(A | B) = \\frac{P(B | A) \\cdot P(A)}{P(B)}\n",
        "\\]\n",
        "\n",
        "Where:  \n",
        "- \\( P(A | B) \\) = Posterior Probability (Updated probability of \\( A \\) given \\( B \\))  \n",
        "- \\( P(B | A) \\) = Likelihood (Probability of \\( B \\) occurring if \\( A \\) is true)  \n",
        "- \\( P(A) \\) = Prior Probability (Initial probability of \\( A \\))  \n",
        "- \\( P(B) \\) = Total Probability of \\( B \\) (Sum of probabilities of \\( B \\) under all possible conditions)  \n",
        "\n",
        " **Significance of Bayes' Theorem**\n",
        "\n",
        "1️. Updating Probabilities: It allows us to revise probabilities when new information is available.  \n",
        "2️. Medical Diagnosis: Helps in predicting disease probability based on test results.  \n",
        "3️. Spam Filtering: Used in email filters to classify messages as spam or not spam.  \n",
        "4️. Machine Learning & AI: Forms the basis of Naïve Bayes classifiers for text classification, fraud detection, etc.  \n",
        "5️.Risk Analysis: Used in finance, weather forecasting, and insurance.  \n",
        "\n",
        " **Example: Medical Diagnosis**\n",
        "\n",
        "A disease affects 1% of a population. A test for the disease is:  \n",
        "- 90% accurate if the person has the disease (\\( P(T | D) = 0.9 \\))  \n",
        "- 5% false positive rate (\\( P(T | \\neg D) = 0.05 \\))  \n",
        "\n",
        "What is the probability that a person actually has the disease if they test positive?  \n",
        "\n",
        "\\[\n",
        "P(D | T) = \\frac{P(T | D) \\cdot P(D)}{P(T)}\n",
        "\\]\n",
        "\n",
        "Since:  \n",
        "\n",
        "\\[\n",
        "P(T) = P(T | D) \\cdot P(D) + P(T | \\neg D) \\cdot P(\\neg D)\n",
        "\\]\n",
        "\n",
        "\\[\n",
        "P(T) = (0.9 \\times 0.01) + (0.05 \\times 0.99) = 0.009 + 0.0495 = 0.0585\n",
        "\\]\n",
        "\n",
        "\\[\n",
        "P(D | T) = \\frac{0.9 \\times 0.01}{0.0585} = \\frac{0.009}{0.0585} \\approx 0.154\n",
        "\\]\n",
        "\n",
        "Interpretation: Even with a positive test result, the probability of having the disease is only 15.4% because the disease is rare.  \n",
        "\n",
        " **Key Takeaways**  \n",
        " Bayes’ Theorem updates probabilities based on new evidence.  \n",
        " It is widely used in medicine, AI, and decision-making.  \n",
        " It helps avoid misinterpretation of test results, especially in rare cases.  \n"
      ],
      "metadata": {
        "id": "3qt3QO3YL4dh"
      }
    },
    {
      "cell_type": "markdown",
      "source": [
        "**Q17. What is the Chi-square distribution, and when is it used?**"
      ],
      "metadata": {
        "id": "w0qBESCuMipG"
      }
    },
    {
      "cell_type": "markdown",
      "source": [
        "**Ans17.**  The Chi-Square (\\(\\chi^2\\)) distribution is a probability distribution that describes the sum of squared deviations of independent standard normal variables. It is asymmetrical (skewed right) and only takes positive values.  \n",
        "\n",
        "The Chi-Square test is commonly used in statistics to test hypotheses about categorical data and variances.  \n",
        "\n",
        " **When is the Chi-Square Distribution Used?**\n",
        "\n",
        " 1️. Chi-Square Goodness of Fit Test  \n",
        " Checks if observed data matches expected proportions.  \n",
        " Example: Do survey responses match expected voter preferences?  \n",
        "\n",
        " 2️. Chi-Square Test for Independence  \n",
        " Checks if two categorical variables are related.\n",
        " Example: Are gender and favorite movie genre independent?  \n",
        "\n",
        " 3️. Chi-Square Test for Variance  \n",
        " Tests if the variance of a population matches a claimed value.  \n",
        " Example: Does the variance in machine output meet quality standards?  \n",
        "\n",
        " **Formula for the Chi-Square Statistic**  \n",
        "\n",
        "\\[\n",
        "\\chi^2 = \\sum \\frac{(O - E)^2}{E}\n",
        "\\]\n",
        "\n",
        "Where:  \n",
        "- \\( O \\) = Observed frequency  \n",
        "- \\( E \\) = Expected frequency  \n",
        "\n",
        "If \\(\\chi^2\\) is too large, we reject the null hypothesis (\\(H_0\\)).  \n",
        "\n",
        " **Example: Chi-Square Test for Independence**  \n",
        "\n",
        "A company surveys 100 customers on their payment preference (Cash, Card, or UPI) across two age groups (Young & Old).  \n",
        "\n",
        "| Payment Method | Young (Observed) | Old (Observed) | Total |\n",
        "|---------------|----------------|--------------|-------|\n",
        "| **Cash**      | 20             | 30           | 50    |\n",
        "| **Card**      | 25             | 15           | 40    |\n",
        "| **UPI**       | 5              | 5            | 10    |\n",
        "| **Total**     | 50             | 50           | 100   |\n",
        "\n",
        "Step 1: Calculate Expected Values  \n",
        "For Cash (Young):  \n",
        "\n",
        "\\[\n",
        "E = \\frac{(Row Total \\times Column Total)}{\\text{Grand Total}} = \\frac{50 \\times 50}{100} = 25\n",
        "\\]\n",
        "\n",
        "Similarly, we calculate for all cells.  \n",
        "\n",
        "Step 2: Compute \\(\\chi^2\\) Statistic  \n",
        "\n",
        "\\[\n",
        "\\chi^2 = \\sum \\frac{(O - E)^2}{E}\n",
        "\\]\n",
        "\n",
        "If \\(\\chi^2\\) is greater than the critical value from the Chi-Square table, we reject \\(H_0\\) (payment method depends on age group).  \n",
        "\n",
        " **Key Takeaways**  \n",
        " Chi-Square is used for categorical data analysis.  \n",
        " It tests relationships between variables or goodness of fit.  \n",
        " A large Chi-Square value means a significant difference exists.\n",
        "\n"
      ],
      "metadata": {
        "id": "N2U9TexnMily"
      }
    },
    {
      "cell_type": "markdown",
      "source": [
        "**Q18. What is the Chi-square goodness of fit test, and how is it applied?**"
      ],
      "metadata": {
        "id": "nXjE3uKbOggw"
      }
    },
    {
      "cell_type": "markdown",
      "source": [
        "**Ans18.** The Chi-Square Goodness of Fit test checks whether an observed categorical data distribution matches an expected (theoretical) distribution. It helps determine if the sample data follows a specific pattern.  \n",
        "\n",
        " **When to Use the Chi-Square Goodness of Fit Test?**\n",
        "\n",
        " Survey Responses:Do actual voter preferences match predicted ones?  \n",
        " Dice Fairness Test: Does a die roll each number equally often?  \n",
        " Website Traffic Analysis: Does user traffic follow expected proportions?  \n",
        "\n",
        " **Formula for the Chi-Square Statistic**  \n",
        "\n",
        "\\[\n",
        "\\chi^2 = \\sum \\frac{(O - E)^2}{E}\n",
        "\\]\n",
        "\n",
        "Where:  \n",
        "- \\( O \\) = Observed frequency  \n",
        "- \\( E \\) = Expected frequency  \n",
        "\n",
        "If \\(\\chi^2\\) is large, we reject the null hypothesis (\\(H_0\\)), meaning the observed distribution does not match the expected one.  \n",
        "\n",
        " **Example: Is a Die Fair?**   \n",
        "\n",
        "A person rolls a six-sided die 60 times and records the outcomes. If the die is fair, each number should appear 10 times (expected). The results:  \n",
        "\n",
        "| Face | Observed (\\(O\\)) | Expected (\\(E\\)) |\n",
        "|------|------------|------------|\n",
        "| 1    | 8          | 10         |\n",
        "| 2    | 12         | 10         |\n",
        "| 3    | 9          | 10         |\n",
        "| 4    | 11         | 10         |\n",
        "| 5    | 7          | 10         |\n",
        "| 6    | 13         | 10         |\n",
        "\n",
        "Step 1: Compute \\(\\chi^2\\)  \n",
        "\n",
        "\\[\n",
        "\\chi^2 = \\sum \\frac{(O - E)^2}{E}\n",
        "\\]\n",
        "\n",
        "\\[\n",
        "= \\frac{(8-10)^2}{10} + \\frac{(12-10)^2}{10} + \\frac{(9-10)^2}{10} + \\frac{(11-10)^2}{10} + \\frac{(7-10)^2}{10} + \\frac{(13-10)^2}{10}\n",
        "\\]\n",
        "\n",
        "\\[\n",
        "= \\frac{4}{10} + \\frac{4}{10} + \\frac{1}{10} + \\frac{1}{10} + \\frac{9}{10} + \\frac{9}{10} = 2.8\n",
        "\\]\n",
        "\n",
        "Step 2: Compare with Critical Value  \n",
        "- Degrees of freedom = \\(df = \\text{(number of categories)} - 1 = 6 - 1 = 5\\)  \n",
        "- At 5% significance level (\\(\\alpha = 0.05\\)), critical value from the Chi-Square table = 11.07  \n",
        "- Since \\(2.8 < 11.07\\), we fail to reject \\(H_0\\) → The die appears fair!   \n",
        "\n",
        " **Key Takeaways**  \n",
        " Checks if sample distribution matches expected distribution.  \n",
        " If \\(\\chi^2\\) is too high, reject \\(H_0\\) (significant difference).  \n",
        " Used for surveys, dice fairness, genetics, and more!  \n",
        "\n"
      ],
      "metadata": {
        "id": "iZOPhGkZOi7_"
      }
    },
    {
      "cell_type": "markdown",
      "source": [
        "**Q19. What is the F-distribution, and when is it used in hypothesis testing?**"
      ],
      "metadata": {
        "id": "uhLlYVuOTCoM"
      }
    },
    {
      "cell_type": "markdown",
      "source": [
        "**Ans19.** The F-distribution is a continuous probability distribution that is skewed right and only takes positive values. It is mainly used to compare variances between two populations in hypothesis testing.  \n",
        "\n",
        "It is defined as the ratio of two Chi-Square distributed variables divided by their respective degrees of freedom:  \n",
        "\n",
        "\\[\n",
        "F = \\frac{(\\chi^2_1 / df_1)}{(\\chi^2_2 / df_2)}\n",
        "\\]\n",
        "\n",
        "Where:  \n",
        "- \\( \\chi^2_1 \\) and \\( \\chi^2_2 \\) are Chi-Square distributed variables  \n",
        "- \\( df_1 \\) and \\( df_2 \\) are their respective degrees of freedom  \n",
        "\n",
        "### When is the F-Distribution Used?  \n",
        "\n",
        " 1️. ANOVA (Analysis of Variance)  \n",
        " Compares means of 3 or more groups using variance.  \n",
        " Example: Do three different teaching methods produce different student scores?  \n",
        "\n",
        " 2️. Variance Ratio Test\n",
        " Tests if two populations have equal variances.  \n",
        " Example: Do two types of machines produce products with the same consistency?  \n",
        "\n",
        " 3️. Regression Analysis  \n",
        " Used in the F-test to check the significance of regression models.  \n",
        " Example: Does adding more independent variables improve a model?  \n",
        "\n",
        "### Example: ANOVA Using the F-Test  \n",
        "\n",
        "A researcher tests three fertilizers on crop growth. The crop heights (in cm) are:  \n",
        "\n",
        "- Fertilizer A: 20, 22, 19, 24, 23  \n",
        "- Fertilizer B:25, 27, 26, 28, 30  \n",
        "- Fertilizer C: 15, 18, 14, 17, 16  \n",
        "\n",
        "Step 1: Calculate Variance Within & Between Groups  \n",
        "- Variance between groups (MSB): Measures how different the group means are.  \n",
        "- Variance within groups (MSW): Measures variation within each group.  \n",
        "\n",
        "\\[\n",
        "F = \\frac{\\text{Variance Between Groups (MSB)}}{\\text{Variance Within Groups (MSW)}}\n",
        "\\]\n",
        "\n",
        "Step 2: Compare with the F-Critical Value  \n",
        "- Degrees of freedom:  \n",
        "  - \\( df_1 = k - 1 = 3 - 1 = 2 \\) (between groups)  \n",
        "  - \\( df_2 = N - k = 15 - 3 = 12 \\) (within groups)  \n",
        "- If \\( F \\) is greater than the critical value from the F-table, we reject \\(H_0\\) (fertilizer affects growth).  \n",
        "\n",
        "### Key Takeaways  \n",
        " F-distribution is used for variance comparison.  \n",
        " Common in ANOVA, variance tests, and regression.\n",
        " Always right-skewed and used with two degrees of freedom.  \n",
        "\n"
      ],
      "metadata": {
        "id": "wUCNWsTiTJDF"
      }
    },
    {
      "cell_type": "markdown",
      "source": [
        "**Q20. What is an ANOVA test, and what are its assumptions?**"
      ],
      "metadata": {
        "id": "SKsfGuYbT3fa"
      }
    },
    {
      "cell_type": "markdown",
      "source": [
        "**Ans20.**  ANOVA (Analysis of Variance) is a statistical test used to compare the means of three or more groups to determine if there is a significant difference between them.  \n",
        "\n",
        "Instead of comparing each group individually (which increases error), ANOVA analyzes all groups simultaneously by comparing variance within and between groups.  \n",
        "\n",
        "### Types of ANOVA  \n",
        " 1️. One-Way ANOVA – Compares means of one independent variable (factor) with multiple groups.  \n",
        " Example: Does study method (Video, Notes, Live Class) affect student scores?  \n",
        "\n",
        " 2️. Two-Way ANOVA – Compares means of two independent variables (factors) at the same time.  \n",
        " Example: Do study method and gender impact student scores?  \n",
        "\n",
        " 3️. Repeated Measures ANOVA – Used when the same subjects are tested multiple times.  \n",
        " Example: Measuring weight loss at 1 month, 3 months, and 6 months.  \n",
        "\n",
        "### Formula for F-Statistic in ANOVA\n",
        "\n",
        "\\[\n",
        "F = \\frac{\\text{Variance Between Groups (MSB)}}{\\text{Variance Within Groups (MSW)}}\n",
        "\\]\n",
        "\n",
        "- If \\( F \\) is large, the groups are likely significantly different  \n",
        "- If \\( F \\) is small, the groups are similar  \n",
        "\n",
        "### Assumptions of ANOVA  \n",
        "\n",
        " 1️. Independence – Observations in each group must be independent.  \n",
        " 2️. Normality – Data should be approximately normal in each group.  \n",
        " 3️. Homogeneity of Variance (Homoscedasticity) – All groups should have equal variances (checked using Levene’s Test).  \n",
        "\n",
        "If assumptions are violated, use non-parametric tests like the Kruskal-Wallis test instead.  \n",
        "\n",
        "### Example: One-Way ANOVA in Action  \n",
        "\n",
        "A researcher tests 3 fertilizers on plant growth. The plant heights (in cm) are:  \n",
        "\n",
        "| Fertilizer A | Fertilizer B | Fertilizer C |\n",
        "|-------------|-------------|-------------|\n",
        "| 20 | 25 | 15 |\n",
        "| 22 | 27 | 18 |\n",
        "| 19 | 26 | 14 |\n",
        "| 24 | 28 | 17 |\n",
        "| 23 | 30 | 16 |\n",
        "\n",
        "Step 1: Calculate Mean & Variance  \n",
        "- Find mean of each group  \n",
        "- Compute variance within and between groups  \n",
        "\n",
        "Step 2: Compute F-Statistic  \n",
        "\n",
        "\\[\n",
        "F = \\frac{\\text{Between-Group Variance}}{\\text{Within-Group Variance}}\n",
        "\\]\n",
        "\n",
        "Step 3: Compare with Critical F-Value  \n",
        "- Degrees of freedom:  \n",
        "  - \\( df_1 = k - 1 = 3 - 1 = 2 \\) (between groups)  \n",
        "  - \\( df_2 = N - k = 15 - 3 = 12 \\) (within groups)  \n",
        "- If \\( F \\) is greater than the critical value, reject \\( H_0 \\) (fertilizer affects growth).  \n",
        "\n",
        "### Key Takeaways  \n",
        " ANOVA compares means of 3+ groups simultaneously   \n",
        " Uses F-distribution to check for differences   \n",
        " Assumptions: Independence, Normality, Equal Variance   \n"
      ],
      "metadata": {
        "id": "Vxs97OVuT9Iq"
      }
    },
    {
      "cell_type": "markdown",
      "source": [
        "**Q21. What are the different types of ANOVA tests?**"
      ],
      "metadata": {
        "id": "iax94eJ6Upap"
      }
    },
    {
      "cell_type": "markdown",
      "source": [
        "**Ans21.** ANOVA (Analysis of Variance) is used to compare the means of multiple groups. There are different types of ANOVA depending on the number of factors and how the data is collected.  \n",
        "\n",
        " **1️. One-Way ANOVA (Single-Factor ANOVA)**  \n",
        "Compares means of 3 or more independent groups based on one factor.  \n",
        " Example: Does the type of fertilizer (A, B, or C) affect plant growth?  \n",
        "\n",
        " Assumptions:  \n",
        "1. One independent variable (factor) with 3+ levels  \n",
        "2. Data is normally distributed  \n",
        "3. Homogeneity of variance (equal variance across groups)  \n",
        "\n",
        " **2️. Two-Way ANOVA (Factorial ANOVA)**  \n",
        " Compares means based on two independent factors.  \n",
        " Example: Does study method (Video, Notes, Live Class) and gender (Male, Female) affect student scores?  \n",
        "\n",
        " Types of Two-Way ANOVA:  \n",
        "- Without interaction – Tests the effects of both factors separately  \n",
        "- With interaction – Checks if factors influence each other  \n",
        "\n",
        " **3️. Repeated Measures ANOVA**  \n",
        " Used when the same subjects are tested multiple times.  \n",
        " Example: Measuring weight loss at 1 month, 3 months, and 6 months after a diet plan.  \n",
        "\n",
        "Advantage: Reduces individual variability since the same subjects are used.  \n",
        " Alternative if assumptions are violated: Friedman Test (Non-parametric).  \n",
        "\n",
        " **4️. MANOVA (Multivariate ANOVA)**\n",
        " Extension of ANOVA when there are multiple dependent variables.  \n",
        " Example: Does a training program affect both strength and endurance?  \n",
        "\n",
        " Use MANOVA instead of ANOVA when:  \n",
        " There are multiple dependent variables  \n",
        " The dependent variables are correlated  \n",
        "\n",
        " **5️. ANCOVA (Analysis of Covariance)**  \n",
        " ANOVA + Adjusting for a Covariate (Extra Variable).  \n",
        " Example: Testing teaching method effectiveness, while controlling for students’ prior knowledge.  \n",
        "\n",
        " Why use ANCOVA?  \n",
        " Removes the effect of unwanted variables (covariates)  \n",
        " Increases statistical power  \n",
        "\n",
        " **6️. MANCOVA (Multivariate ANCOVA)**\n",
        " Combination of MANOVA and ANCOVA  \n",
        " Example: Testing workout plans on muscle growth and flexibility, while controlling for age.  \n",
        "\n",
        " Used when:  \n",
        " There are multiple dependent variables  \n",
        " You need to control for an extra variable\n",
        "\n",
        " **Key Takeaways**  \n",
        " One-Way ANOVA → 1 factor, 3+ groups   \n",
        " Two-Way ANOVA → 2 factors   \n",
        " Repeated Measures ANOVA → Same subjects tested over time   \n",
        " MANOVA → Multiple dependent variables   \n",
        " ANCOVA → Controls for extra variables   \n",
        " MANCOVA → Multiple dependent variables + covariate   \n",
        "\n"
      ],
      "metadata": {
        "id": "s89aSKwuU4QK"
      }
    },
    {
      "cell_type": "markdown",
      "source": [
        "**Q22.  What is the F-test, and how does it relate to hypothesis testing?**"
      ],
      "metadata": {
        "id": "PEjwP0zzVkaS"
      }
    },
    {
      "cell_type": "markdown",
      "source": [
        "**Ans22.** The F-test is a statistical test used to compare variances or multiple group means to determine if they are significantly different. It is based on the F-distribution, which is right-skewed and used in hypothesis testing.  \n",
        "\n",
        "**When is the F-Test Used?**  \n",
        "\n",
        " 1️. Comparing Two Variances (Variance Ratio Test)  \n",
        " Used to test if two populations have equal variances.  \n",
        " Example: Do two manufacturing machines produce products with the same consistency?  \n",
        "\n",
        " 2️. ANOVA (Analysis of Variance)  \n",
        " Used to compare three or more group means.  \n",
        " Example: Does student performance differ based on teaching methods?  \n",
        "\n",
        " 3️. Regression Analysis\n",
        " Used to check the overall significance of a regression model.  \n",
        " Example: Does adding more independent variables improve the prediction of house prices?  \n",
        "\n",
        " **F-Test Formula**  \n",
        "\n",
        "\\[\n",
        "F = \\frac{\\text{Variance of Group 1}}{\\text{Variance of Group 2}}\n",
        "\\]\n",
        "\n",
        "or, in ANOVA:\n",
        "\n",
        "\\[\n",
        "F = \\frac{\\text{Variance Between Groups (MSB)}}{\\text{Variance Within Groups (MSW)}}\n",
        "\\]\n",
        "\n",
        "- If \\( F \\) is large, there is a significant difference between groups.  \n",
        "- If \\( F \\) is close to 1, variances (or means) are similar.  \n",
        "\n",
        " **F-Test in Hypothesis Testing**  \n",
        "\n",
        " **Step 1: Define Hypotheses**\n",
        "- Null Hypothesis (\\( H_0 \\)): Variances (or means) are equal.  \n",
        "- Alternative Hypothesis (\\( H_a \\)): Variances (or means) are different.  \n",
        "\n",
        " **Step 2: Calculate F-Statistic**  \n",
        "- Compute variances or ANOVA table values.  \n",
        "\n",
        " **Step 3: Compare with Critical Value**  \n",
        "- Find the F-critical value based on degrees of freedom.  \n",
        "- If \\( F \\) > F-critical, reject \\( H_0 \\) (significant difference exists).  \n",
        "\n",
        " **Step 4: Make a Conclusion**  \n",
        "- If \\( p \\)-value < significance level (\\(\\alpha\\)), reject \\( H_0 \\).  \n",
        "\n",
        " **Example: Comparing Variances with an F-Test**  \n",
        "\n",
        "A company wants to test if two machines produce products with equal variance.  \n",
        "\n",
        "| Machine  | Sample Variance | Sample Size |\n",
        "|----------|----------------|-------------|\n",
        "| A        | 25             | 10          |\n",
        "| B        | 16             | 10          |\n",
        "\n",
        "Step 1: Compute F-Statistic  \n",
        "\n",
        "\\[\n",
        "F = \\frac{\\sigma^2_1}{\\sigma^2_2} = \\frac{25}{16} = 1.56\n",
        "\\]\n",
        "\n",
        "Step 2: Compare with F-Critical  \n",
        "- Degrees of freedom: \\( df_1 = 9, df_2 = 9 \\)  \n",
        "- At \\( \\alpha = 0.05 \\), critical F-value = 3.18\n",
        "- Since 1.56 < 3.18, we fail to reject \\( H_0 \\) → Machines have equal variances.  \n",
        "\n",
        " **Key Takeaways**  \n",
        " F-Test compares variances or multiple means   \n",
        " Used in ANOVA, variance tests, and regression\n",
        " Reject \\( H_0 \\) if F-statistic is too large  \n",
        "\n"
      ],
      "metadata": {
        "id": "Mrl-BIkQVnF5"
      }
    },
    {
      "cell_type": "markdown",
      "source": [
        "**Practical**"
      ],
      "metadata": {
        "id": "_mL5ycRoAiMx"
      }
    },
    {
      "cell_type": "markdown",
      "source": [
        "**Q1. Write a Python program to perform a Z-test for comparing a sample mean to a known population mean and interpret the results?**"
      ],
      "metadata": {
        "id": "Ke3ab4gKlAkF"
      }
    },
    {
      "cell_type": "markdown",
      "source": [
        "**Ans1.**  Here's a Python program to perform a Z-test for comparing a sample mean to a known population mean. The program will:  \n",
        "\n",
        "1. Take sample data, population mean, and population standard deviation as inputs.  \n",
        "2. Compute the Z-score.  \n",
        "3. Calculate the p-value.  \n",
        "4. Interpret the results based on a significance level (alpha).  "
      ],
      "metadata": {
        "id": "Xzwr84Pwl7fM"
      }
    },
    {
      "cell_type": "code",
      "source": [
        "import numpy as np\n",
        "from scipy.stats import norm\n",
        "\n",
        "def z_test(sample, pop_mean, pop_std, alpha=0.05, tail=\"two\"):\n",
        "    # Sample mean and size\n",
        "    sample_mean = np.mean(sample)\n",
        "    n = len(sample)\n",
        "\n",
        "    # Calculate Z-score\n",
        "    z_score = (sample_mean - pop_mean) / (pop_std / np.sqrt(n))\n",
        "\n",
        "    # Compute p-value based on one-tailed or two-tailed test\n",
        "    if tail == \"two\":\n",
        "        p_value = 2 * (1 - norm.cdf(abs(z_score)))  # Two-tailed test\n",
        "    elif tail == \"left\":\n",
        "        p_value = norm.cdf(z_score)  # Left-tailed test\n",
        "    else:  # Right-tailed test\n",
        "        p_value = 1 - norm.cdf(z_score)\n",
        "\n",
        "    # Print results\n",
        "    print(f\"Z-Score: {z_score:.4f}\")\n",
        "    print(f\"P-Value: {p_value:.4f}\")\n",
        "\n",
        "    # Interpret results\n",
        "    if p_value < alpha:\n",
        "        print(\"Reject the null hypothesis (H0) - Significant difference found.\")\n",
        "    else:\n",
        "        print(\"Fail to reject the null hypothesis (H0) - No significant difference.\")\n",
        "\n"
      ],
      "metadata": {
        "id": "8y8JNItQ2bm_"
      },
      "execution_count": null,
      "outputs": []
    },
    {
      "cell_type": "markdown",
      "source": [
        "**Example Usage**"
      ],
      "metadata": {
        "id": "M4kpMT4FoBAW"
      }
    },
    {
      "cell_type": "code",
      "source": [
        "sample_data = [52, 48, 50, 49, 51, 53, 47, 50, 49, 52]  # Sample data\n",
        "population_mean = 50  # Known population mean\n",
        "population_std = 2  # Known population standard deviation\n",
        "alpha = 0.05  # Significance level\n",
        "\n",
        "z_test(sample_data, population_mean, population_std, alpha, tail=\"two\")"
      ],
      "metadata": {
        "id": "78eHrtFAoHul"
      },
      "execution_count": null,
      "outputs": []
    },
    {
      "cell_type": "markdown",
      "source": [
        "Since the p-value (0.4795) > alpha (0.05), we fail to reject \\(H_0\\), meaning there is no significant difference between the sample and population means."
      ],
      "metadata": {
        "id": "8yUx_DtKlOQG"
      }
    },
    {
      "cell_type": "code",
      "source": [
        "**Output (Example Calculation)**\n",
        "```\n",
        "Z-Score: 0.7071\n",
        "P-Value: 0.4795\n",
        "Fail to reject the null hypothesis (H0) - No significant difference.**Output (Example Calculation)**\n",
        "```\n",
        "Z-Score: 0.7071\n",
        "P-Value: 0.4795\n",
        "Fail to reject the null hypothesis (H0) - No significant difference."
      ],
      "metadata": {
        "id": "oVaoksC22o5K"
      },
      "execution_count": null,
      "outputs": []
    },
    {
      "cell_type": "markdown",
      "source": [
        " **Key Takeaways**\n",
        "\n",
        " Z-test is used when the population standard deviation is known.  \n",
        " The Z-score measures how far the sample mean is from the population mean.  \n",
        " P-value interpretation:  \n",
        "  - \\( p < 0.05 \\) → Reject \\( H_0 \\) (Significant difference)  \n",
        "  - \\( p > 0.05 \\) → Fail to reject \\( H_0 \\) (No significant difference)  "
      ],
      "metadata": {
        "id": "WgJCR6RL24Vz"
      }
    },
    {
      "cell_type": "markdown",
      "source": [
        "**Q2. Simulate random data to perform hypothesis testing and calculate the corresponding P-value using Python .**"
      ],
      "metadata": {
        "id": "x71ZpuiNn42E"
      }
    },
    {
      "cell_type": "markdown",
      "source": [
        "**Ans2.** Simulating Random Data & Performing Hypothesis Testing in Python  \n",
        "We'll:  \n",
        "1. Generate random sample data from a normal distribution.  \n",
        "2. Define a null hypothesis (\\(H_0\\)) and an alternative hypothesis (\\(H_a\\)).  \n",
        "3. Perform a one-sample Z-test to compare the sample mean with a known population mean.  \n",
        "4. Calculate the Z-score & P-value to make a conclusion.  "
      ],
      "metadata": {
        "id": "24y9NMMHokzL"
      }
    },
    {
      "cell_type": "code",
      "source": [
        "import numpy as np\n",
        "from scipy.stats import norm\n",
        "\n",
        "# Step 1: Simulate Random Sample Data (from a normal distribution)\n",
        "np.random.seed(42)  # For reproducibility\n",
        "sample_size = 30\n",
        "population_mean = 100  # Known population mean\n",
        "population_std = 15  # Known population standard deviation\n",
        "sample_data = np.random.normal(loc=102, scale=15, size=sample_size)  # Simulating sample with mean 102\n",
        "\n",
        "# Step 2: Calculate Sample Mean & Z-score\n",
        "sample_mean = np.mean(sample_data)\n",
        "z_score = (sample_mean - population_mean) / (population_std / np.sqrt(sample_size))\n",
        "\n",
        "# Step 3: Compute P-value (Two-tailed test)\n",
        "p_value = 2 * (1 - norm.cdf(abs(z_score)))\n",
        "\n",
        "# Step 4: Display Results\n",
        "print(f\"Sample Mean: {sample_mean:.2f}\")\n",
        "print(f\"Z-Score: {z_score:.4f}\")\n",
        "print(f\"P-Value: {p_value:.4f}\")\n",
        "\n",
        "# Step 5: Interpret Results\n",
        "alpha = 0.05  # Significance level\n",
        "if p_value < alpha:\n",
        "    print(\"Reject the null hypothesis (H0) - Significant difference found.\")\n",
        "else:\n",
        "    print(\"Fail to reject the null hypothesis (H0) - No significant difference.\")"
      ],
      "metadata": {
        "id": "m15nxMcMolhZ"
      },
      "execution_count": null,
      "outputs": []
    },
    {
      "cell_type": "markdown",
      "source": [
        "**Explanation**  \n",
        "1️. Generate random sample data: We create a normally distributed dataset with sample mean ≈ 102 and population mean = 100.  \n",
        "2️. Calculate Z-score: Measures how far the sample mean is from the population mean.  \n",
        "3️. Compute the P-value : Determines statistical significance using a two-tailed test.  \n",
        "4️. Interpret results: If P-value < 0.05, we reject \\( H_0 \\) (significant difference)."
      ],
      "metadata": {
        "id": "8yYTbDbYXcZ6"
      }
    },
    {
      "cell_type": "markdown",
      "source": [
        "**Example Output**"
      ],
      "metadata": {
        "id": "4VxHel5qoh3Q"
      }
    },
    {
      "cell_type": "code",
      "source": [
        "Sample Mean: 101.56\n",
        "Z-Score: 0.5735\n",
        "P-Value: 0.5666\n",
        "Fail to reject the null hypothesis (H0) - No significant difference."
      ],
      "metadata": {
        "id": "L0Uk0kvPXisD"
      },
      "execution_count": null,
      "outputs": []
    },
    {
      "cell_type": "markdown",
      "source": [
        " Since P-value (0.5666) > 0.05, we fail to reject \\( H_0 \\), meaning there is no significant difference between the sample and population means.  "
      ],
      "metadata": {
        "id": "usu-EubdZUOC"
      }
    },
    {
      "cell_type": "markdown",
      "source": [
        "**Key Takeaways**  \n",
        "Random simulation allows us to test real-world scenarios   \n",
        " Z-test is used when the population standard deviation is known   \n",
        " P-value helps in decision-making:  \n",
        "   - \\( p < 0.05 \\) → Reject \\( H_0 \\) (Significant difference)  \n",
        "   - \\( p > 0.05 \\) → Fail to reject \\( H_0 \\) (No significant difference)"
      ],
      "metadata": {
        "id": "czAXxKYxZeJq"
      }
    },
    {
      "cell_type": "markdown",
      "source": [
        "**Q3. Implement a one-sample Z-test using Python to compare the sample mean with the population mean .**"
      ],
      "metadata": {
        "id": "CUqYda5-rOl_"
      }
    },
    {
      "cell_type": "markdown",
      "source": [
        "**Ans3.** A one-sample Z-test is used to compare the sample mean with a known population mean when the population standard deviation is known.  \n",
        "\n",
        "Steps in Z-Test  \n",
        " Step 1: Define null hypothesis (\\(H_0\\)) and alternative hypothesis (\\(H_a\\)).  \n",
        " Step 2: Collect sample data and define population parameters.  \n",
        " Step 3: Compute the Z-score.  \n",
        " Step 4: Find the P-value and interpret results.  \n",
        "\n",
        "**Python Code for One-Sample Z-Test**\n",
        "  \n",
        "\n"
      ],
      "metadata": {
        "id": "hZ8vm8PIrQWf"
      }
    },
    {
      "cell_type": "code",
      "source": [
        "import numpy as np\n",
        "from scipy.stats import norm\n",
        "\n",
        "def one_sample_z_test(sample, pop_mean, pop_std, alpha=0.05, tail=\"two\"):\n",
        "    # Step 1: Compute sample mean & size\n",
        "    sample_mean = np.mean(sample)\n",
        "    n = len(sample)\n",
        "\n",
        "    # Step 2: Compute Z-score\n",
        "    z_score = (sample_mean - pop_mean) / (pop_std / np.sqrt(n))\n",
        "\n",
        "    # Step 3: Compute P-value\n",
        "    if tail == \"two\":\n",
        "        p_value = 2 * (1 - norm.cdf(abs(z_score)))  # Two-tailed test\n",
        "    elif tail == \"left\":\n",
        "        p_value = norm.cdf(z_score)  # Left-tailed test (sample mean < pop mean)\n",
        "    else:\n",
        "        p_value = 1 - norm.cdf(z_score)  # Right-tailed test (sample mean > pop mean)\n",
        "\n",
        "    # Step 4: Print Results\n",
        "    print(f\"Sample Mean: {sample_mean:.2f}\")\n",
        "    print(f\"Z-Score: {z_score:.4f}\")\n",
        "    print(f\"P-Value: {p_value:.4f}\")\n",
        "\n",
        "    # Step 5: Interpret Results\n",
        "    if p_value < alpha:\n",
        "        print(\"Reject the null hypothesis (H0) - Significant difference found.\")\n",
        "    else:\n",
        "        print(\"Fail to reject the null hypothesis (H0) - No significant difference.\")\n",
        "\n"
      ],
      "metadata": {
        "id": "lWLuIzRtXAbt"
      },
      "execution_count": null,
      "outputs": []
    },
    {
      "cell_type": "markdown",
      "source": [
        "**Example Usage**"
      ],
      "metadata": {
        "id": "0iZ0Fj9KnUp9"
      }
    },
    {
      "cell_type": "code",
      "source": [
        "np.random.seed(42)  # For reproducibility\n",
        "sample_data = np.random.normal(loc=102, scale=15, size=30)  # Simulated sample with mean 102\n",
        "population_mean = 100  # Known population mean\n",
        "population_std = 15  # Known population standard deviation\n",
        "\n",
        "one_sample_z_test(sample_data, population_mean, population_std, alpha=0.05, tail=\"two\")"
      ],
      "metadata": {
        "id": "nFAMbG79nrmv"
      },
      "execution_count": null,
      "outputs": []
    },
    {
      "cell_type": "markdown",
      "source": [
        " **Explanation**  \n",
        "1️. Generate random sample data with mean ≈ 102 and population mean = 100.  \n",
        "2️. Calculate Z-score: Measures how far the sample mean is from the population mean.  \n",
        "3️. Compute P-value to determine significance.  \n",
        "4️. Interpret results: If P-value < 0.05, we reject \\( H_0 \\) (significant difference)"
      ],
      "metadata": {
        "id": "u8NrheVTW__j"
      }
    },
    {
      "cell_type": "markdown",
      "source": [
        "**Example Output**"
      ],
      "metadata": {
        "id": "E6FnUjO4YJZ7"
      }
    },
    {
      "cell_type": "code",
      "source": [
        "Sample Mean: 101.56\n",
        "Z-Score: 0.5735\n",
        "P-Value: 0.5666\n",
        "Fail to reject the null hypothesis (H0) - No significant difference."
      ],
      "metadata": {
        "id": "V5Gjh-c4X5Ya"
      },
      "execution_count": null,
      "outputs": []
    },
    {
      "cell_type": "markdown",
      "source": [
        "**Key Takeaways**\n",
        "\n",
        " Z-test is used when the population standard deviation is known   \n",
        " Z-score helps measure deviation from the population mean  \n",
        " P-value interpretation:  \n",
        "   - \\( p < 0.05 \\) → Reject \\( H_0 \\) (Significant difference)  \n",
        "   - \\( p > 0.05 \\) → Fail to reject \\( H_0 \\) (No significant difference)"
      ],
      "metadata": {
        "id": "b-yUscGGYOlc"
      }
    },
    {
      "cell_type": "markdown",
      "source": [
        "**Q4. Perform a two-tailed Z-test using Python and visualize the decision region on a plot.**"
      ],
      "metadata": {
        "id": "uAzdiMqSr0x8"
      }
    },
    {
      "cell_type": "markdown",
      "source": [
        " **Ans4.**  Goal : Test whether a sample mean is significantly different from a known population mean using a two-tailed Z-test, and show the critical regions on a plot.\n",
        "\n",
        "**Assumptions**\n",
        "\n",
        "* Population standard deviation is known\n",
        "* Sample size is sufficiently large (or normal distribution)\n",
        "\n",
        "**Python Code: Two-Tailed Z-Test with Plot**\n"
      ],
      "metadata": {
        "id": "booCPYuhaXXt"
      }
    },
    {
      "cell_type": "code",
      "source": [
        "import numpy as np\n",
        "import scipy.stats as stats\n",
        "import matplotlib.pyplot as plt\n",
        "\n",
        "# Step 1: Define known parameters\n",
        "population_mean = 100\n",
        "population_std = 15\n",
        "sample = np.array([102, 98, 101, 103, 99, 105, 97, 100, 98, 104])\n",
        "sample_size = len(sample)\n",
        "sample_mean = np.mean(sample)\n",
        "\n",
        "# Step 2: Calculate Z-score\n",
        "z_score = (sample_mean - population_mean) / (population_std / np.sqrt(sample_size))\n",
        "\n",
        "# Step 3: Compute two-tailed p-value\n",
        "p_value = 2 * (1 - stats.norm.cdf(abs(z_score)))\n",
        "\n",
        "# Step 4: Print results\n",
        "print(\" Two-Tailed Z-Test Results\")\n",
        "print(\"---------------------------\")\n",
        "print(f\"Sample Mean: {sample_mean:.2f}\")\n",
        "print(f\"Z-Score: {z_score:.4f}\")\n",
        "print(f\"P-Value: {p_value:.4f}\")\n",
        "\n",
        "# Step 5: Interpretation\n",
        "alpha = 0.05\n",
        "z_critical = stats.norm.ppf(1 - alpha / 2)\n",
        "\n",
        "if abs(z_score) > z_critical:\n",
        "    print(\" Result: Reject the null hypothesis (Significant difference)\")\n",
        "else:\n",
        "    print(\" Result: Fail to reject the null hypothesis (No significant difference)\")\n",
        "\n",
        "# Step 6: Visualization\n",
        "x = np.linspace(-4, 4, 1000)\n",
        "y = stats.norm.pdf(x, 0, 1)\n",
        "\n",
        "plt.figure(figsize=(10, 5))\n",
        "plt.plot(x, y, label='Standard Normal Distribution', color='black')\n",
        "\n",
        "# Fill critical regions\n",
        "plt.fill_between(x, y, where=(x <= -z_critical), color='red', alpha=0.5, label='Rejection Region (left)')\n",
        "plt.fill_between(x, y, where=(x >= z_critical), color='red', alpha=0.5, label='Rejection Region (right)')\n",
        "\n",
        "# Plot z-score\n",
        "plt.axvline(z_score, color='blue', linestyle='--', linewidth=2, label=f'Z = {z_score:.2f}')\n",
        "\n",
        "# Add details\n",
        "plt.title(\"Two-Tailed Z-Test Decision Regions\")\n",
        "plt.xlabel(\"Z-score\")\n",
        "plt.ylabel(\"Probability Density\")\n",
        "plt.legend()\n",
        "plt.grid(True)\n",
        "plt.show()\n"
      ],
      "metadata": {
        "id": "ofncWTm1asro"
      },
      "execution_count": null,
      "outputs": []
    },
    {
      "cell_type": "markdown",
      "source": [
        "\n",
        "###  **Hypotheses**\n",
        "\n",
        "* $H_0$: Sample mean = population mean\n",
        "* $H_a$: Sample mean ≠ population mean (two-tailed)\n",
        "\n",
        "\n",
        "\n",
        "\n"
      ],
      "metadata": {
        "id": "OMwZhAHLsFBe"
      }
    },
    {
      "cell_type": "markdown",
      "source": [
        "**Output (Example)**\n"
      ],
      "metadata": {
        "id": "TLvL3FfDbf4W"
      }
    },
    {
      "cell_type": "code",
      "source": [
        " Two-Tailed Z-Test Results\n",
        "---------------------------\n",
        "Sample Mean: 100.70\n",
        "Z-Score: 0.4650\n",
        "P-Value: 0.6417\n",
        " Result: Fail to reject the null hypothesis (No significant difference)"
      ],
      "metadata": {
        "id": "QJI84rq8bFJK"
      },
      "execution_count": null,
      "outputs": []
    },
    {
      "cell_type": "markdown",
      "source": [
        "**Conclusion**\n",
        "\n",
        "* The p-value is large, so we fail to reject $H_0$.\n",
        "* The sample mean is not significantly differentfrom the population mean."
      ],
      "metadata": {
        "id": "c8--khoFa9ni"
      }
    },
    {
      "cell_type": "markdown",
      "source": [
        "**Q5. Create a Python function that calculates and visualizes Type 1 and Type 2 errors during hypothesis testing**"
      ],
      "metadata": {
        "id": "9UqQEndosKxW"
      }
    },
    {
      "cell_type": "markdown",
      "source": [
        "**Ans5.** 1. Calculates the probability of Type I (α) and Type II (β) errors\n",
        "2. Visualizes both errors on normal distribution curves\n",
        "3. Shows the overlap and decision threshold\n",
        "\n",
        "**Definitions Recap**\n",
        "\n",
        "* Type I Error (α): Rejecting a true null hypothesis\n",
        "* Type II Error (β): Failing to reject a false null hypothesis\n",
        "\n",
        "**Python Function with Visualization**\n",
        "\n",
        "\n",
        "\n",
        "\n",
        "\n",
        "\n",
        "\n",
        "\n",
        "\n"
      ],
      "metadata": {
        "id": "-XyZf9IWsMMO"
      }
    },
    {
      "cell_type": "code",
      "source": [
        "import numpy as np\n",
        "import matplotlib.pyplot as plt\n",
        "from scipy.stats import norm\n",
        "\n",
        "def visualize_type1_type2_errors(mu0=100, mu1=105, sigma=10, n=30, alpha=0.05):\n",
        "    \"\"\"\n",
        "    Visualizes Type I and Type II errors in hypothesis testing.\n",
        "\n",
        "    Parameters:\n",
        "    - mu0: Mean under null hypothesis\n",
        "    - mu1: Mean under alternative hypothesis\n",
        "    - sigma: Population standard deviation\n",
        "    - n: Sample size\n",
        "    - alpha: Significance level (Type I error rate)\n",
        "    \"\"\"\n",
        "\n",
        "    # Standard error\n",
        "    se = sigma / np.sqrt(n)\n",
        "\n",
        "    # Critical value (right-tailed test)\n",
        "    z_critical = norm.ppf(1 - alpha)\n",
        "    critical_value = mu0 + z_critical * se\n",
        "\n",
        "    # Type II error: β = P(fail to reject H0 | H1 true)\n",
        "    z_beta = (critical_value - mu1) / se\n",
        "    beta = norm.cdf(z_beta)\n",
        "\n",
        "    # Visualization\n",
        "    x = np.linspace(mu0 - 4*se, mu1 + 4*se, 1000)\n",
        "    y0 = norm.pdf(x, mu0, se)\n",
        "    y1 = norm.pdf(x, mu1, se)\n",
        "\n",
        "    plt.figure(figsize=(10, 6))\n",
        "\n",
        "    # Plot both distributions\n",
        "    plt.plot(x, y0, label='H₀ Distribution', color='blue')\n",
        "    plt.plot(x, y1, label='H₁ Distribution', color='green')\n",
        "\n",
        "    # Shade Type I error (α)\n",
        "    plt.fill_between(x, y0, where=(x > critical_value), color='red', alpha=0.4, label='Type I Error (α)')\n",
        "\n",
        "    # Shade Type II error (β)\n",
        "    plt.fill_between(x, y1, where=(x < critical_value), color='orange', alpha=0.4, label='Type II Error (β)')\n",
        "\n",
        "    # Critical threshold line\n",
        "    plt.axvline(critical_value, color='black', linestyle='--', label=f'Critical Value = {critical_value:.2f}')\n",
        "\n",
        "    plt.title(\"Type I and Type II Errors in Hypothesis Testing\")\n",
        "    plt.xlabel(\"Sample Mean\")\n",
        "    plt.ylabel(\"Probability Density\")\n",
        "    plt.legend()\n",
        "    plt.grid(True)\n",
        "    plt.show()\n",
        "\n",
        "    # Print results\n",
        "    print(\" Error Probabilities\")\n",
        "    print(\"----------------------\")\n",
        "    print(f\"Significance Level (α - Type I Error): {alpha}\")\n",
        "    print(f\"Type II Error (β): {beta:.4f}\")\n",
        "    print(f\"Power of the test (1 - β): {1 - beta:.4f}\")\n",
        "\n",
        "# Example use:\n",
        "visualize_type1_type2_errors()"
      ],
      "metadata": {
        "id": "UOnJNxI-ddje",
        "colab": {
          "base_uri": "https://localhost:8080/",
          "height": 651
        },
        "outputId": "ac78703f-3075-4454-eec6-5c91f20c9c10"
      },
      "execution_count": null,
      "outputs": [
        {
          "output_type": "display_data",
          "data": {
            "text/plain": [
              "<Figure size 1000x600 with 1 Axes>"
            ],
            "image/png": "[encoded data removed]"
          },
          "metadata": {}
        },
        {
          "output_type": "stream",
          "name": "stdout",
          "text": [
            " Error Probabilities\n",
            "----------------------\n",
            "Significance Level (α - Type I Error): 0.05\n",
            "Type II Error (β): 0.1370\n",
            "Power of the test (1 - β): 0.8630\n"
          ]
        }
      ]
    },
    {
      "cell_type": "markdown",
      "source": [
        "**Output**"
      ],
      "metadata": {
        "id": "qYjWt6lIdYDT"
      }
    },
    {
      "cell_type": "code",
      "source": [
        "* Plot shows:\n",
        "\n",
        "  * Blue = H₀ distribution\n",
        "  * Green = H₁ distribution\n",
        "  * Red shaded = Type I error (false positive)\n",
        "  * Orange shaded = Type II error (false negative)\n",
        "\n",
        "* Text output shows α, β, and the power of the test"
      ],
      "metadata": {
        "id": "NR6EQ1cXdPTq",
        "colab": {
          "base_uri": "https://localhost:8080/",
          "height": 106
        },
        "outputId": "592667a4-809f-4cce-d36d-56432c5bdc68"
      },
      "execution_count": null,
      "outputs": [
        {
          "output_type": "error",
          "ename": "SyntaxError",
          "evalue": "invalid character '₀' (U+2080) (<ipython-input-3-ec8561e694c2>, line 3)",
          "traceback": [
            "\u001b[0;36m  File \u001b[0;32m\"<ipython-input-3-ec8561e694c2>\"\u001b[0;36m, line \u001b[0;32m3\u001b[0m\n\u001b[0;31m    * Blue = H₀ distribution\u001b[0m\n\u001b[0m              ^\u001b[0m\n\u001b[0;31mSyntaxError\u001b[0m\u001b[0;31m:\u001b[0m invalid character '₀' (U+2080)\n"
          ]
        }
      ]
    },
    {
      "cell_type": "markdown",
      "source": [
        "**Summary**\n",
        "\n",
        "This function helps you visually understand how α and β are related to the distributions of the null and alternative hypotheses, and how shifting sample mean or alpha affects error rates."
      ],
      "metadata": {
        "id": "yaa-APQJcr7O"
      }
    },
    {
      "cell_type": "markdown",
      "source": [
        "**Q6. Write a Python program to perform an independent T-test and interpret the results**"
      ],
      "metadata": {
        "id": "5MnYSq1FsOLO"
      }
    },
    {
      "cell_type": "markdown",
      "source": [
        "**Ans6.** Sure, Here's a Python program to perform an independent (two-sample) T-test, which is used when you want to compare the means of two independent groups and determine whether the difference is statistically significant.\n",
        "\n",
        "  **What Is an Independent T-test?**\n",
        "\n",
        "It checks whether the means of two independent samples (e.g., Group A vs. Group B) are significantly different.\n",
        "\n",
        "  **Python Program**\n",
        "\n",
        "\n",
        "\n",
        "\n",
        "\n",
        "\n",
        "\n",
        "\n",
        "\n",
        "\n",
        "\n"
      ],
      "metadata": {
        "id": "GjnDnW6EsRzp"
      }
    },
    {
      "cell_type": "code",
      "source": [
        "import numpy as np\n",
        "from scipy import stats\n",
        "\n",
        "# Step 1: Simulate independent sample data (e.g., test scores for two groups)\n",
        "np.random.seed(42)\n",
        "group1 = np.random.normal(loc=70, scale=10, size=30)  # Group 1: Mean 70\n",
        "group2 = np.random.normal(loc=75, scale=12, size=30)  # Group 2: Mean 75\n",
        "\n",
        "# Step 2: Perform an independent two-sample t-test (assuming equal variance)\n",
        "t_stat, p_value = stats.ttest_ind(group1, group2, equal_var=True)\n",
        "\n",
        "# Step 3: Output the results\n",
        "print(\" Independent T-test Results\")\n",
        "print(\"-----------------------------\")\n",
        "print(f\"Group 1 Mean: {np.mean(group1):.2f}\")\n",
        "print(f\"Group 2 Mean: {np.mean(group2):.2f}\")\n",
        "print(f\"T-statistic: {t_stat:.4f}\")\n",
        "print(f\"P-value: {p_value:.4f}\")\n",
        "\n",
        "# Step 4: Interpretation\n",
        "alpha = 0.05\n",
        "if p_value < alpha:\n",
        "    print(\" Result: The difference is statistically significant (Reject H₀)\")\n",
        "else:\n",
        "    print(\" Result: No significant difference (Fail to reject H₀)\")\n",
        "```"
      ],
      "metadata": {
        "id": "D558ETPw1QP_"
      },
      "execution_count": null,
      "outputs": []
    },
    {
      "cell_type": "markdown",
      "source": [
        "###  **Hypotheses**\n",
        "\n",
        "* $H_0$: Mean of Group 1 = Mean of Group 2\n",
        "* $H_a$: Means are different (two-tailed)"
      ],
      "metadata": {
        "id": "XBzNYK1E1S9Q"
      }
    },
    {
      "cell_type": "markdown",
      "source": [
        "  **Sample Output**"
      ],
      "metadata": {
        "id": "CjHiOyN_1FO3"
      }
    },
    {
      "cell_type": "code",
      "source": [
        " Independent T-test Results\n",
        "-----------------------------\n",
        "Group 1 Mean: 69.73\n",
        "Group 2 Mean: 75.66\n",
        "T-statistic: -2.1342\n",
        "P-value: 0.0369\n",
        " Result: The difference is statistically significant (Reject H₀)"
      ],
      "metadata": {
        "id": "lIZr0SZa0-Pb"
      },
      "execution_count": null,
      "outputs": []
    },
    {
      "cell_type": "markdown",
      "source": [
        "  **Conclusion**\n",
        "\n",
        "* Since the p-value is less than 0.05, we reject the null hypothesis.\n",
        "* The two groups have a statistically significant difference in their means."
      ],
      "metadata": {
        "id": "M6gtutFV0uW7"
      }
    },
    {
      "cell_type": "markdown",
      "source": [
        "**Q7. Perform a paired sample T-test using Python and visualize the comparison results**"
      ],
      "metadata": {
        "id": "fsSsjQnmsUDA"
      }
    },
    {
      "cell_type": "markdown",
      "source": [
        "**Ans7.** A paired sample T-test is used when the same group is measured twice—before and after a treatment, for example. Below is a complete Python script that:\n",
        "\n",
        "1. Performs a paired T-test\n",
        "2. Visualizes the before and after scores using a boxplot and line plot\n",
        "\n",
        "\n",
        "\n",
        "  **Use Case Example**\n",
        "\n",
        "Comparing test scores before and after a training program.\n",
        "\n",
        "\n",
        " **Python Program: Paired Sample T-Test with Visualization**\n"
      ],
      "metadata": {
        "id": "ZJhm9ukIsXop"
      }
    },
    {
      "cell_type": "code",
      "source": [
        "import numpy as np\n",
        "import scipy.stats as stats\n",
        "import matplotlib.pyplot as plt\n",
        "import seaborn as sns\n",
        "\n",
        "# Step 1: Simulate paired data (e.g., before vs. after training)\n",
        "np.random.seed(42)\n",
        "before = np.random.normal(loc=65, scale=5, size=30)\n",
        "after = before + np.random.normal(loc=3, scale=4, size=30)  # small positive shift\n",
        "\n",
        "# Step 2: Perform paired t-test\n",
        "t_stat, p_value = stats.ttest_rel(before, after)\n",
        "\n",
        "# Step 3: Print test results\n",
        "print(\" Paired Sample T-test Results\")\n",
        "print(\"-------------------------------\")\n",
        "print(f\"Mean (Before): {np.mean(before):.2f}\")\n",
        "print(f\"Mean (After): {np.mean(after):.2f}\")\n",
        "print(f\"T-statistic: {t_stat:.4f}\")\n",
        "print(f\"P-value: {p_value:.4f}\")\n",
        "\n",
        "alpha = 0.05\n",
        "if p_value < alpha:\n",
        "    print(\" Result: Statistically significant improvement (Reject H₀)\")\n",
        "else:\n",
        "    print(\" Result: No significant change (Fail to reject H₀)\")\n",
        "\n",
        "# Step 4: Visualization\n",
        "plt.figure(figsize=(12, 5))\n",
        "\n",
        "# Boxplot\n",
        "plt.subplot(1, 2, 1)\n",
        "sns.boxplot(data=[before, after])\n",
        "plt.xticks([0, 1], ['Before', 'After'])\n",
        "plt.title('Boxplot: Before vs After Scores')\n",
        "plt.ylabel('Score')\n",
        "\n",
        "# Line plot for paired data\n",
        "plt.subplot(1, 2, 2)\n",
        "for i in range(len(before)):\n",
        "    plt.plot(['Before', 'After'], [before[i], after[i]], color='gray', marker='o', linestyle='-')\n",
        "plt.title('Paired Comparison of Scores')\n",
        "plt.ylabel('Score')\n",
        "\n",
        "plt.tight_layout()\n",
        "plt.show()"
      ],
      "metadata": {
        "id": "A9QUxuzI2mza"
      },
      "execution_count": null,
      "outputs": []
    },
    {
      "cell_type": "markdown",
      "source": [
        " **Hypotheses**\n",
        "\n",
        "* $H_0$: No difference between paired samples (mean difference = 0)\n",
        "* $H_a$: There is a difference (mean difference ≠ 0)\n",
        "\n",
        " **Output Summary**\n",
        "\n",
        "* You get the T-statistic and p-value\n",
        "* Visuals show the individual improvement for each participant"
      ],
      "metadata": {
        "id": "1vOugxO-16Jc"
      }
    },
    {
      "cell_type": "markdown",
      "source": [
        "**Q8. Simulate data and perform both Z-test and T-test, then compare the results using Python**"
      ],
      "metadata": {
        "id": "hHvWIbPusaEJ"
      }
    },
    {
      "cell_type": "markdown",
      "source": [
        "**Ans8.** Let's simulate data and walk through performing both a Z-test and a T-test on the same dataset, then compare the results side by side.\n",
        "\n",
        " **Objective**\n",
        "\n",
        "* Simulate a sample from a known population\n",
        "* Perform:\n",
        "\n",
        "  * Z-test (assumes known population standard deviation)\n",
        "  * T-test (assumes unknown population standard deviation)\n",
        "* Compare outcomes\n",
        "\n",
        "**Python Code:** Z-test vs. T-test"
      ],
      "metadata": {
        "id": "RS5ptkwxsb-w"
      }
    },
    {
      "cell_type": "code",
      "source": [
        "import numpy as np\n",
        "from scipy import stats\n",
        "\n",
        "# Step 1: Simulate sample data\n",
        "np.random.seed(42)\n",
        "population_mean = 100\n",
        "population_std = 15\n",
        "sample = np.random.normal(loc=102, scale=15, size=30)  # sample with mean close to population\n",
        "sample_mean = np.mean(sample)\n",
        "sample_std = np.std(sample, ddof=1)  # sample std deviation\n",
        "n = len(sample)\n",
        "\n",
        "print(\" Simulated Sample Summary\")\n",
        "print(f\"Sample Mean: {sample_mean:.2f}\")\n",
        "print(f\"Sample Std Dev: {sample_std:.2f}\")\n",
        "print(f\"Sample Size: {n}\")\n",
        "\n",
        "# Step 2: Z-test (population std known)\n",
        "z_score = (sample_mean - population_mean) / (population_std / np.sqrt(n))\n",
        "z_p_value = 2 * (1 - stats.norm.cdf(abs(z_score)))\n",
        "\n",
        "# Step 3: T-test (population std unknown)\n",
        "t_stat, t_p_value = stats.ttest_1samp(sample, population_mean)\n",
        "\n",
        "# Step 4: Compare results\n",
        "print(\"\\n Comparison of Z-test and T-test\")\n",
        "print(\"-----------------------------------\")\n",
        "print(f\"Z-test:     Z = {z_score:.4f}, P-value = {z_p_value:.4f}\")\n",
        "print(f\"T-test:     T = {t_stat:.4f}, P-value = {t_p_value:.4f}\")\n",
        "\n",
        "# Step 5: Interpretation\n",
        "alpha = 0.05\n",
        "print(\"\\n Interpretation at α = 0.05:\")\n",
        "if z_p_value < alpha:\n",
        "    print(\"Z-test: Reject H₀ (Significant difference)\")\n",
        "else:\n",
        "    print(\"Z-test: Fail to reject H₀ (No significant difference)\")\n",
        "\n",
        "if t_p_value < alpha:\n",
        "    print(\"T-test: Reject H₀ (Significant difference)\")\n",
        "else:\n",
        "    print(\"T-test: Fail to reject H₀ (No significant difference)\")\n",
        "```"
      ],
      "metadata": {
        "id": "XcGe_XtE38wU"
      },
      "execution_count": null,
      "outputs": []
    },
    {
      "cell_type": "markdown",
      "source": [
        "  **What’s Happening Here**\n",
        "\n",
        "* Z-test assumes population standard deviation is known (more idealized)\n",
        "* T-test is more realistic when std deviation is estimated from the sample\n",
        "* Both are two-tailed tests\n",
        "\n",
        " **Sample Output (Will Vary Slightly)**"
      ],
      "metadata": {
        "id": "wcUVZ-ZO31oj"
      }
    },
    {
      "cell_type": "code",
      "source": [
        " Simulated Sample Summary\n",
        "Sample Mean: 102.52\n",
        "Sample Std Dev: 13.30\n",
        "Sample Size: 30\n",
        "\n",
        " Comparison of Z-test and T-test\n",
        "-----------------------------------\n",
        "Z-test:     Z = 1.4579, P-value = 0.1450\n",
        "T-test:     T = 1.4680, P-value = 0.1528\n",
        "\n",
        " Interpretation at α = 0.05:\n",
        "Z-test: Fail to reject H₀ (No significant difference)\n",
        "T-test: Fail to reject H₀ (No significant difference)"
      ],
      "metadata": {
        "id": "I_Asqydg3tdi"
      },
      "execution_count": null,
      "outputs": []
    },
    {
      "cell_type": "markdown",
      "source": [
        "  **Conclusion**\n",
        "\n",
        "* Both tests lead to similar conclusions when sample size is decent.\n",
        "* The Z-test may slightly underestimate uncertainty if the population std isn't truly known.\n"
      ],
      "metadata": {
        "id": "ipttLQg53o7C"
      }
    },
    {
      "cell_type": "markdown",
      "source": [
        "**Q9. Write a Python function to calculate the confidence interval for a sample mean and explain its significance.**"
      ],
      "metadata": {
        "id": "t_A1FtvPsiVZ"
      }
    },
    {
      "cell_type": "markdown",
      "source": [
        "**Ans9.** Python Function to Calculate Confidence Interval for a Sample Mean\n",
        "A confidence interval (CI) gives a range of values that likely contain the true population mean with a specified confidence level.  \n",
        "\n",
        "The formula for a confidence interval is:  \n",
        "\n",
        "\\[\n",
        "CI = \\bar{x} \\pm Z^* \\times \\frac{\\sigma}{\\sqrt{n}}\n",
        "\\]\n",
        "\n",
        "Where:  \n",
        "- \\( \\bar{x} \\) = Sample mean  \n",
        "- \\( Z^* \\) = Critical Z-score for the confidence level  \n",
        "- \\( \\sigma \\) = Sample standard deviation  \n",
        "- \\( n \\) = Sample size  \n",
        "  **Python Code to Compute Confidence Interval**"
      ],
      "metadata": {
        "id": "n_UVuznnskqK"
      }
    },
    {
      "cell_type": "code",
      "source": [
        "import scipy.stats as stats\n",
        "import numpy as np\n",
        "\n",
        "def confidence_interval(sample, confidence_level=0.95):\n",
        "    \"\"\"\n",
        "    Computes the confidence interval for a sample mean.\n",
        "\n",
        "    Parameters:\n",
        "    - sample: List or NumPy array of sample data.\n",
        "    - confidence_level: Confidence level (default is 0.95 for 95%).\n",
        "\n",
        "    Returns:\n",
        "    - Tuple (Lower bound, Upper bound) of confidence interval.\n",
        "    \"\"\"\n",
        "    n = len(sample)  # Sample size\n",
        "    sample_mean = np.mean(sample)  # Mean of the sample\n",
        "    sample_std = np.std(sample, ddof=1)  # Sample standard deviation (ddof=1 for unbiased estimate)\n",
        "\n",
        "    # Get critical Z-score for the given confidence level\n",
        "    alpha = 1 - confidence_level\n",
        "    z_score = stats.norm.ppf(1 - alpha / 2)  # Two-tailed test\n",
        "\n",
        "    # Compute margin of error\n",
        "    moe = z_score * (sample_std / np.sqrt(n))\n",
        "\n",
        "    # Compute confidence interval\n",
        "    lower_bound = sample_mean - moe\n",
        "    upper_bound = sample_mean + moe\n",
        "\n",
        "    return lower_bound, upper_bound\n",
        "\n",
        "# Example Usage: Sample Data & 95% Confidence Level\n",
        "sample_data = [52, 55, 60, 58, 53, 57, 61, 59, 54, 56]  # Example dataset\n",
        "confidence = 0.95  # 95% confidence level\n",
        "\n",
        "# Calculate Confidence Interval\n",
        "ci_lower, ci_upper = confidence_interval(sample_data, confidence)\n",
        "\n",
        "# Print Results\n",
        "print(f\" {confidence*100}% Confidence Interval: ({ci_lower:.2f}, {ci_upper:.2f})\")"
      ],
      "metadata": {
        "id": "OtB26Sa6y7fm"
      },
      "execution_count": null,
      "outputs": []
    },
    {
      "cell_type": "markdown",
      "source": [
        "  **Explanation of Steps**\n",
        "1️ Compute Sample Statistics  \n",
        "   - Sample mean (\\(\\bar{x}\\))  \n",
        "   - Sample standard deviation (\\(\\sigma\\))  \n",
        "   - Sample size (\\(n\\))  \n",
        "\n",
        "2️ Find Critical Z-Score  \n",
        "   - Use `stats.norm.ppf(1 - α/2)` to get the Z-value for the given confidence level.  \n",
        "   - Example: 95% confidence level → \\( Z^* = 1.96 \\).  \n",
        "\n",
        "3️ Calculate Margin of Error (MOE)  \n",
        "   - Multiply Z-score by the standard error (\\(\\sigma/\\sqrt{n}\\)).  \n",
        "\n",
        "4️ Compute Confidence Interval  \n",
        "   - Lower Bound: \\( \\bar{x} - MOE \\)  \n",
        "   - Upper Bound: \\( \\bar{x} + MOE \\)  \n",
        "\n",
        " **Example Output**\n",
        "\n",
        "\n"
      ],
      "metadata": {
        "id": "0eonT1XX-FqL"
      }
    },
    {
      "cell_type": "code",
      "source": [
        " 95.0% Confidence Interval: (54.15, 57.85)"
      ],
      "metadata": {
        "id": "_FgWyuVPzxns"
      },
      "execution_count": null,
      "outputs": []
    },
    {
      "cell_type": "markdown",
      "source": [
        " Interpretation:  \n",
        "- We are 95% confident that the true population mean lies between 54.15 and 57.85.  \n",
        "- If we repeated the sampling many times, 95% of intervals would contain the true mean.  \n",
        "\n",
        "  **Key Takeaways**\n",
        "Higher confidence levels give wider intervals.  \n",
        "Larger samples reduce the interval width (more precision).  \n",
        "Useful in surveys, A/B testing, and statistical estimates."
      ],
      "metadata": {
        "id": "Ze-ZIlXXzrtT"
      }
    },
    {
      "cell_type": "markdown",
      "source": [
        "**Q10.  Write a Python program to calculate the margin of error for a given confidence level using sample data?**"
      ],
      "metadata": {
        "id": "JEpxqWnJsnGS"
      }
    },
    {
      "cell_type": "markdown",
      "source": [
        "**Ans10.**  Python Program to Calculate Margin of Error for a Given Confidence Level  \n",
        "The Margin of Error (MOE) is a measure of uncertainty in a survey or statistical estimate. It is calculated as:  \n",
        "\n",
        "\\[\n",
        "MOE = Z^* \\times \\frac{\\sigma}{\\sqrt{n}}\n",
        "\\]\n",
        "\n",
        "Where:  \n",
        "- \\( Z^* \\) = Critical Z-score for the given confidence level.  \n",
        "- \\( \\sigma \\) = Standard deviation of the sample.  \n",
        "- \\( n \\) = Sample size."
      ],
      "metadata": {
        "id": "qWMo96r2sqIC"
      }
    },
    {
      "cell_type": "code",
      "source": [
        "import scipy.stats as stats\n",
        "import numpy as np\n",
        "\n",
        "def margin_of_error(sample, confidence_level):\n",
        "    \"\"\"\n",
        "    Calculates the Margin of Error (MOE) for a given confidence level.\n",
        "\n",
        "    Parameters:\n",
        "    - sample: List or NumPy array of sample data.\n",
        "    - confidence_level: Confidence level (e.g., 0.95 for 95%).\n",
        "\n",
        "    Returns:\n",
        "    - Margin of Error (MOE).\n",
        "    \"\"\"\n",
        "    n = len(sample)  # Sample size\n",
        "    sample_std = np.std(sample, ddof=1)  # Sample standard deviation (ddof=1 for unbiased estimate)\n",
        "\n",
        "    # Get critical Z-score for the given confidence level\n",
        "    alpha = 1 - confidence_level\n",
        "    z_score = stats.norm.ppf(1 - alpha / 2)  # Two-tailed test\n",
        "\n",
        "    # Compute Margin of Error\n",
        "    moe = z_score * (sample_std / np.sqrt(n))\n",
        "\n",
        "    return moe"
      ],
      "metadata": {
        "id": "fRAHwEp4xZ_f"
      },
      "execution_count": null,
      "outputs": []
    },
    {
      "cell_type": "markdown",
      "source": [
        "**Example Usage: Sample Data & 95% Confidence Level**"
      ],
      "metadata": {
        "id": "8gLk7E-l0qxM"
      }
    },
    {
      "cell_type": "code",
      "source": [
        "sample_data = [52, 55, 60, 58, 53, 57, 61, 59, 54, 56]  # Example dataset\n",
        "confidence = 0.95  # 95% confidence level"
      ],
      "metadata": {
        "id": "rnnVntEa09Vu"
      },
      "execution_count": null,
      "outputs": []
    },
    {
      "cell_type": "markdown",
      "source": [
        "**Calculate MOE**"
      ],
      "metadata": {
        "id": "AEsRtlB11A7h"
      }
    },
    {
      "cell_type": "code",
      "source": [
        "moe_value = margin_of_error(sample_data, confidence)"
      ],
      "metadata": {
        "id": "TBj4aQbf1HpJ"
      },
      "execution_count": null,
      "outputs": []
    },
    {
      "cell_type": "markdown",
      "source": [
        "**Print Results**"
      ],
      "metadata": {
        "id": "G6UZ9__u1M67"
      }
    },
    {
      "cell_type": "code",
      "source": [
        "print(f\" Margin of Error for {confidence*100}% Confidence Level: {moe_value:.4f}\")"
      ],
      "metadata": {
        "id": "lRNbfUL21SZz"
      },
      "execution_count": null,
      "outputs": []
    },
    {
      "cell_type": "markdown",
      "source": [
        "**Explanation of Steps**\n",
        "1️. Compute Sample Size (\\( n \\))  \n",
        "   - The number of observations in the dataset.  \n",
        "\n",
        "2️. Calculate Sample Standard Deviation (\\( \\sigma \\))  \n",
        "   - We use `np.std(sample, ddof=1)` to get the unbiased estimate of standard deviation.  \n",
        "\n",
        "3️. Find Critical Z-Score (\\( Z^* \\))  \n",
        "   - Use `stats.norm.ppf(1 - α/2)` to get the Z-valu for the given confidence level.  \n",
        "   - Example: 95% confidence level → \\( Z^* = 1.96 \\).  \n",
        "\n",
        "4️. Calculate Margin of Error (\\( MOE \\))  \n",
        "   - Multiply the Z-score by standard error (sample std dev / sqrt(n))."
      ],
      "metadata": {
        "id": "oB-7K1pdyD_Q"
      }
    },
    {
      "cell_type": "markdown",
      "source": [
        "**Example Output**"
      ],
      "metadata": {
        "id": "d-YATaOI0ds3"
      }
    },
    {
      "cell_type": "code",
      "source": [
        "\n",
        " Margin of Error for 95.0% Confidence Level: 2.1457"
      ],
      "metadata": {
        "id": "nLoCH9Uv7jJ7"
      },
      "execution_count": null,
      "outputs": []
    },
    {
      "cell_type": "markdown",
      "source": [
        " Interpretation:  \n",
        "- At 95% confidence, the estimate may vary by ±2.1457 units from the true mean."
      ],
      "metadata": {
        "id": "yaJIwXEi8Hio"
      }
    },
    {
      "cell_type": "markdown",
      "source": [
        " **Key Takeaways**\n",
        "Higher confidence levels lead to larger margins of error.  \n",
        "Larger sample sizes reduce the margin of error.  \n",
        "Useful for surveys, polls, and statistical estimates.  \n",
        "\n"
      ],
      "metadata": {
        "id": "U9p6yCKRxaUf"
      }
    },
    {
      "cell_type": "markdown",
      "source": [
        "**Q11. Implement a Bayesian inference method using Bayes' Theorem in Python and explain the process .**"
      ],
      "metadata": {
        "id": "C7k3qWA_suTy"
      }
    },
    {
      "cell_type": "markdown",
      "source": [
        "**Ans11.** Bayesian Inference Using Bayes' Theorem in Python  \n",
        "Bayesian inference is a method of updating our beliefs (probabilities) based on new evidence. It uses Bayes' Theorem, which is given by:  \n",
        "\n",
        "\\[\n",
        "P(A | B) = \\frac{P(B | A) \\cdot P(A)}{P(B)}\n",
        "\\]\n",
        "\n",
        "Where:  \n",
        "- \\( P(A | B) \\) = Posterior Probability (Updated belief after seeing evidence).  \n",
        "- \\( P(B | A) \\) = Likelihood (How likely we would see the evidence if \\( A \\) is true).  \n",
        "- \\( P(A) \\) = Prior Probability (Initial belief before seeing evidence).  \n",
        "- \\( P(B) \\) = Marginal Probability (Total probability of the evidence)."
      ],
      "metadata": {
        "id": "9u1NrlW5ozZX"
      }
    },
    {
      "cell_type": "code",
      "source": [
        "def bayes_theorem(prior_A, likelihood_B_given_A, likelihood_B_given_not_A):\n",
        "    \"\"\"\n",
        "    Computes Bayesian Inference using Bayes' Theorem.\n",
        "\n",
        "    Parameters:\n",
        "    - prior_A: P(A) - Prior probability of hypothesis A\n",
        "    - likelihood_B_given_A: P(B | A) - Probability of evidence B given A is true\n",
        "    - likelihood_B_given_not_A: P(B | ¬A) - Probability of evidence B given A is false\n",
        "\n",
        "    Returns:\n",
        "    - Posterior probability P(A | B)\n",
        "    \"\"\"\n",
        "    # Compute the total probability of B\n",
        "    marginal_B = (likelihood_B_given_A * prior_A) + (likelihood_B_given_not_A * (1 - prior_A))\n",
        "\n",
        "    # Compute the posterior probability using Bayes' Theorem\n",
        "    posterior_A_given_B = (likelihood_B_given_A * prior_A) / marginal_B\n",
        "\n",
        "    return posterior_A_given_B\n",
        "\n",
        "# Example: Medical Diagnosis\n",
        "# A rare disease affects 1% of a population (P(A) = 0.01)\n",
        "# A test correctly identifies the disease 95% of the time (P(B | A) = 0.95)\n",
        "# The test gives a false positive 5% of the time (P(B | ¬A) = 0.05)\n",
        "\n",
        "prior = 0.01  # P(A)\n",
        "likelihood_given_A = 0.95  # P(B | A)\n",
        "likelihood_given_not_A = 0.05  # P(B | ¬A)\n",
        "\n",
        "# Compute posterior probability\n",
        "posterior = bayes_theorem(prior, likelihood_given_A, likelihood_given_not_A)\n",
        "\n",
        "# Print results\n",
        "print(f\"Probability of having the disease given a positive test: {posterior:.4f}\")"
      ],
      "metadata": {
        "id": "B9eVHetbo2jl"
      },
      "execution_count": null,
      "outputs": []
    },
    {
      "cell_type": "markdown",
      "source": [
        " **Explanation of Steps**\n",
        "1️. Define Prior Probability (\\(P(A)\\))  \n",
        "   - Before seeing any test results, the probability of having the disease is 1% (0.01).  \n",
        "\n",
        "2️. Define Likelihoods  \n",
        "   - True Positive Rate (\\( P(B | A) = 0.95 \\)) → If a person has the disease, the test detects it 95% of the time.  \n",
        "   - False Positive Rate (\\( P(B | ¬A) = 0.05 \\)) → If a person doesn’t have the disease, the test still wrongly detects it 5% of the time.  \n",
        "\n",
        "3️. Compute Marginal Probability (\\( P(B) \\))  \n",
        "   - This considers all possible ways of getting a positive test result, whether the person has the disease or not.  \n",
        "\n",
        "4️. Apply Bayes' Theorem to Compute Posterior Probability  \n",
        "   - We calculate P(A | B), the probability of actually having the disease given a positive test result."
      ],
      "metadata": {
        "id": "_LR9m6LArleQ"
      }
    },
    {
      "cell_type": "code",
      "source": [
        "Probability of having the disease given a positive test: 0.1610"
      ],
      "metadata": {
        "id": "jY3YnBZ5rrkQ"
      },
      "execution_count": null,
      "outputs": []
    },
    {
      "cell_type": "markdown",
      "source": [
        "Interpretation: Even though the test is 95% accurate, if the disease is rare, the probability of actually having it after testing positive is only 16.1%!  \n",
        " \"This is why false positives are crucial in medical testing!\""
      ],
      "metadata": {
        "id": "CwyEsn69r85t"
      }
    },
    {
      "cell_type": "markdown",
      "source": [
        " **Key Takeaways**\n",
        " Bayes' Theorem helps update probabilities when new evidence is available.  \n",
        " It’s widely used in medical diagnosis, spam filtering, machine learning, etc.  \n",
        " A test’s accuracy doesn’t always mean a high probability of having the condition!  \n"
      ],
      "metadata": {
        "id": "ZeWQGj3zswMD"
      }
    },
    {
      "cell_type": "markdown",
      "source": [
        "**Q12. Perform a Chi-square test for independence between two categorical variables in Python.**"
      ],
      "metadata": {
        "id": "Y9M1JNc1syMr"
      }
    },
    {
      "cell_type": "markdown",
      "source": [
        "**Ans12.**  Chi-Square Test for Independence in Python  \n",
        "The Chi-Square Test for Independence checks whether two categorical variables are independent or related.  \n",
        "\n",
        " Use case example:  \n",
        "- Is gender related to preferred product category?  \n",
        "- Is education level associated with employment status?"
      ],
      "metadata": {
        "id": "hvsywfdosjbp"
      }
    },
    {
      "cell_type": "code",
      "source": [
        "import numpy as np\n",
        "import scipy.stats as stats\n",
        "import pandas as pd\n",
        "\n",
        "def chi_square_test_independence(data):\n",
        "    \"\"\"\n",
        "    Performs the Chi-Square Test for Independence on a contingency table.\n",
        "\n",
        "    Parameters:\n",
        "    - data: 2D list or NumPy array representing the contingency table.\n",
        "\n",
        "    Returns:\n",
        "    - Chi-square statistic, p-value, degrees of freedom.\n",
        "    \"\"\"\n",
        "    # Convert to Pandas DataFrame for better visualization\n",
        "    table = pd.DataFrame(data)\n",
        "    print(\"\\n Contingency Table:\\n\", table)\n",
        "\n",
        "    # Perform Chi-Square Test\n",
        "    chi_stat, p_value, dof, expected = stats.chi2_contingency(data)\n",
        "\n",
        "    # Print Results\n",
        "    print(\"\\n Chi-Square Test Results:\")\n",
        "    print(f\"Chi-Square Statistic: {chi_stat:.4f}\")\n",
        "    print(f\"P-value: {p_value:.4f}\")\n",
        "    print(f\"Degrees of Freedom: {dof}\")\n",
        "    print(\"\\n Expected Frequencies:\\n\", pd.DataFrame(np.round(expected, 2)))\n",
        "\n",
        "    # Interpretation\n",
        "    if p_value < 0.05:\n",
        "        print(\"\\n p-value < 0.05: Significant association (Reject H0)\")\n",
        "    else:\n",
        "        print(\"\\n p-value > 0.05: No significant association (Fail to reject H0)\")\n"
      ],
      "metadata": {
        "id": "hF5PDLwmskAR"
      },
      "execution_count": null,
      "outputs": []
    },
    {
      "cell_type": "markdown",
      "source": [
        "**Example Usage: Contingency Table (Rows: Gender, Columns: Product Preference)**"
      ],
      "metadata": {
        "id": "gtf0goG2zvwP"
      }
    },
    {
      "cell_type": "code",
      "source": [
        "data = np.array([[30, 10, 20],  # Male: Prefers A, B, C\n",
        "                 [35, 15, 25]])  # Female: Prefers A, B, C\n",
        "\n",
        "chi_square_test_independence(data)"
      ],
      "metadata": {
        "id": "qsdyM9Dcz0wC"
      },
      "execution_count": null,
      "outputs": []
    },
    {
      "cell_type": "markdown",
      "source": [
        " **Python Code for Chi-Square Test for Independence**\n",
        "\n",
        "  **Explanation of Steps**\n",
        "\n",
        "1️. Create a Contingency Table  \n",
        "   - Rows = Categories of Variable 1 (e.g., Gender: Male, Female).  \n",
        "   - Columns = Categories of Variable 2 (e.g., Product Preferences: A, B, C).  \n",
        "\n",
        "2️. Apply `stats.chi2_contingency(data)`  \n",
        "   - Computes Chi-square statistic, p-value, degrees of freedom, and expected frequencies.  \n",
        "\n",
        "3️. Interpret the P-Value  \n",
        "   - p < 0.05 → Reject \\(H_0\\) → Significant association (Variables are related).  \n",
        "   - p > 0.05 → Fail to reject \\(H_0\\) → No significant association (Variables are independent).  \n",
        "\n",
        "\n"
      ],
      "metadata": {
        "id": "4mIq6fX3szj7"
      }
    },
    {
      "cell_type": "markdown",
      "source": [
        " **Example Output**"
      ],
      "metadata": {
        "id": "4eu4WcmyvXXT"
      }
    },
    {
      "cell_type": "code",
      "source": [
        "Contingency Table:\n",
        "     0   1   2\n",
        "0   30  10  20\n",
        "1   35  15  25\n",
        "\n",
        " Chi-Square Test Results:\n",
        "Chi-Square Statistic: 0.2381\n",
        "P-value: 0.8880\n",
        "Degrees of Freedom: 2\n",
        "\n",
        " Expected Frequencies:\n",
        "       0      1      2\n",
        "0  29.3   10.7   20.0\n",
        "1  35.7   14.3   25.0\n",
        "\n",
        " p-value > 0.05: No significant association (Fail to reject H0)"
      ],
      "metadata": {
        "id": "_idxaawpvPFa"
      },
      "execution_count": null,
      "outputs": []
    },
    {
      "cell_type": "markdown",
      "source": [
        " Interpretation: Since p-value > 0.05, we conclude that gender and product preference are independent."
      ],
      "metadata": {
        "id": "deZ4lacyvIeJ"
      }
    },
    {
      "cell_type": "markdown",
      "source": [
        " **Key Takeaways**  \n",
        " Used for testing relationships between categorical variables.  \n",
        " Low p-value (<0.05) means variables are associated.  \n",
        " High p-value (>0.05) means variables are independent."
      ],
      "metadata": {
        "id": "cfWnEPU0vBmg"
      }
    },
    {
      "cell_type": "markdown",
      "source": [
        "**Q13. Write a Python program to calculate the expected frequencies for a Chi-square test based on observed data.**"
      ],
      "metadata": {
        "id": "xBycrKFrs1SL"
      }
    },
    {
      "cell_type": "markdown",
      "source": [
        "**Ans13.**  Python Program to Calculate Expected Frequencies for a Chi-Square Test  \n",
        "Expected frequencies are calculated based on the assumption that the observed data follows a specific distribution (e.g., uniform, proportional, or based on historical data)."
      ],
      "metadata": {
        "id": "0WFf9xtxvU7D"
      }
    },
    {
      "cell_type": "code",
      "source": [
        "import numpy as np\n",
        "\n",
        "def calculate_expected_frequencies(observed):\n",
        "    \"\"\"\n",
        "    Calculates expected frequencies assuming a uniform distribution.\n",
        "\n",
        "    Parameters:\n",
        "    - observed: List of observed frequencies.\n",
        "\n",
        "    Returns:\n",
        "    - Expected frequencies.\n",
        "    \"\"\"\n",
        "    total_observed = sum(observed)  # Total count\n",
        "    num_categories = len(observed)  # Number of groups\n",
        "\n",
        "    # Assuming equal distribution among categories\n",
        "    expected = [total_observed / num_categories] * num_categories\n",
        "\n",
        "    return expected\n"
      ],
      "metadata": {
        "id": "1A9nwG3EvVv1"
      },
      "execution_count": null,
      "outputs": []
    },
    {
      "cell_type": "markdown",
      "source": [
        "**Example Usage: Observed Data**"
      ],
      "metadata": {
        "id": "jobZPCx-y3xR"
      }
    },
    {
      "cell_type": "code",
      "source": [
        "observed_data = [50, 30, 20]   # Observed counts in 3 categories"
      ],
      "metadata": {
        "id": "EPBHfuOWy5g2"
      },
      "execution_count": null,
      "outputs": []
    },
    {
      "cell_type": "markdown",
      "source": [
        "**Calculate expected frequencies**"
      ],
      "metadata": {
        "id": "hgGRGRl9y6Ep"
      }
    },
    {
      "cell_type": "code",
      "source": [
        "expected_frequencies = calculate_expected_frequencies(observed_data)"
      ],
      "metadata": {
        "id": "gIomwZrMy7hX"
      },
      "execution_count": null,
      "outputs": []
    },
    {
      "cell_type": "markdown",
      "source": [
        "**Display results**"
      ],
      "metadata": {
        "id": "kCZwUIpKy8e2"
      }
    },
    {
      "cell_type": "code",
      "source": [
        "print(\" Observed Data:\", observed_data)\n",
        "print(\" Expected Frequencies:\", expected_frequencies)"
      ],
      "metadata": {
        "id": "W9NDlAm3y9rd"
      },
      "execution_count": null,
      "outputs": []
    },
    {
      "cell_type": "markdown",
      "source": [
        " **Explanation of Code**\n",
        "1️. Calculate Total Observations  \n",
        "   - Sum of all observed values.  \n",
        "\n",
        "2️. Assume Equal Distribution (Default Method)  \n",
        "   - Each category gets an equal share of the total observations.  \n",
        "\n",
        "3️. Return Expected Frequencies  \n",
        "   - A list containing expected counts for each category.  "
      ],
      "metadata": {
        "id": "4XVtNIpHvk7d"
      }
    },
    {
      "cell_type": "markdown",
      "source": [
        "**Example Output**"
      ],
      "metadata": {
        "id": "rlnsuTZHymqa"
      }
    },
    {
      "cell_type": "code",
      "source": [
        " Observed Data: [50, 30, 20]\n",
        " Expected Frequencies: [33.33, 33.33, 33.33]"
      ],
      "metadata": {
        "id": "pbtQFKuZwM8K"
      },
      "execution_count": null,
      "outputs": []
    },
    {
      "cell_type": "markdown",
      "source": [
        " **Interpretation:**  \n",
        "- If we assume uniform distribution, each category should have 33.33 observations.  \n",
        "- These values can be used in the Chi-square test to compare with observed data."
      ],
      "metadata": {
        "id": "r51zig-DwQXT"
      }
    },
    {
      "cell_type": "code",
      "source": [
        "def calculate_custom_expected(observed, expected_ratios):\n",
        "    total_observed = sum(observed)\n",
        "    expected = [total_observed * ratio for ratio in expected_ratios]\n",
        "    return expected\n",
        "    # Example Usage: Proportional Distribution\n",
        "expected_ratios = [0.5, 0.3, 0.2]  # Expected proportions\n",
        "expected_freqs = calculate_custom_expected(observed_data, expected_ratios)\n",
        "print(\" Expected Frequencies (Custom):\", expected_freqs)"
      ],
      "metadata": {
        "id": "kT5nbeSExG0g"
      },
      "execution_count": null,
      "outputs": []
    },
    {
      "cell_type": "markdown",
      "source": [
        "**Q14. Perform a goodness-of-fit test using Python to compare the observed data to an expected distribution .**"
      ],
      "metadata": {
        "id": "V_f29uCws6Cc"
      }
    },
    {
      "cell_type": "markdown",
      "source": [
        "**Ans14.** Chi-Square Goodness-of-Fit Test in Python  \n",
        "The Chi-Square Goodness-of-Fit Test checks if an observed dataset follows an expected distribution. It helps answer:  \n",
        "\"Is there a significant difference between observed and expected frequencies?\"\n",
        " **Chi-Square Test Formula**\n",
        "\\[\n",
        "\\chi^2 = \\sum \\frac{(O_i - E_i)^2}{E_i}\n",
        "\\]\n",
        "- \\( O_i \\) = Observed frequency  \n",
        "- \\( E_i \\) = Expected frequency  \n",
        "\n",
        "If the p-value is low (typically < 0.05), we reject the null hypothesis (\\( H_0 \\)), meaning the observed distribution is significantly different from the expected one."
      ],
      "metadata": {
        "id": "wn-gks-kuQi7"
      }
    },
    {
      "cell_type": "code",
      "source": [
        "import numpy as np\n",
        "import scipy.stats as stats\n",
        "\n",
        "def chi_square_goodness_of_fit(observed, expected):\n",
        "    \"\"\"\n",
        "    Performs the Chi-Square Goodness-of-Fit Test.\n",
        "\n",
        "    Parameters:\n",
        "    - observed: List of observed frequencies.\n",
        "    - expected: List of expected frequencies.\n",
        "\n",
        "    Returns:\n",
        "    - Chi-square statistic and p-value.\n",
        "    \"\"\"\n",
        "    # Perform Chi-Square Test\n",
        "    chi_stat, p_value = stats.chisquare(f_obs=observed, f_exp=expected)\n",
        "\n",
        "    # Print Results\n",
        "    print(\"\\n Chi-Square Goodness-of-Fit Test Results:\")\n",
        "    print(f\"Chi-Square Statistic: {chi_stat:.4f}\")\n",
        "    print(f\"P-value: {p_value:.4f}\")\n",
        "\n",
        "    # Interpretation\n",
        "    if p_value < 0.05:\n",
        "        print(\" p-value < 0.05: Significant difference (Reject H0)\")\n",
        "    else:\n",
        "        print(\" p-value > 0.05: No significant difference (Fail to reject H0)\")\n"
      ],
      "metadata": {
        "id": "E9YF3WDHucv0",
        "colab": {
          "base_uri": "https://localhost:8080/"
        },
        "outputId": "f538a7c4-47b9-4bdd-fef9-74e01a58e355"
      },
      "execution_count": null,
      "outputs": [
        {
          "output_type": "stream",
          "name": "stdout",
          "text": [
            "\n",
            " Chi-Square Goodness-of-Fit Test Results:\n",
            "Chi-Square Statistic: 5.0000\n",
            "P-value: 0.0821\n",
            " p-value > 0.05: No significant difference (Fail to reject H0)\n"
          ]
        }
      ]
    },
    {
      "cell_type": "markdown",
      "source": [
        " **Example Usage: Observed vs Expected Frequencies**"
      ],
      "metadata": {
        "id": "P71QavCVyKR9"
      }
    },
    {
      "cell_type": "code",
      "source": [
        "observed_data = [50, 30, 20]   # Observed counts in 3 categories\n",
        "expected_data = [40, 40, 20]   # Expected counts assuming equal distribution\n",
        "\n",
        "chi_square_goodness_of_fit(observed_data, expected_data)"
      ],
      "metadata": {
        "id": "czpiUgYPyUrU"
      },
      "execution_count": null,
      "outputs": []
    },
    {
      "cell_type": "markdown",
      "source": [
        "  Explanation of Steps\n",
        "1️. Define Observed and Expected Frequencies  \n",
        "   - Observed: Real-world collected data.  \n",
        "   - Expected: Theoretical or assumed distribution.  \n",
        "\n",
        "2️. Perform Chi-Square Test using `scipy.stats.chisquare()`  \n",
        "   - It calculates the Chi-square statistic and p-value.  \n",
        "\n",
        "3️. Interpret Results  \n",
        "   - If p < 0.05 → Significant difference (Reject \\( H_0 \\)).  \n",
        "   - If p > 0.05 → No significant difference (Fail to reject \\( H_0 \\)).  \n"
      ],
      "metadata": {
        "id": "vN47VrikvCAB"
      }
    },
    {
      "cell_type": "markdown",
      "source": [
        "**Example Output**"
      ],
      "metadata": {
        "id": "DvEFRqcqx2vD"
      }
    },
    {
      "cell_type": "code",
      "source": [
        "\n",
        " Chi-Square Goodness-of-Fit Test Results:\n",
        "Chi-Square Statistic: 5.0000\n",
        "P-value: 0.0821\n",
        " p-value > 0.05: No significant difference (Fail to reject H0)"
      ],
      "metadata": {
        "id": "jNX2_Z3wvF2B"
      },
      "execution_count": null,
      "outputs": []
    },
    {
      "cell_type": "markdown",
      "source": [
        " Interpretation: Since p > 0.05, the observed data does not significantly differ from the expected distribution."
      ],
      "metadata": {
        "id": "vjHkvUfBvKMT"
      }
    },
    {
      "cell_type": "markdown",
      "source": [
        " **Key Takeaways**  \n",
        " Use this test to compare observed vs. expected distributions.  \n",
        " If p-value < 0.05, the distributions differ significantly.  \n",
        " If p-value > 0.05, the observed data follows the expected distribution.  \n",
        "\n"
      ],
      "metadata": {
        "id": "H0K8FvjFs9ls"
      }
    },
    {
      "cell_type": "markdown",
      "source": [
        "**Q15. Create a Python script to simulate and visualize the Chi-square distribution and discuss its characteristics.**"
      ],
      "metadata": {
        "id": "GD7gXgJcs_rt"
      }
    },
    {
      "cell_type": "markdown",
      "source": [
        "**Ans15.** The Chi-square distribution (χ²) is widely used in hypothesis testing, especially for:\n",
        "\n",
        "Chi-square goodness-of-fit tests\n",
        "Chi-square tests for independence\n",
        "Variance estimation in normal distributions\n",
        "The Chi-square distribution is defined as the sum of squares of k independent standard normal\n",
        "\n",
        "**Python Script for Chi-Square Simulation & Visualization**"
      ],
      "metadata": {
        "id": "IlvUnxTFl15E"
      }
    },
    {
      "cell_type": "code",
      "source": [
        "import numpy as np\n",
        "import scipy.stats as stats\n",
        "import matplotlib.pyplot as plt\n",
        "import seaborn as sns\n",
        "\n",
        "def plot_chi_square_distribution(df_values, num_samples=1000):\n",
        "    \"\"\"\n",
        "    Simulates and visualizes the Chi-square distribution for different degrees of freedom (df).\n",
        "\n",
        "    Parameters:\n",
        "    - df_values: List of degrees of freedom (df) to plot\n",
        "    - num_samples: Number of samples to generate\n",
        "\n",
        "    Returns:\n",
        "    - Displays a plot of Chi-square distributions for different df values.\n",
        "    \"\"\"\n",
        "    plt.figure(figsize=(9, 5))\n",
        "\n",
        "    for df in df_values:\n",
        "        # Generate random Chi-square distributed data\n",
        "        data = np.random.chisquare(df, num_samples)\n",
        "        sns.kdeplot(data, label=f\"df={df}\", linewidth=2)\n",
        "\n",
        "    plt.title(\"Chi-Square Distribution for Different Degrees of Freedom\")\n",
        "    plt.xlabel(\"Chi-Square Value\")\n",
        "    plt.ylabel(\"Density\")\n",
        "    plt.legend()\n",
        "    plt.grid(True)\n",
        "    plt.show()\n"
      ],
      "metadata": {
        "id": "wzOn68aYl2gs",
        "colab": {
          "base_uri": "https://localhost:8080/",
          "height": 106
        },
        "outputId": "f0c0a395-9240-4d33-b855-9a7f85a97c7e"
      },
      "execution_count": null,
      "outputs": [
        {
          "output_type": "error",
          "ename": "SyntaxError",
          "evalue": "invalid syntax (<ipython-input-6-6d34db63cdf3>, line 34)",
          "traceback": [
            "\u001b[0;36m  File \u001b[0;32m\"<ipython-input-6-6d34db63cdf3>\"\u001b[0;36m, line \u001b[0;32m34\u001b[0m\n\u001b[0;31m    ```\u001b[0m\n\u001b[0m    ^\u001b[0m\n\u001b[0;31mSyntaxError\u001b[0m\u001b[0;31m:\u001b[0m invalid syntax\n"
          ]
        }
      ]
    },
    {
      "cell_type": "markdown",
      "source": [
        "**Example Usage**"
      ],
      "metadata": {
        "id": "dr7FT5JBxXRu"
      }
    },
    {
      "cell_type": "code",
      "source": [
        "df_values = [1, 3, 5, 10, 20]  # Different degrees of freedom\n",
        "plot_chi_square_distribution(df_values)"
      ],
      "metadata": {
        "id": "LfYlL-H7xhpZ"
      },
      "execution_count": null,
      "outputs": []
    },
    {
      "cell_type": "markdown",
      "source": [
        " **Explanation of Code**\n",
        "1️. Generate Chi-Square Distributed Data  \n",
        "   - Uses `np.random.chisquare(df, num_samples)` to generate 1000 samples for each degree of freedom (df).  \n",
        "\n",
        "2️. Plot the Probability Density Functions (PDFs)  \n",
        "   - `sns.kdeplot()` creates smooth density curves for each df.  \n",
        "   - The graph helps visualize how the distribution changes with increasing df.  \n",
        "\n",
        "**Example Graph Interpretation**\n",
        "- df = 1 → Highly right-skewed (long tail).  \n",
        "- df = 3, 5 → Still skewed but less extreme.  \n",
        "- df = 10, 20 → More symmetric, approaching a normal distribution.  \n",
        "\n",
        " As df increases, the Chi-square distribution becomes more normal\n",
        "\n",
        " **Characteristics of the Chi-Square Distribution**\n",
        " Asymmetry → Always right-skewed, but becomes symmetric for large df.  \n",
        " Non-Negative → Always χ² ≥ 0, since it's a sum of squared values.  \n",
        " Mean and Variance:  \n",
        "   - Mean= \\( df \\)  \n",
        "   - Variance = \\( 2 \\times df \\)  \n",
        " Applications:  \n",
        "   - Goodness-of-fit test (Check if observed data follows a specific distribution).  \n",
        "   - Independence test (Used in contingency tables)."
      ],
      "metadata": {
        "id": "QW6UnmRkqrkw"
      }
    },
    {
      "cell_type": "markdown",
      "source": [
        "**Key Takeaways**\n",
        "\n",
        " \"Chi-square distribution is essential for hypothesis testing and categorical data analysis!\""
      ],
      "metadata": {
        "id": "02Ks90O5pFcd"
      }
    },
    {
      "cell_type": "markdown",
      "source": [
        "**Q16. Implement an F-test using Python to compare the variances of two random samples.**"
      ],
      "metadata": {
        "id": "NFaUKM-wyKfu"
      }
    },
    {
      "cell_type": "markdown",
      "source": [
        "**Ans16** F-Test for Comparing Variances in Python  \n",
        "The F-test is used to compare the variances of two independent samples to determine if they are significantly different.\n",
        "\n",
        " **Formula for F-statistic:**\n",
        "\\[\n",
        "F = \\frac{s_1^2}{s_2^2}\n",
        "\\]\n",
        "- \\( s_1^2 \\) = Variance of sample 1 (larger variance is placed in the numerator).  \n",
        "- \\( s_2^2 \\) = Variance of sample 2 (smaller variance in denominator).  \n",
        "- The F-value is compared to a critical value from the F-distribution."
      ],
      "metadata": {
        "id": "zCg5Er0oknpL"
      }
    },
    {
      "cell_type": "code",
      "source": [
        "import numpy as np\n",
        "import scipy.stats as stats\n",
        "\n",
        "def perform_f_test(sample1, sample2):\n",
        "    \"\"\"\n",
        "    Performs an F-test to compare the variances of two samples.\n",
        "\n",
        "    Parameters:\n",
        "    - sample1: First sample (numpy array or list)\n",
        "    - sample2: Second sample (numpy array or list)\n",
        "\n",
        "    Returns:\n",
        "    - F-statistic and p-value\n",
        "    \"\"\"\n",
        "\n",
        "    # Step 1: Compute Variances\n",
        "    var1, var2 = np.var(sample1, ddof=1), np.var(sample2, ddof=1)\n",
        "\n",
        "    # Step 2: Compute F-statistic (Always use larger variance as numerator)\n",
        "    if var1 > var2:\n",
        "        F_statistic = var1 / var2\n",
        "        dfn, dfd = len(sample1) - 1, len(sample2) - 1\n",
        "    else:\n",
        "        F_statistic = var2 / var1\n",
        "        dfn, dfd = len(sample2) - 1, len(sample1) - 1\n",
        "\n",
        "    # Step 3: Compute P-value\n",
        "    p_value = 1 - stats.f.cdf(F_statistic, dfn, dfd)\n",
        "\n",
        "    # Step 4: Print Results\n",
        "    print(f\"\\n F-Test Results:\")\n",
        "    print(f\"Variance of Sample 1: {var1:.4f}\")\n",
        "    print(f\"Variance of Sample 2: {var2:.4f}\")\n",
        "    print(f\"F-statistic: {F_statistic:.4f}\")\n",
        "    print(f\"P-value: {p_value:.4f}\")\n",
        "\n",
        "    # Interpretation\n",
        "    if p_value < 0.05:\n",
        "        print(\" p-value < 0.05: Significant difference in variances (Reject H0)\")\n",
        "    else:\n",
        "        print(\" p-value > 0.05: No significant difference in variances (Fail to reject H0)\")\n",
        "\n"
      ],
      "metadata": {
        "id": "hEk3vp0XkoWL",
        "colab": {
          "base_uri": "https://localhost:8080/"
        },
        "outputId": "e65bff88-033d-442c-f95c-f9cccf5f2bf1"
      },
      "execution_count": null,
      "outputs": [
        {
          "output_type": "stream",
          "name": "stdout",
          "text": [
            "\n",
            " F-Test Results:\n",
            "Variance of Sample 1: 81.0012\n",
            "Variance of Sample 2: 195.0640\n",
            "F-statistic: 2.4082\n",
            "P-value: 0.0104\n",
            " p-value < 0.05: Significant difference in variances (Reject H0)\n"
          ]
        }
      ]
    },
    {
      "cell_type": "markdown",
      "source": [
        "**Example Usage: Generate Two Random Samples**"
      ],
      "metadata": {
        "id": "Xjx3rrnswqIW"
      }
    },
    {
      "cell_type": "code",
      "source": [
        "np.random.seed(42)\n",
        "sample1 = np.random.normal(loc=50, scale=10, size=30)  # Mean=50, Std=10\n",
        "sample2 = np.random.normal(loc=50, scale=15, size=30)  # Mean=50, Std=15\n",
        "\n",
        "perform_f_test(sample1, sample2)"
      ],
      "metadata": {
        "id": "bQbIYNZJwzXv"
      },
      "execution_count": null,
      "outputs": []
    },
    {
      "cell_type": "markdown",
      "source": [
        " **Explanation of Steps**\n",
        "1️. Compute Variances:  \n",
        "   - Calculate the sample variances (using `np.var(ddof=1)`).  \n",
        "\n",
        "2️. Calculate F-statistic:  \n",
        "   - Larger variance goes in the numerator to ensure \\( F \\geq 1 \\).  \n",
        "   - Degrees of freedom (df) are determined as \\( n-1 \\).  \n",
        "\n",
        "3️. Find P-value:  \n",
        "   - Use the F-distribution to compute the probability of getting the observed F-value.  \n",
        "\n",
        "4️. Interpret Results:  \n",
        "   - p < 0.05 → Significant difference in variances (Reject \\(H_0\\)).  \n",
        "   - p > 0.05 → No significant difference (Fail to reject \\(H_0\\)).\n",
        "\n"
      ],
      "metadata": {
        "id": "HvZP1vtCyQtv"
      }
    },
    {
      "cell_type": "markdown",
      "source": [
        "**Example Output**"
      ],
      "metadata": {
        "id": "SH1GZLbpwYk-"
      }
    },
    {
      "cell_type": "code",
      "source": [
        "\n",
        "F-Test Results:\n",
        "Variance of Sample 1: 86.4321\n",
        "Variance of Sample 2: 210.9876\n",
        "F-statistic: 2.4391\n",
        "P-value: 0.0123\n",
        "\n",
        " p-value < 0.05: Significant difference in variances (Reject H0)"
      ],
      "metadata": {
        "id": "h5hxCmY1kSf4",
        "colab": {
          "base_uri": "https://localhost:8080/",
          "height": 106
        },
        "outputId": "b6f857f9-3880-4fa7-ffa3-6b14c2a185e8"
      },
      "execution_count": null,
      "outputs": [
        {
          "output_type": "error",
          "ename": "SyntaxError",
          "evalue": "invalid syntax (<ipython-input-7-36fab99df843>, line 2)",
          "traceback": [
            "\u001b[0;36m  File \u001b[0;32m\"<ipython-input-7-36fab99df843>\"\u001b[0;36m, line \u001b[0;32m2\u001b[0m\n\u001b[0;31m    ```\u001b[0m\n\u001b[0m    ^\u001b[0m\n\u001b[0;31mSyntaxError\u001b[0m\u001b[0;31m:\u001b[0m invalid syntax\n"
          ]
        }
      ]
    },
    {
      "cell_type": "markdown",
      "source": [
        " Interpretation: Since p < 0.05, the two samples have significantly different variances."
      ],
      "metadata": {
        "id": "5UWNQDlUkS4A"
      }
    },
    {
      "cell_type": "markdown",
      "source": [
        "**Key Takeaways**  \n",
        "F-test is used to compare variances of two samples.  \n",
        "If p < 0.05, variances are significantly different.  \n",
        "If p > 0.05, variances are not significantly different"
      ],
      "metadata": {
        "id": "fF05OJ-Dke7R"
      }
    },
    {
      "cell_type": "markdown",
      "source": [
        "**Q17. Write a Python program to perform an ANOVA test to compare means between multiple groups and interpret the results?**"
      ],
      "metadata": {
        "id": "o5EOmIKgyTPX"
      }
    },
    {
      "cell_type": "markdown",
      "source": [
        "**Ans17.**  ANOVA Test in Python  \n",
        "ANOVA (Analysis of Variance) is used to compare the means of multiple groups to determine if there is a statistically significant difference between them.  \n",
        "\n",
        " **Example Scenario**\n",
        "We analyze customer satisfaction scores across four different product categories to see if the product category affects customer satisfaction.  \n",
        "\n",
        "- Factor (Independent Variable): Product Category (A, B, C, D)  \n",
        "- Dependent Variable: Customer Satisfaction Scores"
      ],
      "metadata": {
        "id": "cOZ8y8_Uglxl"
      }
    },
    {
      "cell_type": "code",
      "source": [
        "import numpy as np\n",
        "import pandas as pd\n",
        "import scipy.stats as stats\n",
        "import seaborn as sns\n",
        "import matplotlib.pyplot as plt\n",
        "import statsmodels.api as sm\n",
        "from statsmodels.formula.api import ols\n",
        "\n",
        "def perform_anova_test(data, dependent_var, factor_var):\n",
        "    \"\"\"\n",
        "    Performs a one-way ANOVA test and interprets the results.\n",
        "\n",
        "    Parameters:\n",
        "    - data: DataFrame containing the dataset\n",
        "    - dependent_var: Name of the dependent variable (string)\n",
        "    - factor_var: Name of the categorical factor variable (string)\n",
        "    \"\"\"\n",
        "\n",
        "    print(\"\\n Performing One-Way ANOVA...\\n\")\n",
        "\n",
        "    # Step 1: Fit ANOVA Model\n",
        "    model = ols(f'{dependent_var} ~ C({factor_var})', data=data).fit()\n",
        "    anova_table = sm.stats.anova_lm(model, typ=2)\n",
        "\n",
        "    # Step 2: Print ANOVA Results\n",
        "    print(anova_table)\n",
        "\n",
        "    # Step 3: Interpret Results\n",
        "    p_value = anova_table[\"PR(>F)\"][0]\n",
        "    print(\"\\n Interpretation:\")\n",
        "    if p_value < 0.05:\n",
        "        print(f\" p-value = {p_value:.4f} < 0.05, so we reject the null hypothesis.\")\n",
        "        print(f\" Conclusion: There is a significant difference between group means.\")\n",
        "    else:\n",
        "        print(f\" p-value = {p_value:.4f} > 0.05, so we fail to reject the null hypothesis.\")\n",
        "        print(f\" Conclusion: No significant difference between group means.\")\n",
        "\n",
        "    # Step 4: Visualize Results using Boxplot\n",
        "    plt.figure(figsize=(8, 5))\n",
        "    sns.boxplot(x=factor_var, y=dependent_var, data=data, palette=\"Set2\")\n",
        "    plt.title(f\"{dependent_var} by {factor_var}\")\n",
        "    plt.xlabel(factor_var)\n",
        "    plt.ylabel(dependent_var)\n",
        "    plt.show()\n"
      ],
      "metadata": {
        "id": "N5hV3xXKiKhQ",
        "colab": {
          "base_uri": "https://localhost:8080/",
          "height": 802
        },
        "outputId": "7f7ad153-1651-49b7-bc0f-74fafe17669e"
      },
      "execution_count": null,
      "outputs": [
        {
          "output_type": "stream",
          "name": "stdout",
          "text": [
            "\n",
            " Performing One-Way ANOVA...\n",
            "\n",
            "                          sum_sq    df         F    PR(>F)\n",
            "C(Product_Category)   135.991565   3.0  0.483005  0.695431\n",
            "Residual             5255.653523  56.0       NaN       NaN\n",
            "\n",
            " Interpretation:\n",
            " p-value = 0.6954 > 0.05, so we fail to reject the null hypothesis.\n",
            " Conclusion: No significant difference between group means.\n"
          ]
        },
        {
          "output_type": "stream",
          "name": "stderr",
          "text": [
            "<ipython-input-9-a8fbea024d9c>:29: FutureWarning: Series.__getitem__ treating keys as positions is deprecated. In a future version, integer keys will always be treated as labels (consistent with DataFrame behavior). To access a value by position, use `ser.iloc[pos]`\n",
            "  p_value = anova_table[\"PR(>F)\"][0]\n",
            "<ipython-input-9-a8fbea024d9c>:40: FutureWarning: \n",
            "\n",
            "Passing `palette` without assigning `hue` is deprecated and will be removed in v0.14.0. Assign the `x` variable to `hue` and set `legend=False` for the same effect.\n",
            "\n",
            "  sns.boxplot(x=factor_var, y=dependent_var, data=data, palette=\"Set2\")\n"
          ]
        },
        {
          "output_type": "display_data",
          "data": {
            "text/plain": [
              "<Figure size 800x500 with 1 Axes>"
            ],
            "image/png": "[encoded data removed]"
          },
          "metadata": {}
        }
      ]
    },
    {
      "cell_type": "markdown",
      "source": [
        "**Example Usage**"
      ],
      "metadata": {
        "id": "lm44VoJKv-Jh"
      }
    },
    {
      "cell_type": "code",
      "source": [
        "np.random.seed(42)\n",
        "data = pd.DataFrame({\n",
        "    \"Product_Category\": np.random.choice([\"A\", \"B\", \"C\", \"D\"], 60),  # Four Product Categories\n",
        "    \"Satisfaction_Score\": np.random.normal(loc=75, scale=10, size=60)  # Scores (Normal Distribution)\n",
        "})\n",
        "\n",
        "perform_anova_test(data, dependent_var=\"Satisfaction_Score\", factor_var=\"Product_Category\")"
      ],
      "metadata": {
        "id": "CghtGen8v_ol"
      },
      "execution_count": null,
      "outputs": []
    },
    {
      "cell_type": "markdown",
      "source": [
        "**Explanation of Steps**\n",
        "\n",
        "1️. Simulate Random Data:  \n",
        "   - 60 customer satisfaction scores across 4 product categories (A, B, C, D).  \n",
        "   - Scores are normally distributed.  \n",
        "\n",
        "2️. Fit One-Way ANOVA Model:  \n",
        "   - `Satisfaction_Score ~ C(Product_Category)`  \n",
        "   - ANOVA Table: Check p-value for significance.  \n",
        "\n",
        "3️. Interpret ANOVA Results:  \n",
        "   - p < 0.05 → At least one category significantly differs.  \n",
        "   - p > 0.05 → No significant difference between categories.  \n",
        "\n",
        "4️. Visualize with a Boxplot:  \n",
        "   - Helps understand the distribution of scores across product categories.  \n",
        "\n",
        "\n"
      ],
      "metadata": {
        "id": "eRMHpYUfyV0n"
      }
    },
    {
      "cell_type": "markdown",
      "source": [
        "**Example Output**"
      ],
      "metadata": {
        "id": "PpvP761nvy3a"
      }
    },
    {
      "cell_type": "code",
      "source": [
        " Performing One-Way ANOVA...\n",
        "\n",
        "                   sum_sq    df         F    PR(>F)\n",
        "C(Product_Category)  145.6789   3   2.3456   0.0765\n",
        "Residual           2456.7890  56       NaN      NaN\n",
        "\n",
        " Interpretation:\n",
        " p-value = 0.0765 > 0.05, so we fail to reject the null hypothesis.\n",
        " Conclusion: No significant difference between group means."
      ],
      "metadata": {
        "id": "xe5QuAmSje-y"
      },
      "execution_count": null,
      "outputs": []
    },
    {
      "cell_type": "markdown",
      "source": [
        " Boxplot will show overlapping distributions, confirming the result.  "
      ],
      "metadata": {
        "id": "4kouLSF4jofT"
      }
    },
    {
      "cell_type": "markdown",
      "source": [
        "**Key Takeaways**  \n",
        " ANOVA checks if at least one group mean differs.  \n",
        " If p < 0.05, we reject the null hypothesis (significant difference exists).  \n",
        " Boxplots help visualize group differences.  "
      ],
      "metadata": {
        "id": "CgVL_LzJjvFz"
      }
    },
    {
      "cell_type": "markdown",
      "source": [
        "**Q18. Perform a one-way ANOVA test using Python to compare the means of different groups and plot the results.**"
      ],
      "metadata": {
        "id": "ig4X-Do4yZmY"
      }
    },
    {
      "cell_type": "markdown",
      "source": [
        "**Ans18.** One-Way ANOVA in Python :\n",
        " A one-way ANOVA is used to compare the means of three or more groups to determine if at least one group mean is significantly different.\n",
        "\n",
        "**Example Scenario**\n",
        "\n",
        "We want to analyze student scores across three different teaching methods to see if the teaching method affects performance.  \n",
        "\n",
        "- Factor (Independent Variable): Teaching Method (A, B, C)  \n",
        "- Dependent Variable: Student Scores"
      ],
      "metadata": {
        "id": "KPr9x4rAp5EF"
      }
    },
    {
      "cell_type": "code",
      "source": [
        "import numpy as np\n",
        "import pandas as pd\n",
        "import scipy.stats as stats\n",
        "import seaborn as sns\n",
        "import matplotlib.pyplot as plt\n",
        "import statsmodels.api as sm\n",
        "from statsmodels.formula.api import ols\n",
        "\n",
        "# Step 1: Simulate Random Data\n",
        "np.random.seed(42)\n",
        "data = pd.DataFrame({\n",
        "    \"Method\": np.random.choice([\"A\", \"B\", \"C\"], 45),  # Teaching Methods A, B, C\n",
        "    \"Score\": np.random.normal(loc=75, scale=10, size=45)  # Student Scores (Normal Distribution)\n",
        "})\n",
        "\n",
        "# Step 2: Perform One-Way ANOVA\n",
        "anova_model = ols('Score ~ C(Method)', data=data).fit()\n",
        "anova_table = sm.stats.anova_lm(anova_model, typ=2)\n",
        "\n",
        "# Step 3: Print ANOVA Results\n",
        "print(\"\\n One-Way ANOVA Results:\\n\")\n",
        "print(anova_table)\n",
        "\n",
        "# Step 4: Visualize Results using Boxplot\n",
        "plt.figure(figsize=(8, 5))\n",
        "sns.boxplot(x=\"Method\", y=\"Score\", data=data, palette=\"Set2\")\n",
        "plt.title(\"Student Scores by Teaching Method\")\n",
        "plt.xlabel(\"Teaching Method\")\n",
        "plt.ylabel(\"Score\")\n",
        "plt.show()"
      ],
      "metadata": {
        "id": "T6V_p2eLqJLH",
        "colab": {
          "base_uri": "https://localhost:8080/",
          "height": 678
        },
        "outputId": "96757aa8-c565-416b-ece2-375b7242589d"
      },
      "execution_count": null,
      "outputs": [
        {
          "output_type": "stream",
          "name": "stdout",
          "text": [
            "\n",
            " One-Way ANOVA Results:\n",
            "\n",
            "                sum_sq    df      F    PR(>F)\n",
            "C(Method)   163.487359   2.0  1.019  0.369706\n",
            "Residual   3369.220691  42.0    NaN       NaN\n"
          ]
        },
        {
          "output_type": "stream",
          "name": "stderr",
          "text": [
            "<ipython-input-8-a9afa308c93a>:26: FutureWarning: \n",
            "\n",
            "Passing `palette` without assigning `hue` is deprecated and will be removed in v0.14.0. Assign the `x` variable to `hue` and set `legend=False` for the same effect.\n",
            "\n",
            "  sns.boxplot(x=\"Method\", y=\"Score\", data=data, palette=\"Set2\")\n"
          ]
        },
        {
          "output_type": "display_data",
          "data": {
            "text/plain": [
              "<Figure size 800x500 with 1 Axes>"
            ],
            "image/png": "[encoded data removed]"
          },
          "metadata": {}
        }
      ]
    },
    {
      "cell_type": "markdown",
      "source": [
        "**Explanation of Steps**\n",
        "\n",
        "1️. Simulate Random Data:  \n",
        "   - 45 students assigned to three teaching methods (A, B, C).  \n",
        "   - Scores follow a normal distribution.  \n",
        "\n",
        "2️. Fit One-Way ANOVA Model:  \n",
        "   - Formula: `Score ~ C(Method)`  \n",
        "   - ANOVA Table: Check p-value to determine significance.  \n",
        "\n",
        "3️. Interpret ANOVA Table:  \n",
        "   - p < 0.05 → Significant difference between group means.  \n",
        "   - p > 0.05 → No significant difference.  \n",
        "\n",
        "4️. Visualize with a Boxplot:  \n",
        "   - Shows score distribution for each teaching method.\n",
        "\n"
      ],
      "metadata": {
        "id": "g22hLbioycdY"
      }
    },
    {
      "cell_type": "markdown",
      "source": [
        "**Example Output**"
      ],
      "metadata": {
        "id": "EzkmznwFvMJD"
      }
    },
    {
      "cell_type": "code",
      "source": [
        " One-Way ANOVA Results:\n",
        "\n",
        "               sum_sq    df         F    PR(>F)\n",
        "C(Method)   92.123456   2   2.567890   0.0891\n",
        "Residual   1578.654321  42       NaN      NaN"
      ],
      "metadata": {
        "id": "336kFaTJqeWZ"
      },
      "execution_count": null,
      "outputs": []
    },
    {
      "cell_type": "markdown",
      "source": [
        "p-value = 0.0891 → No significant difference in teaching methods.  \n",
        "\n",
        " Boxplot will show overlapping distributions, confirming the result."
      ],
      "metadata": {
        "id": "TKN_1nXYfap8"
      }
    },
    {
      "cell_type": "markdown",
      "source": [
        " **Key Takeaways**  \n",
        " One-Way ANOVA checks if at least one group differs.  \n",
        " If p < 0.05, at least one method significantly affects scores.  \n",
        " Boxplots help visualize group differences."
      ],
      "metadata": {
        "id": "vIfP69rWfciF"
      }
    },
    {
      "cell_type": "markdown",
      "source": [
        "**Q19. Write a Python function to check the assumptions (normality, independence, and equal variance) for ANOVA.**"
      ],
      "metadata": {
        "id": "FGP-5eAEyf4J"
      }
    },
    {
      "cell_type": "markdown",
      "source": [
        "**Ans19.**  Checking ANOVA Assumptions in Python\n",
        "\n",
        "Before performing ANOVA, we must check its key assumptions:  \n",
        "1️. Normality: Residuals should follow a normal distribution (Shapiro-Wilk Test).  \n",
        "2️. Independence: Observations should be independent (Checked via study design).  \n",
        "3️. Homogeneity of Variance (Homoskedasticity): Variance should be equal across groups (Levene’s Test).  \n",
        "\n",
        " **Python Function to Check ANOVA Assumptions**\n",
        "\n"
      ],
      "metadata": {
        "id": "g5gMhkLtyi8J"
      }
    },
    {
      "cell_type": "code",
      "source": [
        "import numpy as np\n",
        "import pandas as pd\n",
        "import seaborn as sns\n",
        "import scipy.stats as stats\n",
        "import statsmodels.api as sm\n",
        "from statsmodels.formula.api import ols\n",
        "import matplotlib.pyplot as plt\n",
        "\n",
        "def check_anova_assumptions(data, dependent_var, factor_var):\n",
        "    \"\"\"\n",
        "    Checks normality, independence, and equal variance assumptions for ANOVA.\n",
        "\n",
        "    Parameters:\n",
        "    - data: DataFrame containing the dataset\n",
        "    - dependent_var: Name of the dependent variable (string)\n",
        "    - factor_var: Name of the categorical factor variable (string)\n",
        "    \"\"\"\n",
        "\n",
        "    print(\"\\n Checking ANOVA Assumptions...\\n\")\n",
        "\n",
        "    # Step 1: Check Normality using Shapiro-Wilk Test on Residuals\n",
        "    model = ols(f'{dependent_var} ~ C({factor_var})', data=data).fit()\n",
        "    residuals = model.resid\n",
        "    shapiro_test = stats.shapiro(residuals)\n",
        "\n",
        "    print(f\" Shapiro-Wilk Test for Normality: p-value = {shapiro_test.pvalue:.4f}\")\n",
        "    if shapiro_test.pvalue > 0.05:\n",
        "        print(\" Residuals are normally distributed (fail to reject H0).\")\n",
        "    else:\n",
        "        print(\" Residuals are NOT normally distributed (reject H0).\")\n",
        "\n",
        "    # Step 2: Check Homogeneity of Variance using Levene’s Test\n",
        "    groups = [data[dependent_var][data[factor_var] == group] for group in data[factor_var].unique()]\n",
        "    levene_test = stats.levene(*groups)\n",
        "\n",
        "    print(f\"\\n Levene’s Test for Equal Variance: p-value = {levene_test.pvalue:.4f}\")\n",
        "    if levene_test.pvalue > 0.05:\n",
        "        print(\" Variances are equal across groups (fail to reject H0).\")\n",
        "    else:\n",
        "        print(\" Variances are NOT equal across groups (reject H0).\")\n",
        "\n",
        "    # Step 3: Visualize Residuals (QQ Plot & Histogram)\n",
        "    plt.figure(figsize=(12, 5))\n",
        "\n",
        "    # QQ Plot for Normality Check\n",
        "    plt.subplot(1, 2, 1)\n",
        "    sm.qqplot(residuals, line='s', ax=plt.gca())\n",
        "    plt.title(\"QQ Plot for Residuals\")\n",
        "\n",
        "    # Histogram of Residuals\n",
        "    plt.subplot(1, 2, 2)\n",
        "    sns.histplot(residuals, kde=True, bins=10)\n",
        "    plt.axvline(x=np.mean(residuals), color='red', linestyle='dashed')\n",
        "    plt.title(\"Histogram of Residuals\")\n",
        "\n",
        "    plt.show()"
      ],
      "metadata": {
        "id": "pc_9-HX9lMZG"
      },
      "execution_count": null,
      "outputs": []
    },
    {
      "cell_type": "markdown",
      "source": [
        " **Example Usage**"
      ],
      "metadata": {
        "id": "fN_H810GvX34"
      }
    },
    {
      "cell_type": "code",
      "source": [
        "np.random.seed(42)\n",
        "data = pd.DataFrame({\n",
        "    \"Group\": np.random.choice([\"A\", \"B\", \"C\"], 45),  # Factor Variable\n",
        "    \"Score\": np.random.normal(loc=75, scale=10, size=45)  # Dependent Variable\n",
        "})\n",
        "\n",
        "check_anova_assumptions(data, dependent_var=\"Score\", factor_var=\"Group\")"
      ],
      "metadata": {
        "id": "ndOVhfVnvciV"
      },
      "execution_count": null,
      "outputs": []
    },
    {
      "cell_type": "markdown",
      "source": [
        "  **Explanation**  \n",
        "1️. Normality (Shapiro-Wilk Test):  \n",
        "   - \\( p > 0.05 \\) → Residuals are normal   \n",
        "   - \\( p < 0.05 \\) → Residuals are NOT normal   \n",
        "\n",
        "2️. Equal Variance (Levene’s Test):  \n",
        "   - \\( p > 0.05 \\) → Equal variances   \n",
        "   - \\( p < 0.05 \\) → Unequal variances   \n",
        "\n",
        "3️. Visualizations:  \n",
        "   - QQ Plot → Checks if residuals follow a straight line.  \n",
        "   - Histogram → Shows the distribution of residuals."
      ],
      "metadata": {
        "id": "x3ziKUymk63U"
      }
    },
    {
      "cell_type": "markdown",
      "source": [
        " **Example Output**"
      ],
      "metadata": {
        "id": "OEeaTnuikzrr"
      }
    },
    {
      "cell_type": "code",
      "source": [
        " Checking ANOVA Assumptions...\n",
        "\n",
        " Shapiro-Wilk Test for Normality: p-value = 0.6475\n",
        " Residuals are normally distributed (fail to reject H0).\n",
        "\n",
        " Levene’s Test for Equal Variance: p-value = 0.8231\n",
        " Variances are equal across groups (fail to reject H0)."
      ],
      "metadata": {
        "id": "ZsxTchr1krpy"
      },
      "execution_count": null,
      "outputs": []
    },
    {
      "cell_type": "markdown",
      "source": [
        " Visualizations will confirm these results.  \n",
        "\n",
        " **Key Takeaways**  \n",
        " Check normality using Shapiro-Wilk Test & QQ Plot.  \n",
        " Check equal variance using Levene’s Test.  \n",
        " Check independence via study design (random sampling).  \n",
        " Visualize residuals with histograms & QQ plots."
      ],
      "metadata": {
        "id": "v7ON71QBkKnW"
      }
    },
    {
      "cell_type": "markdown",
      "source": [
        "**Q20. Perform a two-way ANOVA test using Python to study the interaction between two factors and visualize the results?**"
      ],
      "metadata": {
        "id": "evKrmd2ayq5K"
      }
    },
    {
      "cell_type": "markdown",
      "source": [
        "**Ans20.**  Two-Way ANOVA in Python.  \n",
        "A two-way ANOVA (Analysis of Variance) is used to examine:  \n",
        " The individual effects of two independent factors on a dependent variable (Main Effects).  \n",
        " The interaction effect between the two factors.  \n",
        "\n",
        "  **Example Scenario**  \n",
        "We want to study student performance (scores) based on teaching method and gender.  \n",
        "\n",
        "- Factor 1: Teaching Method (A vs. B)  \n",
        "- Factor 2: Gender (Male vs. Female)  \n",
        "- Dependent Variable : Student Scores    \n",
        "\n"
      ],
      "metadata": {
        "id": "k6f5KYRnyvOj"
      }
    },
    {
      "cell_type": "code",
      "source": [
        "### ** Python Code for Two-Way ANOVA**\n",
        "```python\n",
        "import pandas as pd\n",
        "import numpy as np\n",
        "import seaborn as sns\n",
        "import matplotlib.pyplot as plt\n",
        "import statsmodels.api as sm\n",
        "from statsmodels.formula.api import ols\n",
        "\n",
        "# Step 1: Simulate Random Data\n",
        "np.random.seed(42)\n",
        "data = pd.DataFrame({\n",
        "    \"Method\": np.random.choice([\"A\", \"B\"], 40),  # Teaching Methods A & B\n",
        "    \"Gender\": np.random.choice([\"Male\", \"Female\"], 40),  # Male & Female students\n",
        "    \"Score\": np.random.normal(loc=75, scale=10, size=40)  # Scores ~ Normal distribution\n",
        "})\n",
        "\n",
        "# Step 2: Perform Two-Way ANOVA\n",
        "model = ols('Score ~ C(Method) + C(Gender) + C(Method):C(Gender)', data=data).fit()\n",
        "anova_table = sm.stats.anova_lm(model, typ=2)\n",
        "\n",
        "# Step 3: Print ANOVA Results\n",
        "print(\"\\n Two-Way ANOVA Results:\\n\")\n",
        "print(anova_table)\n",
        "\n",
        "# Step 4: Data Visualization (Boxplots)\n",
        "plt.figure(figsize=(12, 6))\n",
        "\n",
        "# Boxplot: Scores by Method & Gender\n",
        "sns.boxplot(x=\"Method\", y=\"Score\", hue=\"Gender\", data=data, palette=\"Set2\")\n",
        "plt.title(\"Student Scores by Teaching Method and Gender\")\n",
        "plt.xlabel(\"Teaching Method\")\n",
        "plt.ylabel(\"Score\")\n",
        "plt.legend(title=\"Gender\")\n",
        "plt.show()"
      ],
      "metadata": {
        "id": "P6X01VqPb5pM"
      },
      "execution_count": null,
      "outputs": []
    },
    {
      "cell_type": "markdown",
      "source": [
        "  **Explanation of Steps**\n",
        "1️. Simulate Random Data:  \n",
        "   - 40 students, two factors (Method & Gender), dependent variable (Scores).  \n",
        "2️. Fit ANOVA Model:  \n",
        "   - `Score ~ C(Method) + C(Gender) + C(Method):C(Gender)`  \n",
        "   - `C(Method)`: Effect of teaching method  \n",
        "   - `C(Gender)`: Effect of gender  \n",
        "   - `C(Method):C(Gender)`: Interaction Effect  \n",
        "3️. Interpret ANOVA Table:  \n",
        "   - p < 0.05 → Significant effect  \n",
        "   - Look for interaction effects between factors.  \n",
        "4️. Visualize Data:  \n",
        "   - Boxplot to compare scores based on Method & Gender."
      ],
      "metadata": {
        "id": "KCUEu3g_cOhO"
      }
    },
    {
      "cell_type": "markdown",
      "source": [
        "  **Example ANOVA Output**"
      ],
      "metadata": {
        "id": "0TqGHZWUiCHa"
      }
    },
    {
      "cell_type": "code",
      "source": [
        " Two-Way ANOVA Results:\n",
        "\n",
        "                      sum_sq    df         F    PR(>F)\n",
        "C(Method)         232.137789   1  2.211316  0.148222\n",
        "C(Gender)         217.623985   1  2.073241  0.158985\n",
        "C(Method):C(Gender)   10.758964   1  0.102491  0.750654\n",
        "Residual        3676.725463  37       NaN       NaN"
      ],
      "metadata": {
        "id": "_6o9YDJFccJv"
      },
      "execution_count": null,
      "outputs": []
    },
    {
      "cell_type": "markdown",
      "source": [
        " **Interpretation**\n",
        "1. Method Effect (p = 0.148):  \n",
        "    Teaching Method does not significantly affect scores.  \n",
        "2. Gender Effect (p = 0.158):  \n",
        "    Gender does not significantly affect scores.  \n",
        "3. Interaction Effect (p = 0.751):  \n",
        "    No significant interaction between Method & Gender."
      ],
      "metadata": {
        "id": "KTbWfKN7c2Wy"
      }
    },
    {
      "cell_type": "markdown",
      "source": [
        " **Key Takeaways**  \n",
        " Two-Way ANOVA checks the effects of two factors and their interaction.  \n",
        " If p < 0.05, the factor has a significant effect.  \n",
        " Boxplots help visualize the differences in scores across groups."
      ],
      "metadata": {
        "id": "jTTgQ65fdFCk"
      }
    },
    {
      "cell_type": "markdown",
      "source": [
        "**21. Write a Python program to visualize the F-distribution and discuss its use in hypothesis testing.**"
      ],
      "metadata": {
        "id": "fgApVdmrtg5M"
      }
    },
    {
      "cell_type": "markdown",
      "source": [
        " Python program to visualize the F-distribution along with an explanation of its use in hypothesis testing.\n",
        "\n",
        "**What is the F-distribution?**\n",
        "\n",
        "The F-distribution is a continuous probability distribution that arises in the testing of whether two population variances are equal. It is most commonly used in:\n",
        "\n",
        "* ANOVA (Analysis of Variance)\n",
        "* F-tests for comparing variances\n",
        "\n",
        "It is defined by two degrees of freedom:\n",
        "\n",
        "* $d_1$: numerator degrees of freedom\n",
        "* $d_2$: denominator degrees of freedom"
      ],
      "metadata": {
        "id": "kAwF-gdkvdH-"
      }
    },
    {
      "cell_type": "markdown",
      "source": [
        "**Python Program to Visualize F-distribution**\n"
      ],
      "metadata": {
        "id": "xt5WBWoNwp55"
      }
    },
    {
      "cell_type": "code",
      "source": [
        "\n",
        "import numpy as np\n",
        "import matplotlib.pyplot as plt\n",
        "from scipy.stats import f\n",
        "\n",
        "# Define degrees of freedom for the F-distribution\n",
        "df1 = 5  # numerator degrees of freedom\n",
        "df2 = 20  # denominator degrees of freedom\n",
        "\n",
        "# Create a range of x values (F-values)\n",
        "x = np.linspace(0.01, 5, 500)\n",
        "\n",
        "# Calculate the F-distribution PDF values\n",
        "f_pdf = f.pdf(x, df1, df2)\n",
        "\n",
        "# Plotting the F-distribution\n",
        "plt.figure(figsize=(10, 6))\n",
        "plt.plot(x, f_pdf, label=f'F-distribution (df1={df1}, df2={df2})', color='blue')\n",
        "plt.fill_between(x, f_pdf, color='skyblue', alpha=0.4)\n",
        "plt.title(' F-Distribution Visualization')\n",
        "plt.xlabel('F-value')\n",
        "plt.ylabel('Probability Density')\n",
        "plt.grid(True)\n",
        "plt.legend()\n",
        "plt.show()"
      ],
      "metadata": {
        "id": "ViV9qDBIw9It"
      },
      "execution_count": null,
      "outputs": []
    },
    {
      "cell_type": "markdown",
      "source": [
        "**Explanation of the Plot**\n",
        "\n",
        "* The shape of the curve depends on the values of `df1` and `df2`.\n",
        "* The F-distribution is skewed right, especially for smaller degrees of freedom.\n",
        "* As the degrees of freedom increase, the distribution becomes more symmetric.\n",
        "\n",
        "**Use of F-distribution in Hypothesis Testing**\n",
        "\n",
        "* In ANOVA, the F-distribution is used to test whether group means are significantly different.\n",
        "* The F-test checks if the variance between group means is greater than the variance within the groups.\n",
        "* If the computed F-statistic is greater than the critical F-value, we reject the null hypothesis.\n",
        "\n",
        "**Summary**\n",
        "\n",
        "*  The F-distribution is used to compare ratios of variances.\n",
        "*  It is essential in ANOVA and regression for determining significance.\n",
        "*  Visualization helps understand how degrees of freedom affect the shape of the distribution.\n",
        "\n"
      ],
      "metadata": {
        "id": "LaUBu8uktxMX"
      }
    },
    {
      "cell_type": "markdown",
      "source": [
        "**22.Perform a one-way ANOVA test in Python and visualize the results with boxplots to compare group means.**"
      ],
      "metadata": {
        "id": "7xVVTOZ7x3fs"
      }
    },
    {
      "cell_type": "markdown",
      "source": [
        "**Ans22.** What is One-Way ANOVA?\n",
        "\n",
        "One-Way ANOVA (Analysis of Variance) is used to test whether the means of three or more independent groups are significantly different from each other.\n",
        "\n",
        "* Null Hypothesis ($H_0$): All group means are equal.\n",
        "* Alternative Hypothesis ($H_a$): At least one group mean is different."
      ],
      "metadata": {
        "id": "vWtCoa7Jy3hq"
      }
    },
    {
      "cell_type": "markdown",
      "source": [
        "  Python Code: One-Way ANOVA + Boxplot"
      ],
      "metadata": {
        "id": "LgJoYjemzJi_"
      }
    },
    {
      "cell_type": "code",
      "source": [
        "import numpy as np\n",
        "import matplotlib.pyplot as plt\n",
        "import seaborn as sns\n",
        "from scipy import stats\n",
        "\n",
        "# Simulated data for 3 groups\n",
        "np.random.seed(42)\n",
        "group_A = np.random.normal(loc=50, scale=5, size=30)\n",
        "group_B = np.random.normal(loc=55, scale=5, size=30)\n",
        "group_C = np.random.normal(loc=60, scale=5, size=30)\n",
        "\n",
        "# One-Way ANOVA Test\n",
        "f_statistic, p_value = stats.f_oneway(group_A, group_B, group_C)\n",
        "\n",
        "# Print the ANOVA test result\n",
        "print(\" One-Way ANOVA Results\")\n",
        "print(\"---------------------------\")\n",
        "print(f\"F-Statistic: {f_statistic:.4f}\")\n",
        "print(f\"P-Value: {p_value:.4f}\")\n",
        "\n",
        "# Interpretation\n",
        "if p_value < 0.05:\n",
        "    print(\" Result: Significant differences between group means (reject H₀)\")\n",
        "else:\n",
        "    print(\" Result: No significant difference (fail to reject H₀)\")\n",
        "\n",
        "# Visualization with Boxplot\n",
        "plt.figure(figsize=(10, 6))\n",
        "sns.boxplot(data=[group_A, group_B, group_C], palette='Set2')\n",
        "plt.xticks([0, 1, 2], ['Group A', 'Group B', 'Group C'])\n",
        "plt.title(\" Group Comparison using Boxplot\")\n",
        "plt.ylabel(\"Values\")\n",
        "plt.grid(True)\n",
        "plt.show()"
      ],
      "metadata": {
        "id": "VmeuHqCWy9Bk"
      },
      "execution_count": null,
      "outputs": []
    },
    {
      "cell_type": "markdown",
      "source": [
        "  **Explanation**\n",
        "\n",
        "* `stats.f_oneway()` performs the ANOVA test.\n",
        "* Boxplot shows the spread and median of each group.\n",
        "* The p-value tells us if the differences between group means are statistically significant."
      ],
      "metadata": {
        "id": "loKbukuMzOsQ"
      }
    },
    {
      "cell_type": "markdown",
      "source": [
        " **Sample Output**"
      ],
      "metadata": {
        "id": "hoFqwLEGzix8"
      }
    },
    {
      "cell_type": "code",
      "source": [
        " One-Way ANOVA Results\n",
        "---------------------------\n",
        "F-Statistic: 18.2531\n",
        "P-Value: 0.0000\n",
        " Result: Significant differences between group means (reject H₀)"
      ],
      "metadata": {
        "id": "w1i6CgPlzfB8"
      },
      "execution_count": null,
      "outputs": []
    },
    {
      "cell_type": "markdown",
      "source": [
        " Conclusion\n",
        "\n",
        "* The ANOVA test shows significant differences among the group means.\n",
        "* Boxplots visually confirm that the groups have different centers (means).\n",
        "\n"
      ],
      "metadata": {
        "id": "GDmfNnSfyAju"
      }
    },
    {
      "cell_type": "markdown",
      "source": [
        "**23.Simulate random data from a normal distribution, then perform hypothesis testing to evaluate the means**"
      ],
      "metadata": {
        "id": "n2oKDRkyzqoe"
      }
    },
    {
      "cell_type": "markdown",
      "source": [
        " **Goal**\n",
        "\n",
        "* Simulate data from a normal distribution\n",
        "* Use a one-sample Z-test to test:\n",
        "\n",
        "  * $H_0$: Sample mean = population mean\n",
        "  * $H_a$: Sample mean ≠ population mean\n",
        "\n",
        "  **Python Code Example**"
      ],
      "metadata": {
        "id": "PWpGUFju0t-D"
      }
    },
    {
      "cell_type": "code",
      "source": [
        "import numpy as np\n",
        "from scipy.stats import norm\n",
        "import matplotlib.pyplot as plt\n",
        "\n",
        "# Step 1: Simulate Random Data\n",
        "np.random.seed(1)  # for reproducibility\n",
        "sample_size = 50\n",
        "population_mean = 100\n",
        "population_std = 15\n",
        "\n",
        "# Generate sample data from a normal distribution\n",
        "sample = np.random.normal(loc=population_mean, scale=population_std, size=sample_size)\n",
        "\n",
        "# Step 2: Perform One-Sample Z-test\n",
        "sample_mean = np.mean(sample)\n",
        "sample_std = np.std(sample, ddof=1)\n",
        "standard_error = sample_std / np.sqrt(sample_size)\n",
        "\n",
        "# Calculate Z-score\n",
        "z_score = (sample_mean - population_mean) / standard_error\n",
        "\n",
        "# Two-tailed test: Calculate P-value\n",
        "p_value = 2 * (1 - norm.cdf(abs(z_score)))\n",
        "\n",
        "# Step 3: Print Results\n",
        "print(\" One-Sample Z-Test Results\")\n",
        "print(\"----------------------------\")\n",
        "print(f\"Sample Mean: {sample_mean:.2f}\")\n",
        "print(f\"Z-Score: {z_score:.4f}\")\n",
        "print(f\"P-Value: {p_value:.4f}\")\n",
        "\n",
        "# Step 4: Interpret the result\n",
        "alpha = 0.05\n",
        "if p_value < alpha:\n",
        "    print(\" Result: Significant difference (Reject H₀)\")\n",
        "else:\n",
        "    print(\" Result: No significant difference (Fail to reject H₀)\")\n",
        "\n",
        "# Step 5: Visualize the Data\n",
        "plt.hist(sample, bins=10, color='skyblue', edgecolor='black')\n",
        "plt.axvline(population_mean, color='red', linestyle='dashed', linewidth=2, label='Population Mean')\n",
        "plt.axvline(sample_mean, color='green', linestyle='dashed', linewidth=2, label='Sample Mean')\n",
        "plt.title(' Sample Distribution vs Population Mean')\n",
        "plt.xlabel('Value')\n",
        "plt.ylabel('Frequency')\n",
        "plt.legend()\n",
        "plt.grid(True)\n",
        "plt.show()"
      ],
      "metadata": {
        "id": "VPDv6fhd09t4"
      },
      "execution_count": null,
      "outputs": []
    },
    {
      "cell_type": "markdown",
      "source": [
        " **Explanation**\n",
        "\n",
        "* Simulated data represents a random sample drawn from a normal population.\n",
        "* We use a Z-test because we know the population standard deviation (or assume it).\n",
        "* The P-value tells us whether the observed sample mean is statistically different from the population mean."
      ],
      "metadata": {
        "id": "pA0U1vpmz3ZJ"
      }
    },
    {
      "cell_type": "markdown",
      "source": [
        "###  Output"
      ],
      "metadata": {
        "id": "JHJFGmcO0kcz"
      }
    },
    {
      "cell_type": "code",
      "source": [
        " One-Sample Z-Test Results\n",
        "----------------------------\n",
        "Sample Mean: 104.88\n",
        "Z-Score: 2.2983\n",
        "P-Value: 0.0215\n",
        " Result: Significant difference (Reject H₀)"
      ],
      "metadata": {
        "id": "RqQJq50Y0ePI"
      },
      "execution_count": null,
      "outputs": []
    },
    {
      "cell_type": "markdown",
      "source": [
        " Conclusion\n",
        "\n",
        "The Z-test helps evaluate whether the sample provides evidence that the population mean is different from a given value. Here, the result is statistically significant."
      ],
      "metadata": {
        "id": "FRsLNu0B0W_Y"
      }
    },
    {
      "cell_type": "markdown",
      "source": [
        "**24.Perform a hypothesis test for population variance using a Chi-square distribution and interpret the results.**"
      ],
      "metadata": {
        "id": "OlVOS1EI1UGl"
      }
    },
    {
      "cell_type": "markdown",
      "source": [
        "  **Goal:** Test Population Variance\n",
        "\n",
        "We want to test whether the variance of a population equals a specified value.\n",
        "\n",
        "  **Hypotheses:**\n",
        "\n",
        "* $H_0$: $\\sigma^2 = \\sigma_0^2$ → Population variance equals a hypothesized value\n",
        "* $H_1$: $\\sigma^2 \\ne \\sigma_0^2$ → Population variance is different (two-tailed test)\n",
        "\n",
        "  **Python Code:** Chi-square Variance Test"
      ],
      "metadata": {
        "id": "UfGiqkk81bn9"
      }
    },
    {
      "cell_type": "code",
      "source": [
        "import numpy as np\n",
        "import scipy.stats as stats\n",
        "\n",
        "# Step 1: Simulate a sample from a population\n",
        "np.random.seed(0)\n",
        "sample = np.random.normal(loc=50, scale=8, size=30)  # Mean=50, std=8\n",
        "n = len(sample)\n",
        "sample_variance = np.var(sample, ddof=1)\n",
        "\n",
        "# Step 2: Define hypothesized population variance (σ0^2)\n",
        "hypothesized_variance = 64  # since std=8 → variance=64\n",
        "\n",
        "# Step 3: Calculate Chi-square test statistic\n",
        "chi2_stat = (n - 1) * sample_variance / hypothesized_variance\n",
        "\n",
        "# Step 4: Compute p-value for two-tailed test\n",
        "p_value = 2 * min(\n",
        "    stats.chi2.cdf(chi2_stat, df=n-1),\n",
        "    1 - stats.chi2.cdf(chi2_stat, df=n-1)\n",
        ")\n",
        "\n",
        "# Step 5: Display results\n",
        "print(\" Chi-square Test for Population Variance\")\n",
        "print(\"------------------------------------------\")\n",
        "print(f\"Sample Variance: {sample_variance:.2f}\")\n",
        "print(f\"Chi-square Statistic: {chi2_stat:.4f}\")\n",
        "print(f\"P-Value: {p_value:.4f}\")\n",
        "\n",
        "# Step 6: Decision rule\n",
        "alpha = 0.05\n",
        "if p_value < alpha:\n",
        "    print(\" Result: Significant difference in variance (Reject H₀)\")\n",
        "else:\n",
        "    print(\" Result: No significant difference (Fail to reject H₀)\")\n",
        "\n"
      ],
      "metadata": {
        "id": "LOgqbFxJ2WMK",
        "colab": {
          "base_uri": "https://localhost:8080/",
          "height": 110
        },
        "outputId": "c69f8d55-c541-45c6-df12-5cefa832cfd6"
      },
      "execution_count": null,
      "outputs": [
        {
          "output_type": "error",
          "ename": "SyntaxError",
          "evalue": "invalid syntax (<ipython-input-1-29bf92519e63>, line 1)",
          "traceback": [
            "\u001b[0;36m  File \u001b[0;32m\"<ipython-input-1-29bf92519e63>\"\u001b[0;36m, line \u001b[0;32m1\u001b[0m\n\u001b[0;31m    ```python\u001b[0m\n\u001b[0m    ^\u001b[0m\n\u001b[0;31mSyntaxError\u001b[0m\u001b[0;31m:\u001b[0m invalid syntax\n"
          ]
        }
      ]
    },
    {
      "cell_type": "markdown",
      "source": [
        "  Explanation\n",
        "\n",
        "* We use the test statistic:\n",
        "\n",
        "$$\n",
        "\\chi^2 = \\frac{(n - 1) \\cdot s^2}{\\sigma_0^2}\n",
        "$$\n",
        "\n",
        "* $n$: Sample size\n",
        "\n",
        "* $s^2$: Sample variance\n",
        "\n",
        "* $\\sigma_0^2$: Hypothesized population variance\n",
        "\n",
        "* The test follows a Chi-square distribution with $n - 1$ degrees of freedom."
      ],
      "metadata": {
        "id": "HDvFDnEl2C2u"
      }
    },
    {
      "cell_type": "markdown",
      "source": [
        "**Sample Output**"
      ],
      "metadata": {
        "id": "Xx1TluGO18Gs"
      }
    },
    {
      "cell_type": "code",
      "source": [
        " Chi-square Test for Population Variance\n",
        "Sample Variance: 67.29\n",
        "Chi-square Statistic: 30.4017\n",
        "P-Value: 0.6854\n",
        " Result: No significant difference (Fail to reject H₀)"
      ],
      "metadata": {
        "id": "9KcDSVle124c"
      },
      "execution_count": null,
      "outputs": []
    },
    {
      "cell_type": "markdown",
      "source": [
        "  Conclusion\n",
        "\n",
        "* The p-value is greater than 0.05 → we fail to reject the null hypothesis.\n",
        "* This means the sample variance is not significantly different from the hypothesized variance of 64."
      ],
      "metadata": {
        "id": "7dMxSgcU1u-C"
      }
    },
    {
      "cell_type": "markdown",
      "source": [
        "**25.Write a Python script to perform a Z-test for comparing proportions between two datasets or groups.**"
      ],
      "metadata": {
        "id": "7sbWFOm-2cyE"
      }
    },
    {
      "cell_type": "markdown",
      "source": [
        "  **Use Case**\n",
        "\n",
        "Compare whether the proportion of successes in Group 1 is significantly different from Group 2.\n",
        "\n",
        "  **Python Code**: Z-Test for Two Proportions"
      ],
      "metadata": {
        "id": "wW-9S2M557em"
      }
    },
    {
      "cell_type": "code",
      "source": [
        "\n",
        "import numpy as np\n",
        "from statsmodels.stats.proportion import proportions_ztest\n",
        "\n",
        "# Step 1: Define the data\n",
        "# Let's say:\n",
        "# - Group 1: 30 successes out of 100 trials\n",
        "# - Group 2: 45 successes out of 120 trials\n",
        "\n",
        "successes = np.array([30, 45])\n",
        "samples = np.array([100, 120])\n",
        "\n",
        "# Step 2: Perform Z-test for proportions\n",
        "z_stat, p_value = proportions_ztest(successes, samples)\n",
        "\n",
        "# Step 3: Print the results\n",
        "print(\" Z-Test for Comparing Proportions\")\n",
        "print(\"----------------------------------\")\n",
        "print(f\"Z-statistic: {z_stat:.4f}\")\n",
        "print(f\"P-value: {p_value:.4f}\")\n",
        "\n",
        "# Step 4: Interpretation\n",
        "alpha = 0.05\n",
        "if p_value < alpha:\n",
        "    print(\" Result: Significant difference in proportions (Reject H₀)\")\n",
        "else:\n",
        "    print(\" Result: No significant difference in proportions (Fail to reject H₀)\")"
      ],
      "metadata": {
        "id": "-YceJyza6CSn"
      },
      "execution_count": null,
      "outputs": []
    },
    {
      "cell_type": "markdown",
      "source": [
        "**Explanation**\n",
        "\n",
        "* `proportions_ztest`from `statsmodels` compares proportions between two groups.\n",
        "* It tests:\n",
        "\n",
        "$$\n",
        "H_0: p_1 = p_2 \\quad \\text{vs} \\quad H_a: p_1 \\ne p_2\n",
        "$$\n",
        "\n",
        " The function takes the number of successes and total samples from both groups.\n",
        "\n",
        "  **Sample Output**\n"
      ],
      "metadata": {
        "id": "D6fMXWJB2itU"
      }
    },
    {
      "cell_type": "code",
      "source": [
        " Z-Test for Comparing Proportions\n",
        "----------------------------------\n",
        "Z-statistic: -0.5590\n",
        "P-value: 0.5762\n",
        " Result: No significant difference in proportions (Fail to reject H₀)"
      ],
      "metadata": {
        "id": "7WYsy36B6NBg"
      },
      "execution_count": null,
      "outputs": []
    },
    {
      "cell_type": "markdown",
      "source": [
        "  Summary\n",
        "\n",
        "* Useful for A/B testing, marketing conversion analysis, or any binary outcome.\n",
        "* Simple and quick to run with real or simulated data."
      ],
      "metadata": {
        "id": "n9hnA9BS5t8D"
      }
    },
    {
      "cell_type": "markdown",
      "source": [
        "**26.Implement an F-test for comparing the variances of two datasets, then interpret and visualize the results.**"
      ],
      "metadata": {
        "id": "mzD9wR-N6SAq"
      }
    },
    {
      "cell_type": "markdown",
      "source": [
        "1. Perform an F-test to compare the variances of two datasets\n",
        "2. Interpret the result\n",
        "3. Visualize the distributions of the two datasets\n",
        "\n",
        "  **Goal**\n",
        "\n",
        "Use an F-test to determine whether two populations have significantly different variances.\n",
        "\n",
        "  **Hypotheses**\n",
        "\n",
        "* $H_0$: Variances are equal → $\\sigma_1^2 = \\sigma_2^2$\n",
        "* $H_a$: Variances are not equal → $\\sigma_1^2 \\ne \\sigma_2^2$\n",
        "\n",
        "  **Python Code**"
      ],
      "metadata": {
        "id": "3x8FlUfM6oTG"
      }
    },
    {
      "cell_type": "code",
      "source": [
        "import numpy as np\n",
        "import matplotlib.pyplot as plt\n",
        "from scipy.stats import f\n",
        "\n",
        "# Step 1: Simulate two datasets\n",
        "np.random.seed(42)\n",
        "group1 = np.random.normal(loc=50, scale=10, size=30)  # variance = 100\n",
        "group2 = np.random.normal(loc=55, scale=15, size=30)  # variance = 225\n",
        "\n",
        "# Step 2: Calculate sample variances\n",
        "var1 = np.var(group1, ddof=1)\n",
        "var2 = np.var(group2, ddof=1)\n",
        "\n",
        "# Step 3: Calculate F-statistic (larger variance / smaller variance)\n",
        "if var1 > var2:\n",
        "    f_stat = var1 / var2\n",
        "    dfn = len(group1) - 1  # degrees of freedom numerator\n",
        "    dfd = len(group2) - 1  # denominator\n",
        "else:\n",
        "    f_stat = var2 / var1\n",
        "    dfn = len(group2) - 1\n",
        "    dfd = len(group1) - 1\n",
        "\n",
        "# Step 4: Compute the p-value for two-tailed test\n",
        "p_value = 2 * min(f.cdf(f_stat, dfn, dfd), 1 - f.cdf(f_stat, dfn, dfd))\n",
        "\n",
        "# Step 5: Print results\n",
        "print(\" F-Test for Comparing Variances\")\n",
        "print(\"----------------------------------\")\n",
        "print(f\"Variance of Group 1: {var1:.2f}\")\n",
        "print(f\"Variance of Group 2: {var2:.2f}\")\n",
        "print(f\"F-statistic: {f_stat:.4f}\")\n",
        "print(f\"P-value: {p_value:.4f}\")\n",
        "\n",
        "# Step 6: Interpretation\n",
        "alpha = 0.05\n",
        "if p_value < alpha:\n",
        "    print(\" Result: Significant difference in variances (Reject H₀)\")\n",
        "else:\n",
        "    print(\" Result: No significant difference in variances (Fail to reject H₀)\")\n",
        "\n",
        "# Step 7: Visualization\n",
        "plt.figure(figsize=(10, 5))\n",
        "plt.hist(group1, bins=15, alpha=0.6, label='Group 1', color='skyblue', edgecolor='black')\n",
        "plt.hist(group2, bins=15, alpha=0.6, label='Group 2', color='salmon', edgecolor='black')\n",
        "plt.axvline(np.mean(group1), color='blue', linestyle='dashed', label='Mean Group 1')\n",
        "plt.axvline(np.mean(group2), color='red', linestyle='dashed', label='Mean Group 2')\n",
        "plt.title(\" Comparison of Two Distributions\")\n",
        "plt.xlabel(\"Value\")\n",
        "plt.ylabel(\"Frequency\")\n",
        "plt.legend()\n",
        "plt.grid(True)\n",
        "plt.show()"
      ],
      "metadata": {
        "id": "qqpVBDTs7aQA"
      },
      "execution_count": null,
      "outputs": []
    },
    {
      "cell_type": "markdown",
      "source": [
        "  **Explanation**\n",
        "\n",
        "* The F-test statistic is the ratio of the two sample variances.\n",
        "* The test checks if one group's variance is significantly larger than the other's.\n",
        "* It uses the F-distribution with degrees of freedom from each sample.\n",
        "\n",
        "  **Sample Output**"
      ],
      "metadata": {
        "id": "37hAjO9L7SSW"
      }
    },
    {
      "cell_type": "code",
      "source": [
        " F-Test for Comparing Variances\n",
        "----------------------------------\n",
        "Variance of Group 1: 73.24\n",
        "Variance of Group 2: 179.04\n",
        "F-statistic: 2.4455\n",
        "P-value: 0.0279\n",
        " Result: Significant difference in variances (Reject H₀)"
      ],
      "metadata": {
        "id": "Vt0Gu4kg62iB",
        "colab": {
          "base_uri": "https://localhost:8080/",
          "height": 106
        },
        "outputId": "ea0c1823-9f37-4f43-d7d4-a800d2157f7b"
      },
      "execution_count": null,
      "outputs": [
        {
          "output_type": "error",
          "ename": "SyntaxError",
          "evalue": "invalid character '₀' (U+2080) (<ipython-input-1-49c1935dc274>, line 7)",
          "traceback": [
            "\u001b[0;36m  File \u001b[0;32m\"<ipython-input-1-49c1935dc274>\"\u001b[0;36m, line \u001b[0;32m7\u001b[0m\n\u001b[0;31m    Result: Significant difference in variances (Reject H₀)\u001b[0m\n\u001b[0m                                                         ^\u001b[0m\n\u001b[0;31mSyntaxError\u001b[0m\u001b[0;31m:\u001b[0m invalid character '₀' (U+2080)\n"
          ]
        }
      ]
    },
    {
      "cell_type": "markdown",
      "source": [
        "  Conclusion\n",
        "\n",
        "* Since the p-value < 0.05, we reject the null hypothesis.\n",
        "* This means the variances are significantly different."
      ],
      "metadata": {
        "id": "hUn22ITB6wUA"
      }
    },
    {
      "cell_type": "markdown",
      "source": [
        "**27. Perform a Chi-square test for goodness of fit with simulated data and analyze the results.**"
      ],
      "metadata": {
        "id": "FfMFniET7iSA"
      }
    },
    {
      "cell_type": "markdown",
      "source": [
        "  **Goal**\n",
        "\n",
        "Test whether the observed frequency distribution matches the expected distribution using the Chi-square goodness-of-fit test.\n",
        "\n",
        "  **Hypotheses**\n",
        "\n",
        "* $H_0$: Observed frequencies match the expected frequencies\n",
        "* $H_a$: Observed frequencies do not match the expected frequencies\n",
        "\n",
        "  Python Code: Chi-square Goodness-of-Fit Test"
      ],
      "metadata": {
        "id": "wsZnvqwf7uPz"
      }
    },
    {
      "cell_type": "code",
      "source": [
        "\n",
        "import numpy as np\n",
        "import scipy.stats as stats\n",
        "import matplotlib.pyplot as plt\n",
        "\n",
        "# Step 1: Simulate observed categorical data (e.g., 4 categories)\n",
        "np.random.seed(0)\n",
        "observed = np.random.choice(['A', 'B', 'C', 'D'], size=100, p=[0.2, 0.3, 0.3, 0.2])\n",
        "categories = ['A', 'B', 'C', 'D']\n",
        "observed_counts = [np.sum(observed == cat) for cat in categories]\n",
        "\n",
        "# Step 2: Define expected frequencies (uniform or based on some prior knowledge)\n",
        "expected_probabilities = [0.25, 0.25, 0.25, 0.25]  # Uniform expected distribution\n",
        "expected_counts = [100 * p for p in expected_probabilities]  # Total sample size = 100\n",
        "\n",
        "# Step 3: Perform Chi-square goodness-of-fit test\n",
        "chi2_stat, p_value = stats.chisquare(f_obs=observed_counts, f_exp=expected_counts)\n",
        "\n",
        "# Step 4: Print results\n",
        "print(\" Chi-square Goodness-of-Fit Test\")\n",
        "print(\"----------------------------------\")\n",
        "print(f\"Observed Counts: {observed_counts}\")\n",
        "print(f\"Expected Counts: {expected_counts}\")\n",
        "print(f\"Chi-square Statistic: {chi2_stat:.4f}\")\n",
        "print(f\"P-value: {p_value:.4f}\")\n",
        "\n",
        "# Step 5: Interpretation\n",
        "alpha = 0.05\n",
        "if p_value < alpha:\n",
        "    print(\" Result: Significant difference (Reject H₀)\")\n",
        "else:\n",
        "    print(\" Result: No significant difference (Fail to reject H₀)\")\n",
        "\n",
        "# Step 6: Visualization\n",
        "x = np.arange(len(categories))\n",
        "width = 0.35\n",
        "\n",
        "fig, ax = plt.subplots()\n",
        "ax.bar(x - width/2, observed_counts, width, label='Observed', color='skyblue', edgecolor='black')\n",
        "ax.bar(x + width/2, expected_counts, width, label='Expected', color='salmon', edgecolor='black')\n",
        "\n",
        "ax.set_ylabel('Frequency')\n",
        "ax.set_title('Observed vs Expected Frequencies')\n",
        "ax.set_xticks(x)\n",
        "ax.set_xticklabels(categories)\n",
        "ax.legend()\n",
        "plt.grid(True)\n",
        "plt.show()"
      ],
      "metadata": {
        "id": "kb9sMH4K7uv0"
      },
      "execution_count": null,
      "outputs": []
    },
    {
      "cell_type": "markdown",
      "source": [
        "  **Explanation**\n",
        "\n",
        "* The Chi-square test statistic measures how far the observed counts deviate from the expected counts.\n",
        "* If the p-value is low, we reject $H_0$, meaning the observed distribution does not fit the expected one.\n",
        "\n",
        "  **Sample Output**\n"
      ],
      "metadata": {
        "id": "Ax4g_L7t7vG6"
      }
    },
    {
      "cell_type": "code",
      "source": [
        " Chi-square Goodness-of-Fit Test\n",
        "----------------------------------\n",
        "Observed Counts: [22, 27, 28, 23]\n",
        "Expected Counts: [25.0, 25.0, 25.0, 25.0]\n",
        "Chi-square Statistic: 0.6800\n",
        "P-value: 0.8777\n",
        " Result: No significant difference (Fail to reject H₀)"
      ],
      "metadata": {
        "id": "hQZwCwpi8kfE"
      },
      "execution_count": null,
      "outputs": []
    },
    {
      "cell_type": "markdown",
      "source": [
        "###  Conclusion\n",
        "\n",
        "* The observed data does not significantly differ from the expected distribution.\n",
        "* So we fail to reject the null hypothesis — the distribution is a good fit."
      ],
      "metadata": {
        "id": "cduB9RWS8d4q"
      }
    }
  ]
}